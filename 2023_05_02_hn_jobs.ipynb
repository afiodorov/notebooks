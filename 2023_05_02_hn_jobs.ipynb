{
 "cells": [
  {
   "cell_type": "code",
   "execution_count": 1,
   "id": "1e349fda",
   "metadata": {},
   "outputs": [],
   "source": [
    "import os\n",
    "\n",
    "import requests\n",
    "\n",
    "from bs4 import BeautifulSoup\n",
    "from itertools import count\n",
    "\n",
    "import json\n",
    "from pathlib import Path\n",
    "from functools import lru_cache\n",
    "\n",
    "from dataclasses import dataclass\n",
    "\n",
    "from IPython.display import display, HTML"
   ]
  },
  {
   "cell_type": "code",
   "execution_count": 2,
   "id": "fe09cca7",
   "metadata": {},
   "outputs": [],
   "source": [
    "@dataclass(eq=True, frozen=True, kw_only=True)\n",
    "class Comment():\n",
    "    comment: str\n",
    "    author: str\n",
    "    id_: str\n",
    "        \n",
    "@dataclass(eq=True, frozen=True, kw_only=True)\n",
    "class CommentWithSummary():\n",
    "    c: Comment\n",
    "    summary: str"
   ]
  },
  {
   "cell_type": "code",
   "execution_count": 3,
   "id": "62a300a9",
   "metadata": {},
   "outputs": [],
   "source": [
    "def top_level_comments(page):\n",
    "    def is_top_level(el):\n",
    "        if 'noshow' in el.attrs['class']:\n",
    "            return False\n",
    "        \n",
    "        return el.parent.find('a', class_='clicky').text == 'prev'\n",
    "    \n",
    "    def make_comment(el):\n",
    "        author = el.parent.find('a', class_='hnuser').text\n",
    "        id_ = int(el.parent.find('span').find(\n",
    "            lambda x: x.has_attr('id') and x['id'].startswith('unv_'))['id'][4:])\n",
    "\n",
    "        return Comment(comment=el.find('span').text, author=author, id_=id_)\n",
    "    \n",
    "    response = requests.get(page)\n",
    "    if not response.ok:\n",
    "        return []\n",
    "    \n",
    "    soup = BeautifulSoup(response.content, 'html.parser')\n",
    "    return [make_comment(el) for el in soup.find_all('div', class_='comment') if is_top_level(el)]"
   ]
  },
  {
   "cell_type": "code",
   "execution_count": 4,
   "id": "0655e1bc",
   "metadata": {},
   "outputs": [],
   "source": [
    "all_comments = []\n",
    "\n",
    "for p in count(start=1): \n",
    "    all_comments.extend(more := top_level_comments(f\"https://news.ycombinator.com/item?id=35773707&p={p}\"))\n",
    "    if not more:\n",
    "        break"
   ]
  },
  {
   "cell_type": "code",
   "execution_count": 5,
   "id": "d17fa83e",
   "metadata": {},
   "outputs": [],
   "source": [
    "import openai\n",
    "\n",
    "openai.api_key = os.getenv(\"OPENAI_API_KEY\")\n",
    "\n",
    "@lru_cache(maxsize=None)\n",
    "def get_completion(instruction):\n",
    "    return openai.Completion.create(\n",
    "        model=\"text-davinci-003\",\n",
    "        prompt=instruction + \"\\n\",\n",
    "        temperature=0,\n",
    "        max_tokens=1000,\n",
    "        top_p=1,\n",
    "        frequency_penalty=0,\n",
    "        presence_penalty=0,\n",
    "    )[\"choices\"][0][\"text\"].strip()"
   ]
  },
  {
   "cell_type": "code",
   "execution_count": 6,
   "id": "e6f1f099",
   "metadata": {},
   "outputs": [],
   "source": [
    "data = []\n",
    "\n",
    "for c in all_comments:        \n",
    "    summary = get_completion(f\"\"\"\n",
    "Summarise key techologies & roles from the following comment, return a valid json-string:\n",
    "\n",
    "Example:\n",
    "OKRA.ai | Full-time roles Onsite (hybrid)| https://okra.ai/We build products that leverage AI from various technologies to provide insights to Healthcare experts to help them make better decisions for the best.We’re currently looking for our next colleagues:- Medior Data Engineer | Hybrid Leiden (NL) or Cambridge (UK) | Python, Airflow, Flask/FastAPI | https://rb.gy/h98uk- Medior Front-End Engineer | Hybrid - Leiden (NL) or Cambridge (UK) | React, Node, D3.js | https://rb.gy/4t7o0- Senior Machine Learning Data Scientist | Hybrid - Leiden (NL) | Python, XGBoost, CNN, Scikit-learn | https://rb.gy/8bkgo- Medior/Senior NLP Data Scientist | Hybrid - Leiden (NL) or Cambridge (UK) | Python, Transformers, CNN | https://rb.gy/9gyuiNice tech stack, highly fulfilling job, international team with a lot of space for growth!Feel free to check the links for the job desc and apply directly or contact our HR team at hr@okra.ai for any questions.\n",
    "\n",
    "Sould respond:\n",
    "{{\"roles\": [\"data engineer\", \"front-end engineer\", \"data scientist\"], \"techologies\": [\"python\", \"airflow\", \"flask\", \"fastapi\", \"react\", \"node\", \"xgboost\", \"cnn\", \"scikit-learn\", \"transformers\", \"ccn\"]}}\n",
    "\n",
    "Return a valid json string now with \"roles\" and \"techologies\" as top-level fields in the json:\n",
    "{c.comment}\n",
    "\"\"\")\n",
    "    data.append(CommentWithSummary(c=c.__dict__, summary=summary).__dict__) "
   ]
  },
  {
   "cell_type": "code",
   "execution_count": 9,
   "id": "526d3737",
   "metadata": {},
   "outputs": [],
   "source": [
    "decoded = []\n",
    "\n",
    "for c in data:\n",
    "    decoded.append(json.loads(c['summary']))"
   ]
  },
  {
   "cell_type": "code",
   "execution_count": 15,
   "id": "e0b4193a",
   "metadata": {},
   "outputs": [],
   "source": [
    "import pandas as pd"
   ]
  },
  {
   "cell_type": "code",
   "execution_count": 32,
   "id": "582e1151",
   "metadata": {
    "scrolled": false
   },
   "outputs": [
    {
     "data": {
      "text/plain": [
       "python              55\n",
       "typescript          42\n",
       "react               40\n",
       "aws                 29\n",
       "rust                19\n",
       "postgres            17\n",
       "go                  16\n",
       "kubernetes          14\n",
       "java                13\n",
       "javascript          13\n",
       "postgresql          13\n",
       "node                13\n",
       "django              12\n",
       "terraform           11\n",
       "graphql             10\n",
       "redis               10\n",
       "swift               10\n",
       "ai                   9\n",
       "ruby                 9\n",
       "kotlin               8\n",
       "docker               8\n",
       "devops               8\n",
       "rails                7\n",
       "machine learning     7\n",
       "golang               7\n",
       "gcp                  7\n",
       "linux                7\n",
       "backend              6\n",
       "ruby on rails        6\n",
       "c++                  6\n",
       "dtype: int64"
      ]
     },
     "execution_count": 32,
     "metadata": {},
     "output_type": "execute_result"
    }
   ],
   "source": [
    "pd.Series([t.lower() for d in decoded for t in d['techologies']]).value_counts()[:30]"
   ]
  },
  {
   "cell_type": "code",
   "execution_count": 31,
   "id": "ff2e3fac",
   "metadata": {},
   "outputs": [
    {
     "data": {
      "text/plain": [
       "0      16.99\n",
       "1      10.34\n",
       "2      21.01\n",
       "3      23.68\n",
       "4      24.59\n",
       "       ...  \n",
       "239    29.03\n",
       "240    27.18\n",
       "241    22.67\n",
       "242    17.82\n",
       "243    18.78\n",
       "Name: total_bill, Length: 244, dtype: float64"
      ]
     },
     "execution_count": 31,
     "metadata": {},
     "output_type": "execute_result"
    }
   ],
   "source": [
    "df['total_bill']"
   ]
  },
  {
   "cell_type": "code",
   "execution_count": 34,
   "id": "5023ed88",
   "metadata": {},
   "outputs": [
    {
     "data": {
      "text/plain": [
       "software engineer           27\n",
       "senior software engineer    15\n",
       "backend engineer            13\n",
       "product manager             12\n",
       "data engineer               10\n",
       "full-stack engineer         10\n",
       "front-end engineer           8\n",
       "full stack engineer          7\n",
       "android engineer             7\n",
       "frontend engineer            7\n",
       "dtype: int64"
      ]
     },
     "execution_count": 34,
     "metadata": {},
     "output_type": "execute_result"
    }
   ],
   "source": [
    "pd.Series([r.lower() for d in decoded for r in d['roles']]).value_counts()[:10]"
   ]
  },
  {
   "cell_type": "code",
   "execution_count": null,
   "id": "8663e6ac",
   "metadata": {},
   "outputs": [],
   "source": []
  }
 ],
 "metadata": {
  "kernelspec": {
   "display_name": "Python 3 (ipykernel)",
   "language": "python",
   "name": "python3"
  },
  "language_info": {
   "codemirror_mode": {
    "name": "ipython",
    "version": 3
   },
   "file_extension": ".py",
   "mimetype": "text/x-python",
   "name": "python",
   "nbconvert_exporter": "python",
   "pygments_lexer": "ipython3",
   "version": "3.11.2"
  }
 },
 "nbformat": 4,
 "nbformat_minor": 5
}
