{
 "cells": [
  {
   "cell_type": "code",
   "execution_count": 1,
   "id": "9364cd5d-163b-4fab-b146-d1003b75ec73",
   "metadata": {},
   "outputs": [],
   "source": [
    "from pathlib import Path\n",
    "from functools import cache"
   ]
  },
  {
   "cell_type": "code",
   "execution_count": 2,
   "id": "bd35f823-493d-47c6-b886-7f023d7baba5",
   "metadata": {},
   "outputs": [],
   "source": [
    "patterns, _, *lines = Path(\"data/19.txt\").read_text().strip().split(\"\\n\")\n",
    "patterns = sorted(patterns.split(\", \"), key=lambda x: (-len(x), x))"
   ]
  },
  {
   "cell_type": "code",
   "execution_count": 3,
   "id": "c31fa77e-a4af-4fb1-b27e-5a0cfe432197",
   "metadata": {},
   "outputs": [
    {
     "data": {
      "text/plain": [
       "247"
      ]
     },
     "execution_count": 3,
     "metadata": {},
     "output_type": "execute_result"
    }
   ],
   "source": [
    "def match(s: str) -> bool:\n",
    "    if not s:\n",
    "        return True\n",
    "\n",
    "    for p in patterns:\n",
    "        if s.startswith(p):\n",
    "            if match(s[len(p) :]):\n",
    "                return True\n",
    "    return False\n",
    "\n",
    "\n",
    "sum(match(l) for l in lines)"
   ]
  },
  {
   "cell_type": "code",
   "execution_count": 4,
   "id": "5428a17f-1a77-4f7b-9a13-f6a943291dac",
   "metadata": {},
   "outputs": [
    {
     "data": {
      "text/plain": [
       "692596560138745"
      ]
     },
     "execution_count": 4,
     "metadata": {},
     "output_type": "execute_result"
    }
   ],
   "source": [
    "@cache\n",
    "def count(s: str) -> int:\n",
    "    if not s:\n",
    "        return 1\n",
    "\n",
    "    res = 0\n",
    "\n",
    "    for p in patterns:\n",
    "        if s.startswith(p):\n",
    "            res += count(s[len(p) :])\n",
    "\n",
    "    return res\n",
    "\n",
    "\n",
    "sum(count(l) for l in lines)"
   ]
  },
  {
   "cell_type": "code",
   "execution_count": null,
   "id": "d69cc463-0c51-479f-8c6d-4c758f590115",
   "metadata": {},
   "outputs": [],
   "source": []
  }
 ],
 "metadata": {
  "kernelspec": {
   "display_name": "Python 3 (ipykernel)",
   "language": "python",
   "name": "python3"
  },
  "language_info": {
   "codemirror_mode": {
    "name": "ipython",
    "version": 3
   },
   "file_extension": ".py",
   "mimetype": "text/x-python",
   "name": "python",
   "nbconvert_exporter": "python",
   "pygments_lexer": "ipython3",
   "version": "3.12.0"
  }
 },
 "nbformat": 4,
 "nbformat_minor": 5
}
