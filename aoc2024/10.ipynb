{
 "cells": [
  {
   "cell_type": "code",
   "execution_count": 1,
   "id": "fc11988d-b005-4978-8036-982ac6641004",
   "metadata": {},
   "outputs": [],
   "source": [
    "import pandas as pd\n",
    "import numpy as np\n",
    "from collections import deque"
   ]
  },
  {
   "cell_type": "code",
   "execution_count": 2,
   "id": "ae3b8be1-8908-4aad-9167-a33bdd326e80",
   "metadata": {},
   "outputs": [],
   "source": [
    "grid = (\n",
    "    pd.read_csv(\"data/10.txt\", engine=\"python\", sep=r\"\\s*\", names=range(-1, 1000))\n",
    "    .dropna(how=\"all\", axis=1)\n",
    "    .values\n",
    ")"
   ]
  },
  {
   "cell_type": "code",
   "execution_count": 3,
   "id": "fedd296a-a919-4b0a-aea2-a67b59e1bd78",
   "metadata": {},
   "outputs": [
    {
     "data": {
      "text/plain": [
       "459"
      ]
     },
     "execution_count": 3,
     "metadata": {},
     "output_type": "execute_result"
    }
   ],
   "source": [
    "def bfs(start_x, start_y):\n",
    "    d = deque([(grid[start_x, start_y], start_x, start_y)])\n",
    "    visited, res = set(), set()\n",
    "    while d:\n",
    "        h, x, y = d.popleft()\n",
    "        if (x, y) in visited:\n",
    "            continue\n",
    "        visited.add((x, y))\n",
    "        if h == 9:\n",
    "            res.add((x, y))\n",
    "            continue\n",
    "        for dx, dy in [(-1, 0), (1, 0), (0, -1), (0, 1)]:\n",
    "            if (\n",
    "                0 <= x + dx < grid.shape[0]\n",
    "                and 0 <= y + dy < grid.shape[1]\n",
    "                and grid[x + dx, y + dy] == h + 1\n",
    "            ):\n",
    "                d.append((h + 1, x + dx, y + dy))\n",
    "    return len(res)\n",
    "\n",
    "\n",
    "sum(\n",
    "    bfs(start_x, start_y)\n",
    "    for start_x, start_y in zip(np.where(grid == 0)[0], np.where(grid == 0)[1])\n",
    ")"
   ]
  },
  {
   "cell_type": "code",
   "execution_count": null,
   "id": "06dfac33-7200-4ca9-a495-5c281f58c328",
   "metadata": {},
   "outputs": [],
   "source": []
  }
 ],
 "metadata": {
  "kernelspec": {
   "display_name": "Python 3 (ipykernel)",
   "language": "python",
   "name": "python3"
  },
  "language_info": {
   "codemirror_mode": {
    "name": "ipython",
    "version": 3
   },
   "file_extension": ".py",
   "mimetype": "text/x-python",
   "name": "python",
   "nbconvert_exporter": "python",
   "pygments_lexer": "ipython3",
   "version": "3.12.7"
  }
 },
 "nbformat": 4,
 "nbformat_minor": 5
}
