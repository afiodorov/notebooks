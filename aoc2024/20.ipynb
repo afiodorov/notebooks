{
 "cells": [
  {
   "cell_type": "code",
   "execution_count": 1,
   "id": "fd3e38c8-48c3-491c-a921-c24a883f6f37",
   "metadata": {},
   "outputs": [],
   "source": [
    "import numpy as np\n",
    "import pandas as pd\n",
    "from queue import PriorityQueue\n",
    "from itertools import groupby"
   ]
  },
  {
   "cell_type": "code",
   "execution_count": 2,
   "id": "65d1bc26-9bc0-44fc-98f7-d0ed1e301e88",
   "metadata": {},
   "outputs": [],
   "source": [
    "grid = (\n",
    "    pd.read_csv(\"data/20.txt\", engine=\"python\", sep=r\"\\s*\", names=range(-1, 1000))\n",
    "    .dropna(how=\"all\", axis=1)\n",
    "    .values\n",
    ")"
   ]
  },
  {
   "cell_type": "code",
   "execution_count": 3,
   "id": "e22dca01-13fb-4ac5-b63d-9a5c36043117",
   "metadata": {},
   "outputs": [],
   "source": [
    "def get_neighbors(x, y, el=\"#\", op=\"ne\"):\n",
    "    for dx, dy in [(-1, 0), (1, 0), (0, -1), (0, 1)]:\n",
    "        if 0 <= x + dx < grid.shape[0] and 0 <= y + dy < grid.shape[1]:\n",
    "            if op == \"ne\" and grid[x + dx, y + dy] != el:\n",
    "                yield x + dx, y + dy\n",
    "            elif op == \"eq\" and grid[x + dx, y + dy] == el:\n",
    "                yield x + dx, y + dy"
   ]
  },
  {
   "cell_type": "code",
   "execution_count": 4,
   "id": "0f2f2e3f-7c49-4a80-834c-fa32f9031dbf",
   "metadata": {},
   "outputs": [
    {
     "data": {
      "text/plain": [
       "1286"
      ]
     },
     "execution_count": 4,
     "metadata": {},
     "output_type": "execute_result"
    }
   ],
   "source": [
    "start = np.where(grid == \"S\")\n",
    "start = start[0][0], start[1][0]\n",
    "\n",
    "goal = np.where(grid == \"E\")\n",
    "goal = goal[0][0], goal[1][0]\n",
    "\n",
    "frontier = PriorityQueue()\n",
    "frontier.put((0, start))\n",
    "\n",
    "cost_so_far = {start_state: 0 for _, start_state in frontier.queue}\n",
    "\n",
    "\n",
    "while not frontier.empty():\n",
    "    current_cost, current = frontier.get()\n",
    "\n",
    "    if cost_so_far[current] < current_cost:\n",
    "        continue\n",
    "\n",
    "    for next_state in get_neighbors(*current):\n",
    "        new_cost = current_cost + 1\n",
    "        if next_state not in cost_so_far or new_cost < cost_so_far[next_state]:\n",
    "            cost_so_far[next_state] = new_cost\n",
    "            frontier.put((new_cost, next_state))\n",
    "\n",
    "predecessors = {}\n",
    "for state, dist in cost_so_far.items():\n",
    "    for next_state in get_neighbors(*state):\n",
    "        if next_state in cost_so_far:\n",
    "            if dist + 1 == cost_so_far[next_state]:\n",
    "                if next_state not in predecessors:\n",
    "                    predecessors[next_state] = []\n",
    "                predecessors[next_state].append(state)\n",
    "cheats = set()\n",
    "\n",
    "stack = [(goal, {goal: 0})]\n",
    "while stack:\n",
    "    node, path = stack.pop()\n",
    "    if node in predecessors:\n",
    "        for pred in predecessors[node]:\n",
    "            stack.append((pred, path | {pred: len(path)}))\n",
    "\n",
    "    for cheat_tile in get_neighbors(*node, op=\"eq\"):\n",
    "        for jump_tile in get_neighbors(*cheat_tile, op=\"ne\"):\n",
    "            if jump_tile in path and path[jump_tile] < path[node] - 2:\n",
    "                cheats.add((path[node] - path[jump_tile] - 2, node, jump_tile))\n",
    "\n",
    "sum(len(list(g)) for k, g in groupby(sorted(cheats), key=lambda x: x[0]) if k >= 100)"
   ]
  },
  {
   "cell_type": "code",
   "execution_count": 5,
   "id": "13c18cd8-e07c-43e3-b045-ad5e5a68b8b2",
   "metadata": {},
   "outputs": [
    {
     "data": {
      "text/plain": [
       "989316"
      ]
     },
     "execution_count": 5,
     "metadata": {},
     "output_type": "execute_result"
    }
   ],
   "source": [
    "cheats2 = set()\n",
    "\n",
    "stack = [(goal, {goal: 0})]\n",
    "while stack:\n",
    "    node, path = stack.pop()\n",
    "    if node in predecessors:\n",
    "        for pred in predecessors[node]:\n",
    "            stack.append((pred, path | {pred: len(path)}))\n",
    "    for pred, path_place in path.items():\n",
    "        path_distance = path[node] - path_place\n",
    "        cheat_distance = np.abs(pred[0] - node[0]) + np.abs(pred[1] - node[1])\n",
    "        if cheat_distance <= 20 and cheat_distance < path_distance:\n",
    "            cheats2.add((path_distance - cheat_distance, node, pred))\n",
    "\n",
    "sum(len(list(g)) for k, g in groupby(sorted(cheats2), key=lambda x: x[0]) if k >= 100)"
   ]
  },
  {
   "cell_type": "code",
   "execution_count": null,
   "id": "602170e2-5d2e-48b9-9876-abdb144f4ad2",
   "metadata": {},
   "outputs": [],
   "source": []
  }
 ],
 "metadata": {
  "kernelspec": {
   "display_name": "Python 3 (ipykernel)",
   "language": "python",
   "name": "python3"
  },
  "language_info": {
   "codemirror_mode": {
    "name": "ipython",
    "version": 3
   },
   "file_extension": ".py",
   "mimetype": "text/x-python",
   "name": "python",
   "nbconvert_exporter": "python",
   "pygments_lexer": "ipython3",
   "version": "3.12.7"
  }
 },
 "nbformat": 4,
 "nbformat_minor": 5
}
