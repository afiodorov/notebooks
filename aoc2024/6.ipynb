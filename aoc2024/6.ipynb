{
 "cells": [
  {
   "cell_type": "code",
   "execution_count": 1,
   "id": "96abd873-5314-4a46-8ff1-160e920e7292",
   "metadata": {},
   "outputs": [],
   "source": [
    "import pandas as pd\n",
    "import numpy as np\n",
    "from itertools import product"
   ]
  },
  {
   "cell_type": "code",
   "execution_count": 2,
   "id": "dabe00df-f618-49c4-8be7-016e04784adc",
   "metadata": {},
   "outputs": [],
   "source": [
    "df = pd.read_csv(\n",
    "    \"data/6.txt\", sep=r\"\\s*\", engine=\"python\", names=range(-1, 1000)\n",
    ").dropna(how=\"all\", axis=1)\n",
    "symbols = {\"^\": (-1, 0), \">\": (0, 1), \"v\": (1, 0), \"<\": (0, -1)}\n",
    "cycle = list(symbols.keys())\n",
    "row_indices, col_indices = np.where(df.isin(symbols.keys()))"
   ]
  },
  {
   "cell_type": "code",
   "execution_count": 3,
   "id": "931a4411-38d6-4167-8489-4459461f268f",
   "metadata": {
    "scrolled": true
   },
   "outputs": [
    {
     "data": {
      "text/plain": [
       "np.int64(4967)"
      ]
     },
     "execution_count": 3,
     "metadata": {},
     "output_type": "execute_result"
    }
   ],
   "source": [
    "x, y = row_indices[0], col_indices[0]\n",
    "d = df.values[x, y]\n",
    "dx, dy = symbols[d]\n",
    "visits = df.copy()\n",
    "\n",
    "while 0 <= x + dx < len(df) and 0 <= y + dy < len(df.columns):\n",
    "    visits.values[x, y] = \"X\"\n",
    "    while df.values[x + dx, y + dy] == \"#\":\n",
    "        d = cycle[(cycle.index(d) + 1) % len(cycle)]\n",
    "        dx, dy = symbols[d]\n",
    "    x, y = x + dx, y + dy\n",
    "visits.values[x, y] = \"X\"\n",
    "\n",
    "(visits == \"X\").values.sum()"
   ]
  },
  {
   "cell_type": "code",
   "execution_count": 4,
   "id": "c386dc31-458e-4235-82b5-45cab89ec138",
   "metadata": {},
   "outputs": [
    {
     "data": {
      "text/plain": [
       "np.int64(1789)"
      ]
     },
     "execution_count": 4,
     "metadata": {},
     "output_type": "execute_result"
    }
   ],
   "source": [
    "def detect_loop(start_x, start_y, obstacle_x, obstacle_y):\n",
    "    d, x, y = df.values[start_x, start_y], start_x, start_y\n",
    "    dx, dy = symbols[d]\n",
    "    restore = df.values[obstacle_x, obstacle_y]\n",
    "    df.values[obstacle_x, obstacle_y] = \"#\"\n",
    "    visited = set()\n",
    "\n",
    "    try:\n",
    "        while 0 <= x + dx < len(df) and 0 <= y + dy < len(df.columns):\n",
    "            if (x, y, d) in visited:\n",
    "                return True\n",
    "            visited.add((x, y, d))\n",
    "            c = 0\n",
    "            while df.values[x + dx, y + dy] == \"#\":\n",
    "                c += 1\n",
    "                d = cycle[(cycle.index(d) + 1) % len(cycle)]\n",
    "                dx, dy = symbols[d]\n",
    "                if c > 4:\n",
    "                    return False\n",
    "            x, y = x + dx, y + dy\n",
    "        return False\n",
    "    finally:\n",
    "        df.values[obstacle_x, obstacle_y] = restore\n",
    "\n",
    "\n",
    "row_indices, col_indices = np.where(df.isin(symbols.keys()))\n",
    "start_x, start_y = row_indices[0], col_indices[0]\n",
    "\n",
    "res = df.copy()\n",
    "for i, j in product(range(len(df)), range(len(df.columns))):\n",
    "    if df.values[i, j] != \".\":\n",
    "        continue\n",
    "    if visits.values[i, j] != \"X\":\n",
    "        continue\n",
    "    if detect_loop(start_x, start_y, i, j):\n",
    "        res.values[i, j] = \"O\"\n",
    "\n",
    "(res == \"O\").values.sum()"
   ]
  },
  {
   "cell_type": "code",
   "execution_count": null,
   "id": "97fc8d7d-eec7-42b2-9709-687ea966bb69",
   "metadata": {},
   "outputs": [],
   "source": []
  }
 ],
 "metadata": {
  "kernelspec": {
   "display_name": "Python 3 (ipykernel)",
   "language": "python",
   "name": "python3"
  },
  "language_info": {
   "codemirror_mode": {
    "name": "ipython",
    "version": 3
   },
   "file_extension": ".py",
   "mimetype": "text/x-python",
   "name": "python",
   "nbconvert_exporter": "python",
   "pygments_lexer": "ipython3",
   "version": "3.12.7"
  }
 },
 "nbformat": 4,
 "nbformat_minor": 5
}
