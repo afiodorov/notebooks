{
 "cells": [
  {
   "cell_type": "code",
   "execution_count": 1,
   "id": "0bb9bb71-5689-45e1-9f0f-e5a182818ee1",
   "metadata": {},
   "outputs": [],
   "source": [
    "import pandas as pd\n",
    "import numpy as np\n",
    "from itertools import product"
   ]
  },
  {
   "cell_type": "code",
   "execution_count": 2,
   "id": "8d1d2128-1646-4747-acb0-a4e301eb3373",
   "metadata": {},
   "outputs": [],
   "source": [
    "df = pd.read_csv(\n",
    "    \"data/4.txt\", names=range(-1, 1000), sep=r\"\\s*\", engine=\"python\"\n",
    ").dropna(how=\"all\", axis=1)"
   ]
  },
  {
   "cell_type": "code",
   "execution_count": 3,
   "id": "c5fe692a-f946-4a4b-bade-9638a3e3830b",
   "metadata": {},
   "outputs": [
    {
     "data": {
      "text/plain": [
       "2562"
      ]
     },
     "execution_count": 3,
     "metadata": {},
     "output_type": "execute_result"
    }
   ],
   "source": [
    "arr = np.array(df)\n",
    "directions = [(-1, -1), (-1, 0), (-1, 1), (0, -1), (0, 1), (1, -1), (1, 0), (1, 1)]\n",
    "rows, cols = arr.shape\n",
    "\n",
    "sum(\n",
    "    1\n",
    "    for i, j in product(range(rows), range(cols))\n",
    "    for dx, dy in directions\n",
    "    if all(\n",
    "        0 <= (x := i + k * dx) < rows\n",
    "        and 0 <= (y := j + k * dy) < cols\n",
    "        and arr[x, y] == c\n",
    "        for k, c in enumerate(\"XMAS\")\n",
    "    )\n",
    ")"
   ]
  },
  {
   "cell_type": "code",
   "execution_count": 4,
   "id": "b3e36800-6cd2-4305-bbd8-80e078d55ac1",
   "metadata": {
    "scrolled": true
   },
   "outputs": [
    {
     "data": {
      "text/plain": [
       "1902"
      ]
     },
     "execution_count": 4,
     "metadata": {},
     "output_type": "execute_result"
    }
   ],
   "source": [
    "def f(subdf):\n",
    "    diag1 = \"\".join(np.diag(subdf))\n",
    "    diag2 = \"\".join(np.diag(np.fliplr(subdf)))\n",
    "    return diag1 in (\"MAS\", \"SAM\") and diag2 in (\"MAS\", \"SAM\")\n",
    "\n",
    "\n",
    "sum(\n",
    "    f(df.iloc[x : x + 3, y : y + 3])\n",
    "    for x in range(0, len(df) - 2)\n",
    "    for y in range(0, len(df.columns) - 2)\n",
    ")"
   ]
  },
  {
   "cell_type": "code",
   "execution_count": null,
   "id": "1523a994-5318-400f-9332-a3a71076d9c6",
   "metadata": {},
   "outputs": [],
   "source": []
  },
  {
   "cell_type": "code",
   "execution_count": null,
   "id": "f25dc4ca-756c-423d-b6c0-43b30d18fc20",
   "metadata": {},
   "outputs": [],
   "source": []
  }
 ],
 "metadata": {
  "kernelspec": {
   "display_name": "Python 3 (ipykernel)",
   "language": "python",
   "name": "python3"
  },
  "language_info": {
   "codemirror_mode": {
    "name": "ipython",
    "version": 3
   },
   "file_extension": ".py",
   "mimetype": "text/x-python",
   "name": "python",
   "nbconvert_exporter": "python",
   "pygments_lexer": "ipython3",
   "version": "3.12.7"
  }
 },
 "nbformat": 4,
 "nbformat_minor": 5
}
