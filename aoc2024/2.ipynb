{
 "cells": [
  {
   "cell_type": "code",
   "execution_count": 1,
   "id": "a55e5aa8-b67b-4fb3-a24f-0548f9f2579b",
   "metadata": {},
   "outputs": [],
   "source": [
    "import pandas as pd"
   ]
  },
  {
   "cell_type": "code",
   "execution_count": 2,
   "id": "5b22455c-df13-4c99-be81-8f05ea703c52",
   "metadata": {},
   "outputs": [],
   "source": [
    "df = pd.read_csv(\"data/2.txt\", sep=' ', names=range(1000)).dropna(axis=1, how='all')"
   ]
  },
  {
   "cell_type": "code",
   "execution_count": 3,
   "id": "beed938d-f278-47b7-8f2b-30be3385086c",
   "metadata": {},
   "outputs": [
    {
     "data": {
      "text/plain": [
       "np.int64(252)"
      ]
     },
     "execution_count": 3,
     "metadata": {},
     "output_type": "execute_result"
    }
   ],
   "source": [
    "def f(s: pd.Series):\n",
    "    s = s.diff().dropna()\n",
    "    \n",
    "    if (s > 0).any() and (s < 0).any():\n",
    "        return False\n",
    "        \n",
    "    s = s.abs()\n",
    "    if s.min() < 1:\n",
    "        return False\n",
    "    if s.max() > 3:\n",
    "        return False\n",
    "    return True\n",
    "\n",
    "df.apply(f, axis=1).sum()"
   ]
  },
  {
   "cell_type": "code",
   "execution_count": 4,
   "id": "8700b6ce-ae93-4228-9352-f10d012d7583",
   "metadata": {},
   "outputs": [],
   "source": [
    "def bf(s: pd.Series):\n",
    "    if f(s):\n",
    "        return True\n",
    "\n",
    "    for ns in (s.drop(index) for index in s.index):\n",
    "        if f(ns):\n",
    "            return True\n",
    "    return False"
   ]
  },
  {
   "cell_type": "code",
   "execution_count": 5,
   "id": "cca59bf9-9bf5-4ccd-8385-f7f13a6ffab5",
   "metadata": {},
   "outputs": [
    {
     "data": {
      "text/plain": [
       "np.int64(324)"
      ]
     },
     "execution_count": 5,
     "metadata": {},
     "output_type": "execute_result"
    }
   ],
   "source": [
    "df.apply(bf, axis=1).sum()"
   ]
  },
  {
   "cell_type": "code",
   "execution_count": null,
   "id": "d65fbd42-937f-47a6-8b76-db341980bc2d",
   "metadata": {},
   "outputs": [],
   "source": []
  }
 ],
 "metadata": {
  "kernelspec": {
   "display_name": "Python 3 (ipykernel)",
   "language": "python",
   "name": "python3"
  },
  "language_info": {
   "codemirror_mode": {
    "name": "ipython",
    "version": 3
   },
   "file_extension": ".py",
   "mimetype": "text/x-python",
   "name": "python",
   "nbconvert_exporter": "python",
   "pygments_lexer": "ipython3",
   "version": "3.12.7"
  }
 },
 "nbformat": 4,
 "nbformat_minor": 5
}
