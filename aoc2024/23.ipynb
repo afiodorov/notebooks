{
 "cells": [
  {
   "cell_type": "code",
   "execution_count": 1,
   "id": "dc75a713-3a9d-4f92-8d48-205b0d332632",
   "metadata": {},
   "outputs": [],
   "source": [
    "import networkx as nx\n",
    "from pathlib import Path\n",
    "\n",
    "\n",
    "def triangles_in_component(subG):\n",
    "    found_triangles = set()\n",
    "\n",
    "    for u in subG:\n",
    "        neighbors_u = set(subG[u])\n",
    "        for v in neighbors_u:\n",
    "            if v <= u:\n",
    "                continue\n",
    "            # Intersection of neighbors of u and neighbors of v:\n",
    "            common_neighbors = neighbors_u.intersection(subG[v])\n",
    "            for w in common_neighbors:\n",
    "                # Keep only w > v so each triangle is found exactly once\n",
    "                if w > v:\n",
    "                    found_triangles.add(tuple(sorted([u, v, w])))\n",
    "\n",
    "    return found_triangles\n",
    "\n",
    "\n",
    "def all_triangles(G):\n",
    "    all_tris = set()\n",
    "    for comp_nodes in nx.connected_components(G):\n",
    "        subG = G.subgraph(comp_nodes)\n",
    "        comp_tris = triangles_in_component(subG)\n",
    "        all_tris.update(comp_tris)\n",
    "    return all_tris"
   ]
  },
  {
   "cell_type": "code",
   "execution_count": 2,
   "id": "f43ddd20-9cde-48b9-a1d2-248e85c6dedc",
   "metadata": {},
   "outputs": [
    {
     "data": {
      "text/plain": [
       "1077"
      ]
     },
     "execution_count": 2,
     "metadata": {},
     "output_type": "execute_result"
    }
   ],
   "source": [
    "edges = [\n",
    "    (x.split(\"-\")[0], x.split(\"-\")[1])\n",
    "    for x in Path(\"data/23.txt\").read_text().strip().split(\"\\n\")\n",
    "]\n",
    "\n",
    "G = nx.Graph()\n",
    "G.add_edges_from(edges)\n",
    "\n",
    "triangles_found = all_triangles(G)\n",
    "\n",
    "triangles_with_t = [\n",
    "    tri for tri in triangles_found if any(node.startswith(\"t\") for node in tri)\n",
    "]\n",
    "\n",
    "len(triangles_with_t)"
   ]
  },
  {
   "cell_type": "code",
   "execution_count": 3,
   "id": "3553c3a1-b4cb-4e6d-b5e1-216727b38b8b",
   "metadata": {},
   "outputs": [
    {
     "data": {
      "text/plain": [
       "'bc,bf,do,dw,dx,ll,ol,qd,sc,ua,xc,yu,zt'"
      ]
     },
     "execution_count": 3,
     "metadata": {},
     "output_type": "execute_result"
    }
   ],
   "source": [
    "\",\".join(sorted(sorted(nx.find_cliques(G), key=lambda c: len(c), reverse=True)[0]))"
   ]
  },
  {
   "cell_type": "code",
   "execution_count": null,
   "id": "ec4a373f-5c99-49bc-9682-4d9447d76954",
   "metadata": {},
   "outputs": [],
   "source": []
  }
 ],
 "metadata": {
  "kernelspec": {
   "display_name": "Python 3 (ipykernel)",
   "language": "python",
   "name": "python3"
  },
  "language_info": {
   "codemirror_mode": {
    "name": "ipython",
    "version": 3
   },
   "file_extension": ".py",
   "mimetype": "text/x-python",
   "name": "python",
   "nbconvert_exporter": "python",
   "pygments_lexer": "ipython3",
   "version": "3.12.7"
  }
 },
 "nbformat": 4,
 "nbformat_minor": 5
}
