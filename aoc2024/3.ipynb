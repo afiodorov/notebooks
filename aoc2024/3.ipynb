{
 "cells": [
  {
   "cell_type": "code",
   "execution_count": 1,
   "id": "a9264610-872f-4848-873f-9db46a443d1d",
   "metadata": {},
   "outputs": [],
   "source": [
    "from pathlib import Path\n",
    "import re\n",
    "from functools import partial"
   ]
  },
  {
   "cell_type": "code",
   "execution_count": 2,
   "id": "9c4a1ae9-1f79-46bb-8d40-9ddbff77518d",
   "metadata": {},
   "outputs": [
    {
     "data": {
      "text/plain": [
       "188741603"
      ]
     },
     "execution_count": 2,
     "metadata": {},
     "output_type": "execute_result"
    }
   ],
   "source": [
    "sum(\n",
    "    eval(s, {}, {\"mul\": lambda a, b: a * b})\n",
    "    for s in re.compile(r\"mul\\([0-9]{1,3},[0-9]{1,3}\\)\").findall(\n",
    "        Path(\"data/3.txt\").read_text()\n",
    "    )\n",
    ")"
   ]
  },
  {
   "cell_type": "code",
   "execution_count": 3,
   "id": "a87b4738-4592-4247-9f20-3a759c79ef4a",
   "metadata": {},
   "outputs": [
    {
     "data": {
      "text/plain": [
       "67269798"
      ]
     },
     "execution_count": 3,
     "metadata": {},
     "output_type": "execute_result"
    }
   ],
   "source": [
    "class Computer:\n",
    "    def __init__(self):\n",
    "        self.disabled = False\n",
    "\n",
    "    def product(self, a, b):\n",
    "        return 0 if self.disabled else a * b\n",
    "\n",
    "\n",
    "c = Computer()\n",
    "l = {\n",
    "    \"mul\": c.product,\n",
    "    \"dont\": partial(setattr, c, \"disabled\", True),\n",
    "    \"do\": partial(setattr, c, \"disabled\", False),\n",
    "}\n",
    "\n",
    "sum(\n",
    "    eval(s.replace(\"'\", \"\"), {}, l) or 0\n",
    "    for s in re.compile(r\"(mul\\([0-9]{1,3},[0-9]{1,3}\\)|do\\(\\)|don't\\(\\))\").findall(\n",
    "        Path(\"data/3.txt\").read_text()\n",
    "    )\n",
    ")"
   ]
  },
  {
   "cell_type": "code",
   "execution_count": null,
   "id": "b33ba2d4-42d6-4ef0-9c18-e19ac4ae1b76",
   "metadata": {},
   "outputs": [],
   "source": []
  },
  {
   "cell_type": "code",
   "execution_count": null,
   "id": "1a35583d-0827-4912-81bd-a1130d2744a3",
   "metadata": {},
   "outputs": [],
   "source": []
  }
 ],
 "metadata": {
  "kernelspec": {
   "display_name": "Python 3 (ipykernel)",
   "language": "python",
   "name": "python3"
  },
  "language_info": {
   "codemirror_mode": {
    "name": "ipython",
    "version": 3
   },
   "file_extension": ".py",
   "mimetype": "text/x-python",
   "name": "python",
   "nbconvert_exporter": "python",
   "pygments_lexer": "ipython3",
   "version": "3.12.7"
  }
 },
 "nbformat": 4,
 "nbformat_minor": 5
}
