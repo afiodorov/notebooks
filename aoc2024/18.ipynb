{
 "cells": [
  {
   "cell_type": "code",
   "execution_count": 1,
   "id": "b91c2cf2-e603-43e8-bbed-a53c59caf092",
   "metadata": {},
   "outputs": [],
   "source": [
    "from pathlib import Path\n",
    "import numpy as np\n",
    "from queue import PriorityQueue"
   ]
  },
  {
   "cell_type": "code",
   "execution_count": 2,
   "id": "2a2f99cd-5f1f-4637-ab9f-6891b680d561",
   "metadata": {},
   "outputs": [],
   "source": [
    "fp = \"data/18.txt\"\n",
    "coords = [\n",
    "    (int(x.split(\",\")[1]), int(x.split(\",\")[0]))\n",
    "    for x in Path(fp).read_text().strip().split(\"\\n\")\n",
    "]"
   ]
  },
  {
   "cell_type": "code",
   "execution_count": 3,
   "id": "9b22738b-1c93-4295-91cf-f86ae71d1e90",
   "metadata": {},
   "outputs": [],
   "source": [
    "size, n = (6, 12) if \"sample\" in fp else (70, 1024)\n",
    "size += 1\n",
    "grid = np.zeros((size, size))\n",
    "\n",
    "for x, y in coords[:n]:\n",
    "    grid[x, y] = 1"
   ]
  },
  {
   "cell_type": "code",
   "execution_count": 4,
   "id": "1e69dc55-5c89-4493-b249-0f5a4bf9b29e",
   "metadata": {},
   "outputs": [],
   "source": [
    "def heuristic(x, y, goal_x, goal_y):\n",
    "    return np.abs(x - goal_x) + np.abs(y - goal_y)\n",
    "\n",
    "\n",
    "def get_neighbors(x, y):\n",
    "    for dx, dy in [(-1, 0), (1, 0), (0, -1), (0, 1)]:\n",
    "        if 0 <= x + dx < grid.shape[0] and 0 <= y + dy < grid.shape[1]:\n",
    "            if grid[x + dx, y + dy] != 1:\n",
    "                yield x + dx, y + dy"
   ]
  },
  {
   "cell_type": "code",
   "execution_count": 5,
   "id": "04f02af9-9e5a-4cb7-a0cb-9b96222c5eee",
   "metadata": {},
   "outputs": [
    {
     "data": {
      "text/plain": [
       "286"
      ]
     },
     "execution_count": 5,
     "metadata": {},
     "output_type": "execute_result"
    }
   ],
   "source": [
    "def cost(grid):\n",
    "    start = (0, 0)\n",
    "    goal = (size - 1, size - 1)\n",
    "\n",
    "    frontier = PriorityQueue()\n",
    "    frontier.put((0, start))\n",
    "\n",
    "    cost_so_far = {start_state: 0 for _, start_state in frontier.queue}\n",
    "\n",
    "    while not frontier.empty():\n",
    "        _, current = frontier.get()\n",
    "        if current == goal:\n",
    "            break\n",
    "\n",
    "        for next_state in get_neighbors(*current):\n",
    "            new_cost = cost_so_far[current] + 1\n",
    "            if next_state not in cost_so_far or new_cost < cost_so_far[next_state]:\n",
    "                cost_so_far[next_state] = new_cost\n",
    "                priority = new_cost + heuristic(*current, *goal)\n",
    "                frontier.put((priority, next_state))\n",
    "\n",
    "    return cost_so_far[current] if current == goal else None\n",
    "\n",
    "\n",
    "cost(grid)"
   ]
  },
  {
   "cell_type": "code",
   "execution_count": 6,
   "id": "93e13efe-ccfe-422e-8fc6-5e6231730e97",
   "metadata": {},
   "outputs": [
    {
     "name": "stdout",
     "output_type": "stream",
     "text": [
      "20,64\n"
     ]
    }
   ],
   "source": [
    "for x, y in coords[n:]:\n",
    "    grid[x, y] = 1\n",
    "    if cost(grid) is None:\n",
    "        print(f\"{y},{x}\")\n",
    "        break"
   ]
  }
 ],
 "metadata": {
  "kernelspec": {
   "display_name": "Python 3 (ipykernel)",
   "language": "python",
   "name": "python3"
  },
  "language_info": {
   "codemirror_mode": {
    "name": "ipython",
    "version": 3
   },
   "file_extension": ".py",
   "mimetype": "text/x-python",
   "name": "python",
   "nbconvert_exporter": "python",
   "pygments_lexer": "ipython3",
   "version": "3.12.7"
  }
 },
 "nbformat": 4,
 "nbformat_minor": 5
}
