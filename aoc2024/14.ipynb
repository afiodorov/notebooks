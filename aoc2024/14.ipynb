{
 "cells": [
  {
   "cell_type": "code",
   "execution_count": 1,
   "id": "9f26e5c5-7215-4a46-b3bc-c87e33326cda",
   "metadata": {},
   "outputs": [],
   "source": [
    "from pathlib import Path\n",
    "from dataclasses import dataclass\n",
    "import numpy as np"
   ]
  },
  {
   "cell_type": "code",
   "execution_count": 2,
   "id": "1b97f1c3-2c62-4b81-bd24-d7d48f939cdc",
   "metadata": {},
   "outputs": [],
   "source": [
    "@dataclass\n",
    "class Robot:\n",
    "    x: int\n",
    "    y: int\n",
    "    v_x: int\n",
    "    v_y: int\n",
    "\n",
    "\n",
    "def parse(pos, vel):\n",
    "    x, y = [int(x) for x in pos[2:].split(\",\")]\n",
    "    v_x, v_y = [int(x) for x in vel[2:].split(\",\")]\n",
    "    return Robot(y, x, v_y, v_x)\n",
    "\n",
    "\n",
    "path = Path(\"data/14.txt\")\n",
    "robots = [parse(*l.split()) for l in path.read_text().strip().split(\"\\n\")]"
   ]
  },
  {
   "cell_type": "code",
   "execution_count": 3,
   "id": "edc9ab92-0fce-4048-a6b7-c59afbb62942",
   "metadata": {},
   "outputs": [
    {
     "data": {
      "text/plain": [
       "230686500"
      ]
     },
     "execution_count": 3,
     "metadata": {},
     "output_type": "execute_result"
    }
   ],
   "source": [
    "grid = np.full((7, 11) if \"sample\" in path.name else (103, 101), 0)\n",
    "w, h = grid.shape\n",
    "steps = 100\n",
    "\n",
    "for r in robots:\n",
    "    x, y = r.x, r.y\n",
    "    x += steps * r.v_x\n",
    "    y += steps * r.v_y\n",
    "    x %= w\n",
    "    y %= h\n",
    "    grid[x, y] += 1\n",
    "\n",
    "q1 = grid[: w // 2, : h // 2]\n",
    "q2 = grid[: w // 2, h // 2 + 1 :]\n",
    "q3 = grid[w // 2 + 1 :, : h // 2]\n",
    "q4 = grid[w // 2 + 1 :, h // 2 + 1 :]\n",
    "q1.sum() * q2.sum() * q3.sum() * q4.sum()"
   ]
  },
  {
   "cell_type": "code",
   "execution_count": null,
   "id": "b1deedf9-17fe-4414-81fc-c2c0004aef68",
   "metadata": {},
   "outputs": [],
   "source": []
  },
  {
   "cell_type": "code",
   "execution_count": null,
   "id": "38c00004-2fe8-4f4a-8020-05153fe1d8fe",
   "metadata": {},
   "outputs": [],
   "source": []
  }
 ],
 "metadata": {
  "kernelspec": {
   "display_name": "Python 3 (ipykernel)",
   "language": "python",
   "name": "python3"
  },
  "language_info": {
   "codemirror_mode": {
    "name": "ipython",
    "version": 3
   },
   "file_extension": ".py",
   "mimetype": "text/x-python",
   "name": "python",
   "nbconvert_exporter": "python",
   "pygments_lexer": "ipython3",
   "version": "3.12.0"
  }
 },
 "nbformat": 4,
 "nbformat_minor": 5
}
