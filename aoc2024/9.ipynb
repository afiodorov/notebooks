{
 "cells": [
  {
   "cell_type": "code",
   "execution_count": 1,
   "id": "561721b5-6c6f-445b-9bf5-5c98ff5d4282",
   "metadata": {},
   "outputs": [],
   "source": [
    "from pathlib import Path\n",
    "import numpy as np\n",
    "from heapq import heappush, heappop\n",
    "from itertools import groupby"
   ]
  },
  {
   "cell_type": "code",
   "execution_count": 2,
   "id": "71fcc42c-94c4-491c-a748-c4d42214194c",
   "metadata": {},
   "outputs": [],
   "source": [
    "compact = [int(a) for a in Path(\"data/9.txt\").read_text().strip()]\n",
    "disk = np.full(sum(compact), -1)\n",
    "lensum = 0\n",
    "for i in range(0, len(compact)):\n",
    "    el = i // 2 if i % 2 == 0 else -1\n",
    "    disk[lensum : lensum + compact[i]] = el\n",
    "    lensum += compact[i]"
   ]
  },
  {
   "cell_type": "code",
   "execution_count": 3,
   "id": "ba3aeb3f-b6d3-4a23-b032-38fc490f69ef",
   "metadata": {},
   "outputs": [
    {
     "data": {
      "text/plain": [
       "np.int64(6323641412437)"
      ]
     },
     "execution_count": 3,
     "metadata": {},
     "output_type": "execute_result"
    }
   ],
   "source": [
    "empty = [x for x in np.where(disk == -1)[0]]\n",
    "to_move = [x for x in np.where(disk != -1)[0][::-1]]\n",
    "defrag = disk.copy()\n",
    "\n",
    "while empty and to_move:\n",
    "    empty_pos = heappop(empty)\n",
    "    to_move_pos = to_move[0]\n",
    "    if empty_pos >= to_move_pos:\n",
    "        break\n",
    "    defrag[empty_pos], defrag[to_move_pos] = defrag[to_move_pos], defrag[empty_pos]\n",
    "    to_move = to_move[1:]\n",
    "    heappush(empty, to_move_pos)\n",
    "\n",
    "(np.where(defrag == -1, 0, defrag) * np.arange(0, len(defrag))).sum()"
   ]
  },
  {
   "cell_type": "code",
   "execution_count": 4,
   "id": "63f70719-0eab-4d4a-a263-1f5dbe94618a",
   "metadata": {},
   "outputs": [
    {
     "data": {
      "text/plain": [
       "np.int64(6351801932670)"
      ]
     },
     "execution_count": 4,
     "metadata": {},
     "output_type": "execute_result"
    }
   ],
   "source": [
    "defrag = disk.copy()\n",
    "contiguous = [\n",
    "    (k, min(l := [x[1] for x in g]), max(l) + 1)\n",
    "    for k, g in groupby(zip(defrag, range(len(defrag))), key=lambda x: x[0])\n",
    "]\n",
    "files = [x for x in contiguous if x[0] != -1][::-1]\n",
    "spaces = [x for x in contiguous if x[0] == -1]\n",
    "\n",
    "for file, file_start, file_end in files:\n",
    "    for i, (space, space_start, space_end) in enumerate(spaces):\n",
    "        if file_start <= space_start:\n",
    "            break\n",
    "        if file_end - file_start <= space_end - space_start:\n",
    "            defrag[space_start : space_start + file_end - file_start] = file\n",
    "            defrag[file_start:file_end] = -1\n",
    "            spaces[i] = space, space_start + file_end - file_start, space_end\n",
    "            break\n",
    "\n",
    "(np.where(defrag == -1, 0, defrag) * np.arange(0, len(defrag))).sum()"
   ]
  }
 ],
 "metadata": {
  "kernelspec": {
   "display_name": "Python 3 (ipykernel)",
   "language": "python",
   "name": "python3"
  },
  "language_info": {
   "codemirror_mode": {
    "name": "ipython",
    "version": 3
   },
   "file_extension": ".py",
   "mimetype": "text/x-python",
   "name": "python",
   "nbconvert_exporter": "python",
   "pygments_lexer": "ipython3",
   "version": "3.12.7"
  }
 },
 "nbformat": 4,
 "nbformat_minor": 5
}
