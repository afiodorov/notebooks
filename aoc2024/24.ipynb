{
 "cells": [
  {
   "cell_type": "code",
   "execution_count": 1,
   "id": "54e30342-f349-494c-93bb-b8a812e953cb",
   "metadata": {},
   "outputs": [],
   "source": [
    "from pathlib import Path\n",
    "import re\n",
    "\n",
    "from dataclasses import dataclass\n",
    "from graphlib import TopologicalSorter"
   ]
  },
  {
   "cell_type": "code",
   "execution_count": 2,
   "id": "4ecf849e-6b6a-4872-b7a4-700f07439ae5",
   "metadata": {},
   "outputs": [],
   "source": [
    "init, ops_str = Path(\"data/24.txt\").read_text().strip().split(\"\\n\\n\")\n",
    "l = {(s := x.split(\": \"))[0]: bool(int(s[1])) for x in init.split(\"\\n\")}\n",
    "\n",
    "\n",
    "@dataclass(eq=True, frozen=True)\n",
    "class OP:\n",
    "    a: str\n",
    "    b: str\n",
    "    r: str\n",
    "    op: str\n",
    "\n",
    "\n",
    "pattern = re.compile(\"([a-z0-9]+) (AND|XOR|OR) ([a-z0-9]+) -> ([a-z0-9]+)\")\n",
    "pops = {\"XOR\": \"^\", \"OR\": \"|\", \"AND\": \"&\"}\n",
    "\n",
    "\n",
    "def p(s: str):\n",
    "    m = pattern.match(s)\n",
    "    return OP(a=m.group(1), b=m.group(3), r=m.group(4), op=pops[m.group(2)])\n",
    "\n",
    "\n",
    "ops = {(op := p(op_s)).r: op for op_s in ops_str.split(\"\\n\")}"
   ]
  },
  {
   "cell_type": "code",
   "execution_count": 3,
   "id": "9e0ba137-a414-4919-841c-987da622df42",
   "metadata": {
    "scrolled": true
   },
   "outputs": [
    {
     "data": {
      "text/plain": [
       "52956035802096"
      ]
     },
     "execution_count": 3,
     "metadata": {},
     "output_type": "execute_result"
    }
   ],
   "source": [
    "graph = {op: {ops[x] for x in [op.a, op.b] if x in ops} for op in ops.values()}\n",
    "ts = TopologicalSorter(graph)\n",
    "for op in ts.static_order():\n",
    "    l[op.r] = eval(f\"{op.a} {op.op} {op.b}\", l, {})\n",
    "\n",
    "int(\n",
    "    \"\".join(\n",
    "        [str(int(v)) for k, v in sorted(l.items(), reverse=True) if k.startswith(\"z\")]\n",
    "    ),\n",
    "    2,\n",
    ")"
   ]
  }
 ],
 "metadata": {
  "kernelspec": {
   "display_name": "Python 3 (ipykernel)",
   "language": "python",
   "name": "python3"
  },
  "language_info": {
   "codemirror_mode": {
    "name": "ipython",
    "version": 3
   },
   "file_extension": ".py",
   "mimetype": "text/x-python",
   "name": "python",
   "nbconvert_exporter": "python",
   "pygments_lexer": "ipython3",
   "version": "3.12.7"
  }
 },
 "nbformat": 4,
 "nbformat_minor": 5
}
