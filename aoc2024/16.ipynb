{
 "cells": [
  {
   "cell_type": "code",
   "execution_count": 1,
   "id": "892321e8-a3be-4b33-830a-1c0de94160de",
   "metadata": {},
   "outputs": [],
   "source": [
    "import pandas as pd\n",
    "import numpy as np\n",
    "from queue import PriorityQueue\n",
    "from dataclasses import dataclass"
   ]
  },
  {
   "cell_type": "code",
   "execution_count": 2,
   "id": "836579d1-9f41-461a-a13c-5df9813ef1d9",
   "metadata": {},
   "outputs": [],
   "source": [
    "grid = (\n",
    "    pd.read_csv(\"data/16.txt\", engine=\"python\", sep=r\"\\s*\", names=range(-1, 1000))\n",
    "    .dropna(axis=1, how=\"all\")\n",
    "    .values\n",
    ")"
   ]
  },
  {
   "cell_type": "code",
   "execution_count": 3,
   "id": "c220371c-20a9-486a-a151-ebcc808d398f",
   "metadata": {},
   "outputs": [],
   "source": [
    "@dataclass(frozen=True, order=True)\n",
    "class NodeState:\n",
    "    position: tuple\n",
    "    direction: tuple\n",
    "\n",
    "\n",
    "def enhanced_heuristic(x, y, goal_x, goal_y):\n",
    "    return min(np.abs(x - goal_x), np.abs(y - goal_y))\n",
    "\n",
    "\n",
    "def get_neighbors(node_state: NodeState):\n",
    "    x, y = node_state.position\n",
    "    dx, dy = node_state.direction\n",
    "    if 0 <= x + dx < grid.shape[0] and 0 <= y + dy < grid.shape[1]:\n",
    "        if grid[x + dx, y + dy] != \"#\":\n",
    "            yield NodeState(position=(x + dx, y + dy), direction=(dx, dy)), 1\n",
    "\n",
    "    yield NodeState(position=(x, y), direction=(dy, -dx)), 1000\n",
    "    yield NodeState(position=(x, y), direction=(-dy, dx)), 1000"
   ]
  },
  {
   "cell_type": "code",
   "execution_count": 4,
   "id": "20feb93f-1ad9-495d-8da2-d303469f0422",
   "metadata": {},
   "outputs": [
    {
     "data": {
      "text/plain": [
       "134588"
      ]
     },
     "execution_count": 4,
     "metadata": {},
     "output_type": "execute_result"
    }
   ],
   "source": [
    "start = np.where(grid == \"S\")\n",
    "start_x, start_y = start[0][0], start[1][0]\n",
    "\n",
    "goal = np.where(grid == \"E\")\n",
    "goal_x, goal_y = goal[0][0], goal[1][0]\n",
    "\n",
    "frontier = PriorityQueue()\n",
    "frontier.put((0, NodeState(position=(start_x, start_y), direction=(0, 1))))\n",
    "\n",
    "cost_so_far = {start_state: 0 for _, start_state in frontier.queue}\n",
    "came_from = {start_state: None for _, start_state in frontier.queue}\n",
    "\n",
    "while not frontier.empty():\n",
    "    _, current = frontier.get()\n",
    "    if current.position == goal:\n",
    "        break\n",
    "\n",
    "    for next_state, price in get_neighbors(current):\n",
    "        new_cost = cost_so_far[current] + price\n",
    "        if next_state not in cost_so_far or new_cost < cost_so_far[next_state]:\n",
    "            cost_so_far[next_state] = new_cost\n",
    "            priority = new_cost + enhanced_heuristic(\n",
    "                *next_state.position, goal_x, goal_y\n",
    "            )\n",
    "            frontier.put((priority, next_state))\n",
    "            came_from[next_state] = current\n",
    "\n",
    "cost_so_far[current]"
   ]
  },
  {
   "cell_type": "code",
   "execution_count": 5,
   "id": "28a6580d-ca99-4d93-aa3f-d8329afaa3ed",
   "metadata": {},
   "outputs": [],
   "source": [
    "frontier = PriorityQueue()\n",
    "start_state = NodeState(position=(start_x, start_y), direction=(0, 1))\n",
    "frontier.put((0, start_state))\n",
    "\n",
    "cost_so_far = {start_state: 0}\n",
    "\n",
    "# Since we want all shortest paths, we won't stop upon first reaching the goal.\n",
    "while not frontier.empty():\n",
    "    current_cost, current = frontier.get()\n",
    "    # If the cost is higher than a known better cost, skip\n",
    "    if cost_so_far[current] < current_cost:\n",
    "        continue\n",
    "\n",
    "    # Explore neighbors\n",
    "    for next_state, price in get_neighbors(current):\n",
    "        new_cost = current_cost + price\n",
    "        if next_state not in cost_so_far or new_cost < cost_so_far[next_state]:\n",
    "            cost_so_far[next_state] = new_cost\n",
    "            # No heuristic for part 2, just Dijkstra's\n",
    "            frontier.put((new_cost, next_state))\n",
    "\n",
    "# At this point, we have cost_so_far for all reachable states.\n",
    "# Find the minimal cost to reach the goal tile (ignore direction at first).\n",
    "min_goal_cost = None\n",
    "goal_states = []\n",
    "for state, c in cost_so_far.items():\n",
    "    if state.position == (goal_x, goal_y):\n",
    "        if min_goal_cost is None or c < min_goal_cost:\n",
    "            min_goal_cost = c\n",
    "            goal_states = [state]\n",
    "        elif c == min_goal_cost:\n",
    "            goal_states.append(state)\n",
    "\n",
    "if min_goal_cost is None:\n",
    "    raise ValueError(\"No path found to the goal.\")\n",
    "\n",
    "# Now we want to find all states that lie on any shortest path.\n",
    "# We'll reconstruct edges that conform to shortest paths:\n",
    "# For each state, consider neighbors. If dist[u] + cost(u->v) = dist[v],\n",
    "# then u is predecessor of v on a shortest path.\n",
    "\n",
    "predecessors = {}  # Mapping: state -> list of predecessor states on shortest paths\n",
    "for state, dist in cost_so_far.items():\n",
    "    for next_state, edge_cost in get_neighbors(state):\n",
    "        if next_state in cost_so_far:\n",
    "            # Check if this edge is on a shortest path\n",
    "            if dist + edge_cost == cost_so_far[next_state]:\n",
    "                # next_state has state as a predecessor on a shortest path\n",
    "                if next_state not in predecessors:\n",
    "                    predecessors[next_state] = []\n",
    "                predecessors[next_state].append(state)\n",
    "\n",
    "# Starting from each goal_state, do a BFS/DFS backward using predecessors\n",
    "on_shortest_path = set()\n",
    "\n",
    "stack = list(goal_states)\n",
    "while stack:\n",
    "    node = stack.pop()\n",
    "    if node in on_shortest_path:\n",
    "        continue\n",
    "    on_shortest_path.add(node)\n",
    "    if node in predecessors:\n",
    "        for p in predecessors[node]:\n",
    "            if p not in on_shortest_path:\n",
    "                stack.append(p)\n",
    "\n",
    "# Now on_shortest_path contains all NodeStates on a shortest path.\n",
    "# We only need the tile positions. Since multiple directions can be on shortest paths,\n",
    "# a tile is on a shortest path if ANY of its NodeStates are in on_shortest_path.\n",
    "\n",
    "on_shortest_path_positions = set(ns.position for ns in on_shortest_path)\n",
    "\n",
    "# Mark these on the grid. Let's mark them with 'O' as in the puzzle description\n",
    "# (except for S and E which should remain).\n",
    "for x, y in on_shortest_path_positions:\n",
    "    if grid[x, y] not in [\"#\"]:\n",
    "        grid[x, y] = \"O\""
   ]
  },
  {
   "cell_type": "code",
   "execution_count": 6,
   "id": "76652fb7-fc85-46d7-b227-19cdae115eda",
   "metadata": {},
   "outputs": [
    {
     "data": {
      "text/plain": [
       "631"
      ]
     },
     "execution_count": 6,
     "metadata": {},
     "output_type": "execute_result"
    }
   ],
   "source": [
    "(grid == \"O\").sum().sum()"
   ]
  },
  {
   "cell_type": "code",
   "execution_count": null,
   "id": "7c33655b-5165-4c2e-9bec-e9b5782cd2b7",
   "metadata": {},
   "outputs": [],
   "source": []
  }
 ],
 "metadata": {
  "kernelspec": {
   "display_name": "Python 3 (ipykernel)",
   "language": "python",
   "name": "python3"
  },
  "language_info": {
   "codemirror_mode": {
    "name": "ipython",
    "version": 3
   },
   "file_extension": ".py",
   "mimetype": "text/x-python",
   "name": "python",
   "nbconvert_exporter": "python",
   "pygments_lexer": "ipython3",
   "version": "3.12.7"
  }
 },
 "nbformat": 4,
 "nbformat_minor": 5
}
