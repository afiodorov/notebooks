{
 "cells": [
  {
   "cell_type": "code",
   "execution_count": 1,
   "id": "892321e8-a3be-4b33-830a-1c0de94160de",
   "metadata": {},
   "outputs": [],
   "source": [
    "import pandas as pd\n",
    "import numpy as np\n",
    "from queue import PriorityQueue\n",
    "from dataclasses import dataclass"
   ]
  },
  {
   "cell_type": "code",
   "execution_count": 2,
   "id": "836579d1-9f41-461a-a13c-5df9813ef1d9",
   "metadata": {},
   "outputs": [],
   "source": [
    "grid = (\n",
    "    pd.read_csv(\"data/16.txt\", engine=\"python\", sep=r\"\\s*\", names=range(-1, 1000))\n",
    "    .dropna(axis=1, how=\"all\")\n",
    "    .values\n",
    ")"
   ]
  },
  {
   "cell_type": "code",
   "execution_count": 3,
   "id": "c220371c-20a9-486a-a151-ebcc808d398f",
   "metadata": {},
   "outputs": [],
   "source": [
    "@dataclass(frozen=True, order=True)\n",
    "class NodeState:\n",
    "    position: tuple\n",
    "    direction: tuple\n",
    "\n",
    "\n",
    "def enhanced_heuristic(x, y, goal_x, goal_y):\n",
    "    return min(np.abs(x - goal_x), np.abs(y - goal_y))\n",
    "\n",
    "\n",
    "def get_neighbors(node_state: NodeState):\n",
    "    x, y = node_state.position\n",
    "    dx, dy = node_state.direction\n",
    "    if 0 <= x + dx < grid.shape[0] and 0 <= y + dy < grid.shape[1]:\n",
    "        if grid[x + dx, y + dy] != \"#\":\n",
    "            yield NodeState(position=(x + dx, y + dy), direction=(dx, dy)), 1\n",
    "\n",
    "    yield NodeState(position=(x, y), direction=(dy, -dx)), 1000\n",
    "    yield NodeState(position=(x, y), direction=(-dy, dx)), 1000"
   ]
  },
  {
   "cell_type": "code",
   "execution_count": 4,
   "id": "20feb93f-1ad9-495d-8da2-d303469f0422",
   "metadata": {},
   "outputs": [
    {
     "data": {
      "text/plain": [
       "134588"
      ]
     },
     "execution_count": 4,
     "metadata": {},
     "output_type": "execute_result"
    }
   ],
   "source": [
    "start = np.where(grid == \"S\")\n",
    "start_x, start_y = start[0][0], start[1][0]\n",
    "\n",
    "goal = np.where(grid == \"E\")\n",
    "goal_x, goal_y = goal[0][0], goal[1][0]\n",
    "\n",
    "frontier = PriorityQueue()\n",
    "frontier.put((0, NodeState(position=(start_x, start_y), direction=(0, 1))))\n",
    "\n",
    "cost_so_far = {start_state: 0 for _, start_state in frontier.queue}\n",
    "came_from = {start_state: None for _, start_state in frontier.queue}\n",
    "\n",
    "while not frontier.empty():\n",
    "    _, current = frontier.get()\n",
    "    if current.position == goal:\n",
    "        break\n",
    "\n",
    "    for next_state, price in get_neighbors(current):\n",
    "        new_cost = cost_so_far[current] + price\n",
    "        if next_state not in cost_so_far or new_cost < cost_so_far[next_state]:\n",
    "            cost_so_far[next_state] = new_cost\n",
    "            priority = new_cost + enhanced_heuristic(\n",
    "                *next_state.position, goal_x, goal_y\n",
    "            )\n",
    "            frontier.put((priority, next_state))\n",
    "            came_from[next_state] = current\n",
    "\n",
    "cost_so_far[current]"
   ]
  },
  {
   "cell_type": "code",
   "execution_count": null,
   "id": "28a6580d-ca99-4d93-aa3f-d8329afaa3ed",
   "metadata": {},
   "outputs": [],
   "source": []
  }
 ],
 "metadata": {
  "kernelspec": {
   "display_name": "Python 3 (ipykernel)",
   "language": "python",
   "name": "python3"
  },
  "language_info": {
   "codemirror_mode": {
    "name": "ipython",
    "version": 3
   },
   "file_extension": ".py",
   "mimetype": "text/x-python",
   "name": "python",
   "nbconvert_exporter": "python",
   "pygments_lexer": "ipython3",
   "version": "3.12.0"
  }
 },
 "nbformat": 4,
 "nbformat_minor": 5
}
