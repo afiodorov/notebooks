{
 "cells": [
  {
   "cell_type": "code",
   "execution_count": 1,
   "id": "80e9005f-ecc0-4814-a44b-23bf31caa5f0",
   "metadata": {},
   "outputs": [],
   "source": [
    "from pathlib import Path"
   ]
  },
  {
   "cell_type": "code",
   "execution_count": 2,
   "id": "6e1221b5-0e86-47f4-99dc-e7dd1fad62fc",
   "metadata": {},
   "outputs": [],
   "source": [
    "order_str, manuals_str = Path(\"data/5.txt\").read_text().split(\"\\n\\n\")\n",
    "order = [(int(l.split(\"|\")[0]), int(l.split(\"|\")[1])) for l in order_str.split()]\n",
    "manuals = [[int(a) for a in l.split(\",\")] for l in manuals_str.split()]\n",
    "less = {p: True for p in order}\n",
    "more = {(p[1], p[0]): False for p in order}"
   ]
  },
  {
   "cell_type": "code",
   "execution_count": 3,
   "id": "cce73935-02c4-47af-ba82-eee28e936041",
   "metadata": {},
   "outputs": [
    {
     "data": {
      "text/plain": [
       "5964"
      ]
     },
     "execution_count": 3,
     "metadata": {},
     "output_type": "execute_result"
    }
   ],
   "source": [
    "sum(\n",
    "    man[len(man) // 2]\n",
    "    for man in manuals\n",
    "    if all(\n",
    "        less.get((man[i], b), True) and more.get((man[i], b), True)\n",
    "        for i in range(0, len(man) - 1)\n",
    "        for b in man[i + 1 :]\n",
    "    )\n",
    ")"
   ]
  },
  {
   "cell_type": "code",
   "execution_count": 4,
   "id": "96de03e8-4b5b-4b7c-9b77-2ac8fa385c14",
   "metadata": {},
   "outputs": [
    {
     "data": {
      "text/plain": [
       "4719"
      ]
     },
     "execution_count": 4,
     "metadata": {},
     "output_type": "execute_result"
    }
   ],
   "source": [
    "def custom_bubble_sort(man, more):\n",
    "    man = man.copy()\n",
    "    swap = False\n",
    "    for n in range(len(man) - 1, 0, -1):\n",
    "        for i in range(n):\n",
    "            if (man[i], man[i + 1]) in more:\n",
    "                man[i], man[i + 1], swap = man[i + 1], man[i], True\n",
    "    return swap, man\n",
    "\n",
    "\n",
    "sum(\n",
    "    man[len(man) // 2]\n",
    "    for m in manuals\n",
    "    for swap, man in [custom_bubble_sort(m, more)]\n",
    "    if swap\n",
    ")"
   ]
  },
  {
   "cell_type": "code",
   "execution_count": null,
   "id": "f48d4bde-8369-4cc5-9c8e-95e0faf8a7ed",
   "metadata": {},
   "outputs": [],
   "source": []
  }
 ],
 "metadata": {
  "kernelspec": {
   "display_name": "Python 3 (ipykernel)",
   "language": "python",
   "name": "python3"
  },
  "language_info": {
   "codemirror_mode": {
    "name": "ipython",
    "version": 3
   },
   "file_extension": ".py",
   "mimetype": "text/x-python",
   "name": "python",
   "nbconvert_exporter": "python",
   "pygments_lexer": "ipython3",
   "version": "3.12.7"
  }
 },
 "nbformat": 4,
 "nbformat_minor": 5
}
