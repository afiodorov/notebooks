{
 "cells": [
  {
   "cell_type": "code",
   "execution_count": 1,
   "id": "8c97ca17-6478-434c-b4e3-c6beb81c7271",
   "metadata": {},
   "outputs": [],
   "source": [
    "from pathlib import Path\n",
    "from collections import deque\n",
    "from itertools import repeat, permutations\n",
    "from io import StringIO\n",
    "import numpy as np\n",
    "import re\n",
    "from functools import cache"
   ]
  },
  {
   "cell_type": "code",
   "execution_count": 2,
   "id": "c42546ea-3961-4977-a4b5-67acacbd2999",
   "metadata": {},
   "outputs": [],
   "source": [
    "codes = Path(\"data/21.txt\").read_text().strip().split(\"\\n\")\n",
    "\n",
    "\n",
    "def ascii_to_grid(ascii_data: str):\n",
    "    grid = []\n",
    "    for line in ascii_data.split(\"\\n\"):\n",
    "        if \"|\" in line:\n",
    "            values = [val.strip() for val in line.split(\"|\")[1:-1]]\n",
    "            if len(values) == 2:\n",
    "                values = [\"#\"] + values\n",
    "            grid.append(values)\n",
    "    return np.array(grid, dtype=object)\n",
    "\n",
    "\n",
    "def neighbors(x, y, grid, dx0, dy0):\n",
    "    dx0, dy0 = 1, 0\n",
    "    for dx, dy in [(dx0, dy0), (-dx0, -dy0), (dy0, dx0), (-dy0, -dx0)]:\n",
    "        if (\n",
    "            0 <= x + dx < grid.shape[0]\n",
    "            and 0 <= y + dy < grid.shape[1]\n",
    "            and grid[x + dx, y + dy] != \"#\"\n",
    "        ):\n",
    "            yield x + dx, y + dy\n",
    "\n",
    "\n",
    "def l1(x0, y0, x1, y1):\n",
    "    return np.abs(x0 - x1) + np.abs(y0 - y1)"
   ]
  },
  {
   "cell_type": "code",
   "execution_count": 3,
   "id": "0ec217fa-a8a3-4b3e-acc5-c8ada670ff4c",
   "metadata": {},
   "outputs": [],
   "source": [
    "numeric_keypad = ascii_to_grid(\n",
    "    \"\"\"\n",
    "+---+---+---+\n",
    "| 7 | 8 | 9 |\n",
    "+---+---+---+\n",
    "| 4 | 5 | 6 |\n",
    "+---+---+---+\n",
    "| 1 | 2 | 3 |\n",
    "+---+---+---+\n",
    "    | 0 | A |\n",
    "    +---+---+\n",
    "\"\"\".strip()\n",
    ")\n",
    "\n",
    "numeric_lookup = {v: (i, j) for (i, j), v in np.ndenumerate(numeric_keypad) if v != \"#\"}\n",
    "\n",
    "directional_keypad = ascii_to_grid(\n",
    "    \"\"\"\n",
    "    +---+---+\n",
    "    | ^ | A |\n",
    "+---+---+---+\n",
    "| < | v | > |\n",
    "+---+---+---+\n",
    "\"\"\".strip()\n",
    ")\n",
    "\n",
    "directional_lookup = {\n",
    "    v: (i, j) for (i, j), v in np.ndenumerate(directional_keypad) if v != \"#\"\n",
    "}"
   ]
  },
  {
   "cell_type": "code",
   "execution_count": 4,
   "id": "b1ff5676-f336-454a-9de1-6661339f4b06",
   "metadata": {},
   "outputs": [],
   "source": [
    "dirs = {(0, -1): \"<\", (0, 1): \">\", (-1, 0): \"^\", (1, 0): \"v\"}\n",
    "\n",
    "\n",
    "def pretify(p):\n",
    "    return [dirs[(t[0] - f[0], t[1] - f[1])] for f, t in zip(p, p[1:])]\n",
    "\n",
    "\n",
    "def shortest_paths(a, b, grid):\n",
    "    q = deque([[a]])\n",
    "\n",
    "    while q:\n",
    "        p = q.popleft()\n",
    "        d = l1(*p[-1], *b)\n",
    "        if len(p) >= 2:\n",
    "            dx, dy = p[-1][0] - p[-2][0], p[-1][1] - p[-2][1]\n",
    "        else:\n",
    "            dx, dy = None, None\n",
    "\n",
    "        for n in neighbors(*p[-1], grid, dx0=dx, dy0=dy):\n",
    "            new_d = l1(*n, *b)\n",
    "            if new_d == 0:\n",
    "                yield pretify(p + [b])\n",
    "            elif new_d > d:\n",
    "                continue\n",
    "            q.append(p + [n])"
   ]
  },
  {
   "cell_type": "code",
   "execution_count": 5,
   "id": "6bd07758-1102-43bd-b8e5-314c8561755d",
   "metadata": {},
   "outputs": [],
   "source": [
    "def keys(code, grid, lookup, acc=None):\n",
    "    if len(code) <= 1:\n",
    "        yield acc\n",
    "        return\n",
    "\n",
    "    start, goal = code[0], code[1]\n",
    "    if start != goal:\n",
    "        for p in shortest_paths(lookup[start], lookup[goal], grid):\n",
    "            yield from keys(code[1:], grid, lookup, (acc or []) + p + [\"A\"])\n",
    "    else:\n",
    "        yield from keys(code[1:], grid, lookup, (acc or []) + [\"A\"])"
   ]
  },
  {
   "cell_type": "code",
   "execution_count": 6,
   "id": "dcd6e70a-4ce5-49a2-b680-ea78aca45b15",
   "metadata": {},
   "outputs": [
    {
     "data": {
      "text/plain": [
       "203734"
      ]
     },
     "execution_count": 6,
     "metadata": {},
     "output_type": "execute_result"
    }
   ],
   "source": [
    "def extract_int_from_string(text):\n",
    "    match = re.search(r\"\\d+\", text)\n",
    "    return int(match.group()) if match else None\n",
    "\n",
    "\n",
    "@cache\n",
    "def min_len(code):\n",
    "    m = None\n",
    "    for p0 in keys(code, numeric_keypad, numeric_lookup):\n",
    "        for p1 in keys([\"A\"] + p0, directional_keypad, directional_lookup):\n",
    "            for p2 in keys([\"A\"] + p1, directional_keypad, directional_lookup):\n",
    "                m = min(m or len(p2), len(p2))\n",
    "    return m\n",
    "\n",
    "\n",
    "sum(\n",
    "    min_len(f\"{a}{b}\") * extract_int_from_string(code)\n",
    "    for code in codes\n",
    "    for a, b in zip(f\"A{code}\", code)\n",
    ")"
   ]
  },
  {
   "cell_type": "code",
   "execution_count": null,
   "id": "21fd610e-3df3-4226-937e-e61aa094e2b0",
   "metadata": {},
   "outputs": [],
   "source": []
  }
 ],
 "metadata": {
  "kernelspec": {
   "display_name": "Python 3 (ipykernel)",
   "language": "python",
   "name": "python3"
  },
  "language_info": {
   "codemirror_mode": {
    "name": "ipython",
    "version": 3
   },
   "file_extension": ".py",
   "mimetype": "text/x-python",
   "name": "python",
   "nbconvert_exporter": "python",
   "pygments_lexer": "ipython3",
   "version": "3.12.0"
  }
 },
 "nbformat": 4,
 "nbformat_minor": 5
}
