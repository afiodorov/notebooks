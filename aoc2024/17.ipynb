{
 "cells": [
  {
   "cell_type": "code",
   "execution_count": 1,
   "id": "09dbf0ab-48ac-4d44-a1f3-b185c9dd02c7",
   "metadata": {},
   "outputs": [],
   "source": [
    "from pathlib import Path\n",
    "import re\n",
    "from dataclasses import dataclass, field\n",
    "from itertools import zip_longest"
   ]
  },
  {
   "cell_type": "code",
   "execution_count": 2,
   "id": "29f8b1b3-d6cb-4323-9a98-589154f8d857",
   "metadata": {},
   "outputs": [],
   "source": [
    "registers, program = Path(\"data/17.txt\").read_text().strip().split(\"\\n\\n\")\n",
    "program = [int(x) for x in program.split(\": \")[1].split(\",\")]\n",
    "registers = {\n",
    "    r: int(l.split(\": \")[1]) for l, r in zip(registers.split(\"\\n\"), [\"A\", \"B\", \"C\"])\n",
    "}\n",
    "\n",
    "instructions = {\n",
    "    i: ins\n",
    "    for i, ins in enumerate([\"adv\", \"bxl\", \"bst\", \"jnz\", \"bxc\", \"out\", \"bdv\", \"cdv\"])\n",
    "}"
   ]
  },
  {
   "cell_type": "code",
   "execution_count": 3,
   "id": "e775db29-40cc-48b4-9309-8e697c43bdc9",
   "metadata": {},
   "outputs": [],
   "source": [
    "@dataclass\n",
    "class ProgramState:\n",
    "    A: int\n",
    "    B: int\n",
    "    C: int\n",
    "\n",
    "    def combo(self, operand: int):\n",
    "        if operand <= 3:\n",
    "            return operand\n",
    "        elif operand == 4:\n",
    "            return self.A\n",
    "        elif operand == 5:\n",
    "            return self.B\n",
    "        elif operand == 6:\n",
    "            return self.C\n",
    "        raise ValueError(operand)\n",
    "\n",
    "    def adv(self, operand: int):\n",
    "        self.A = self.A // 2 ** self.combo(operand)\n",
    "\n",
    "    def bxl(self, operand: int):\n",
    "        self.B = self.B ^ operand\n",
    "\n",
    "    def bst(self, operand: int):\n",
    "        self.B = self.combo(operand) % 8\n",
    "\n",
    "    def jnz(self, operand: int) -> int | None:\n",
    "        if self.A == 0:\n",
    "            return\n",
    "        return operand\n",
    "\n",
    "    def bxc(self, _: int):\n",
    "        self.B = self.B ^ self.C\n",
    "\n",
    "    def out(self, operand: int):\n",
    "        return self.combo(operand) % 8\n",
    "\n",
    "    def bdv(self, operand: int):\n",
    "        self.B = self.A // 2 ** self.combo(operand)\n",
    "\n",
    "    def cdv(self, operand: int):\n",
    "        self.C = self.A // 2 ** self.combo(operand)\n",
    "\n",
    "\n",
    "def run(registers):\n",
    "    P = ProgramState(**registers)\n",
    "\n",
    "    instruction_funcs = {\n",
    "        \"adv\": P.adv,\n",
    "        \"bxl\": P.bxl,\n",
    "        \"bst\": P.bst,\n",
    "        \"jnz\": P.jnz,\n",
    "        \"bxc\": P.bxc,\n",
    "        \"bdv\": P.bdv,\n",
    "        \"cdv\": P.cdv,\n",
    "        \"out\": P.out,\n",
    "    }\n",
    "\n",
    "    i = 0\n",
    "\n",
    "    while i < len(program):\n",
    "        instruction = instructions[program[i]]\n",
    "        operand = program[i + 1]\n",
    "\n",
    "        if instruction == \"out\":\n",
    "            yield instruction_funcs[instruction](operand)\n",
    "            i += 2\n",
    "        else:\n",
    "            res = instruction_funcs[instruction](operand)\n",
    "            if res is not None:\n",
    "                i = res\n",
    "            else:\n",
    "                i += 2"
   ]
  },
  {
   "cell_type": "code",
   "execution_count": 4,
   "id": "2a366f3a-ad3e-4cae-afd8-225dadfa6bde",
   "metadata": {},
   "outputs": [
    {
     "name": "stdout",
     "output_type": "stream",
     "text": [
      "1,6,7,4,3,0,5,0,6\n"
     ]
    }
   ],
   "source": [
    "print(\",\".join(str(x) for x in run(registers)))"
   ]
  },
  {
   "cell_type": "code",
   "execution_count": null,
   "id": "90ac7e2d-9655-4d5d-9fd4-c1d95bf6e14e",
   "metadata": {},
   "outputs": [
    {
     "name": "stdout",
     "output_type": "stream",
     "text": [
      "0\n",
      "1000000\n",
      "2000000\n",
      "3000000\n",
      "4000000\n",
      "5000000\n",
      "6000000\n",
      "7000000\n",
      "8000000\n",
      "9000000\n",
      "10000000\n",
      "11000000\n",
      "12000000\n",
      "13000000\n",
      "14000000\n",
      "15000000\n"
     ]
    }
   ],
   "source": [
    "def check_iter_equal_to(it, expected):\n",
    "    for e in expected:\n",
    "        val = next(it, None)\n",
    "        if val != e:\n",
    "            return False\n",
    "    return next(it, None) is None\n",
    "\n",
    "\n",
    "for A in range(1_000_000_000):\n",
    "    if A % 1_000_000 == 0:\n",
    "        print(A)\n",
    "\n",
    "    if check_iter_equal_to(run(registers | {\"A\": A}), program):\n",
    "        print(A)\n",
    "        break"
   ]
  },
  {
   "cell_type": "code",
   "execution_count": null,
   "id": "f8e51bda-6d22-4086-adee-33b02a890ed1",
   "metadata": {},
   "outputs": [],
   "source": []
  }
 ],
 "metadata": {
  "kernelspec": {
   "display_name": "Python 3 (ipykernel)",
   "language": "python",
   "name": "python3"
  },
  "language_info": {
   "codemirror_mode": {
    "name": "ipython",
    "version": 3
   },
   "file_extension": ".py",
   "mimetype": "text/x-python",
   "name": "python",
   "nbconvert_exporter": "python",
   "pygments_lexer": "ipython3",
   "version": "3.12.0"
  }
 },
 "nbformat": 4,
 "nbformat_minor": 5
}
