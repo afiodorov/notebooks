{
 "cells": [
  {
   "cell_type": "code",
   "execution_count": 1,
   "id": "09dbf0ab-48ac-4d44-a1f3-b185c9dd02c7",
   "metadata": {},
   "outputs": [],
   "source": [
    "from pathlib import Path\n",
    "import re\n",
    "from dataclasses import dataclass, field\n",
    "from itertools import zip_longest"
   ]
  },
  {
   "cell_type": "code",
   "execution_count": 2,
   "id": "29f8b1b3-d6cb-4323-9a98-589154f8d857",
   "metadata": {},
   "outputs": [],
   "source": [
    "registers, program = Path(\"data/17.txt\").read_text().strip().split(\"\\n\\n\")\n",
    "program = [int(x) for x in program.split(\": \")[1].split(\",\")]\n",
    "registers = {\n",
    "    r: int(l.split(\": \")[1]) for l, r in zip(registers.split(\"\\n\"), [\"A\", \"B\", \"C\"])\n",
    "}\n",
    "\n",
    "instructions = {\n",
    "    i: ins\n",
    "    for i, ins in enumerate([\"adv\", \"bxl\", \"bst\", \"jnz\", \"bxc\", \"out\", \"bdv\", \"cdv\"])\n",
    "}"
   ]
  },
  {
   "cell_type": "code",
   "execution_count": 3,
   "id": "e775db29-40cc-48b4-9309-8e697c43bdc9",
   "metadata": {},
   "outputs": [],
   "source": [
    "@dataclass\n",
    "class ProgramState:\n",
    "    A: int\n",
    "    B: int\n",
    "    C: int\n",
    "\n",
    "    def combo(self, operand: int):\n",
    "        if operand <= 3:\n",
    "            return operand\n",
    "        elif operand == 4:\n",
    "            return self.A\n",
    "        elif operand == 5:\n",
    "            return self.B\n",
    "        elif operand == 6:\n",
    "            return self.C\n",
    "        raise ValueError(operand)\n",
    "\n",
    "    def adv(self, operand: int):\n",
    "        self.A = self.A // 2 ** self.combo(operand)\n",
    "\n",
    "    def bxl(self, operand: int):\n",
    "        self.B = self.B ^ operand\n",
    "\n",
    "    def bst(self, operand: int):\n",
    "        self.B = self.combo(operand) % 8\n",
    "\n",
    "    def jnz(self, operand: int) -> int | None:\n",
    "        if self.A == 0:\n",
    "            return\n",
    "        return operand\n",
    "\n",
    "    def bxc(self, _: int):\n",
    "        self.B = self.B ^ self.C\n",
    "\n",
    "    def out(self, operand: int):\n",
    "        return self.combo(operand) % 8\n",
    "\n",
    "    def bdv(self, operand: int):\n",
    "        self.B = self.A // 2 ** self.combo(operand)\n",
    "\n",
    "    def cdv(self, operand: int):\n",
    "        self.C = self.A // 2 ** self.combo(operand)\n",
    "\n",
    "\n",
    "def run(A=None):\n",
    "    reg = registers | {\"A\": A or registers[\"A\"]}\n",
    "    P = ProgramState(**reg)\n",
    "\n",
    "    instruction_funcs = {\n",
    "        \"adv\": P.adv,\n",
    "        \"bxl\": P.bxl,\n",
    "        \"bst\": P.bst,\n",
    "        \"jnz\": P.jnz,\n",
    "        \"bxc\": P.bxc,\n",
    "        \"bdv\": P.bdv,\n",
    "        \"cdv\": P.cdv,\n",
    "        \"out\": P.out,\n",
    "    }\n",
    "\n",
    "    i = 0\n",
    "\n",
    "    while i < len(program):\n",
    "        instruction = instructions[program[i]]\n",
    "        operand = program[i + 1]\n",
    "\n",
    "        if instruction == \"out\":\n",
    "            yield instruction_funcs[instruction](operand)\n",
    "            i += 2\n",
    "        else:\n",
    "            res = instruction_funcs[instruction](operand)\n",
    "            if res is not None:\n",
    "                i = res\n",
    "            else:\n",
    "                i += 2"
   ]
  },
  {
   "cell_type": "code",
   "execution_count": 4,
   "id": "2a366f3a-ad3e-4cae-afd8-225dadfa6bde",
   "metadata": {},
   "outputs": [
    {
     "name": "stdout",
     "output_type": "stream",
     "text": [
      "1,6,7,4,3,0,5,0,6\n"
     ]
    }
   ],
   "source": [
    "print(\",\".join(str(x) for x in run()))"
   ]
  },
  {
   "cell_type": "code",
   "execution_count": 5,
   "id": "90ac7e2d-9655-4d5d-9fd4-c1d95bf6e14e",
   "metadata": {
    "scrolled": true
   },
   "outputs": [
    {
     "data": {
      "text/plain": [
       "216148338630253"
      ]
     },
     "execution_count": 5,
     "metadata": {},
     "output_type": "execute_result"
    }
   ],
   "source": [
    "def check_iter_equal_to(it, expected):\n",
    "    for e in expected:\n",
    "        val = next(it, None)\n",
    "        if val != e:\n",
    "            return False\n",
    "    return next(it, None) is None\n",
    "\n",
    "\n",
    "def bt(program, A, done):\n",
    "    if len(program) == done:\n",
    "        yield A\n",
    "        return\n",
    "\n",
    "    for a in range(8):\n",
    "        if check_iter_equal_to(run(A * 8 + a), program[-(done + 1) :]):\n",
    "            yield from bt(program, A * 8 + a, done + 1)\n",
    "\n",
    "\n",
    "min(bt(program, 0, 0))"
   ]
  },
  {
   "cell_type": "code",
   "execution_count": null,
   "id": "5a9587c9-4e93-43a0-848c-d2de9e17fabe",
   "metadata": {},
   "outputs": [],
   "source": []
  }
 ],
 "metadata": {
  "kernelspec": {
   "display_name": "Python 3 (ipykernel)",
   "language": "python",
   "name": "python3"
  },
  "language_info": {
   "codemirror_mode": {
    "name": "ipython",
    "version": 3
   },
   "file_extension": ".py",
   "mimetype": "text/x-python",
   "name": "python",
   "nbconvert_exporter": "python",
   "pygments_lexer": "ipython3",
   "version": "3.12.0"
  }
 },
 "nbformat": 4,
 "nbformat_minor": 5
}
