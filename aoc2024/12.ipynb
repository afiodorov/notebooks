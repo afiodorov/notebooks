{
 "cells": [
  {
   "cell_type": "code",
   "execution_count": 1,
   "id": "3831f0fa-84d8-4535-84cf-c55c42dc9841",
   "metadata": {},
   "outputs": [],
   "source": [
    "import pandas as pd\n",
    "import numpy as np\n",
    "from collections import deque"
   ]
  },
  {
   "cell_type": "code",
   "execution_count": 2,
   "id": "f456e702-5fa4-4b64-8b1c-bc993aa05f06",
   "metadata": {},
   "outputs": [],
   "source": [
    "grid = (\n",
    "    pd.read_csv(\"data/12.txt\", engine=\"python\", sep=r\"\\s*\", names=range(-1, 1000))\n",
    "    .dropna(how=\"all\", axis=1)\n",
    "    .values\n",
    ")"
   ]
  },
  {
   "cell_type": "code",
   "execution_count": 3,
   "id": "2a5a8a80-7f00-4079-9ff2-7ad5e8ae6cb8",
   "metadata": {},
   "outputs": [],
   "source": [
    "def f(a):\n",
    "    return np.diff(a, axis=0, prepend=0, append=0)\n",
    "\n",
    "\n",
    "def perimeter(a):\n",
    "    return np.abs(f(a)).sum() + np.abs(f(a.T)).sum()\n",
    "\n",
    "\n",
    "def perimeter2(a):\n",
    "    diff_v = f(a)\n",
    "    diff_h = f(a.T)\n",
    "    vertical_edges = np.abs(f(diff_v.T)).sum() // 2\n",
    "    horizontal_edges = np.abs(f(diff_h.T)).sum() // 2\n",
    "    return vertical_edges + horizontal_edges\n",
    "\n",
    "\n",
    "def bfs(start_x, start_y, start_v):\n",
    "    d = deque([(start_x, start_y, start_v)])\n",
    "    del vals[(start_x, start_y)]\n",
    "    while d:\n",
    "        x, y, v = d.popleft()\n",
    "        yield x, y\n",
    "        for dx, dy in [(-1, 0), (1, 0), (0, -1), (0, 1)]:\n",
    "            if vals.get((x + dx, y + dy)) == v:\n",
    "                del vals[(x + dx, y + dy)]\n",
    "                d.append((x + dx, y + dy, v))"
   ]
  },
  {
   "cell_type": "code",
   "execution_count": 4,
   "id": "82175554-d50b-453c-8e98-78d1af5eca68",
   "metadata": {},
   "outputs": [
    {
     "data": {
      "text/plain": [
       "1549354"
      ]
     },
     "execution_count": 4,
     "metadata": {},
     "output_type": "execute_result"
    }
   ],
   "source": [
    "vals = {(i, j): v for (i, j), v in np.ndenumerate(grid)}\n",
    "s = 0\n",
    "\n",
    "while vals:\n",
    "    start_x, start_y = next(iter(vals))\n",
    "    v = vals[(start_x, start_y)]\n",
    "    a = np.zeros_like(grid)\n",
    "    for x, y in bfs(start_x, start_y, v):\n",
    "        a[x, y] = 1\n",
    "    area = np.sum(a)\n",
    "    per = perimeter(a)\n",
    "    s += area * per\n",
    "s"
   ]
  },
  {
   "cell_type": "code",
   "execution_count": 5,
   "id": "7bc8d935-632c-4cfa-8a7e-d1a2b4a256c8",
   "metadata": {},
   "outputs": [
    {
     "data": {
      "text/plain": [
       "937032"
      ]
     },
     "execution_count": 5,
     "metadata": {},
     "output_type": "execute_result"
    }
   ],
   "source": [
    "vals = {(i, j): v for (i, j), v in np.ndenumerate(grid)}\n",
    "s = 0\n",
    "\n",
    "while vals:\n",
    "    start_x, start_y = next(iter(vals))\n",
    "    v = vals[(start_x, start_y)]\n",
    "    a = np.zeros_like(grid)\n",
    "    for x, y in bfs(start_x, start_y, v):\n",
    "        a[x, y] = 1\n",
    "    area = np.sum(a)\n",
    "    per = perimeter2(a)\n",
    "    s += area * per\n",
    "s"
   ]
  },
  {
   "cell_type": "code",
   "execution_count": null,
   "id": "c1019144-c09e-4c55-b116-9b2af1246ec5",
   "metadata": {},
   "outputs": [],
   "source": []
  }
 ],
 "metadata": {
  "kernelspec": {
   "display_name": "Python 3 (ipykernel)",
   "language": "python",
   "name": "python3"
  },
  "language_info": {
   "codemirror_mode": {
    "name": "ipython",
    "version": 3
   },
   "file_extension": ".py",
   "mimetype": "text/x-python",
   "name": "python",
   "nbconvert_exporter": "python",
   "pygments_lexer": "ipython3",
   "version": "3.12.0"
  }
 },
 "nbformat": 4,
 "nbformat_minor": 5
}
