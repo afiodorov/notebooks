{
 "cells": [
  {
   "cell_type": "code",
   "execution_count": 1,
   "id": "294dd5da-9e28-47c6-b9cd-c745f799e248",
   "metadata": {},
   "outputs": [],
   "source": [
    "from pathlib import Path\n",
    "from functools import cache\n",
    "from collections import Counter"
   ]
  },
  {
   "cell_type": "code",
   "execution_count": 2,
   "id": "7e86d7b0-0e2c-4e75-a9aa-9c9eea90b3fb",
   "metadata": {},
   "outputs": [],
   "source": [
    "l0 = [int(x) for x in Path(\"data/11.txt\").read_text().split()]"
   ]
  },
  {
   "cell_type": "code",
   "execution_count": 3,
   "id": "3bc4ba5f-0361-4ab0-acbe-2110a61bd1f0",
   "metadata": {},
   "outputs": [
    {
     "name": "stdout",
     "output_type": "stream",
     "text": [
      "189547\n"
     ]
    }
   ],
   "source": [
    "l = l0\n",
    "\n",
    "\n",
    "@cache\n",
    "def transform(e):\n",
    "    if e == 0:\n",
    "        return [1]\n",
    "    if len(s := str(e)) % 2 == 0:\n",
    "        return [int(s[: len(s) // 2]), int(s[len(s) // 2 :])]\n",
    "    return [e * 2024]\n",
    "\n",
    "\n",
    "for _ in range(25):\n",
    "    l = [r for e in l for r in transform(e)]\n",
    "\n",
    "print(len(l))"
   ]
  },
  {
   "cell_type": "code",
   "execution_count": 4,
   "id": "41a54cfd-4634-440e-abbc-11e06d0a9a08",
   "metadata": {},
   "outputs": [
    {
     "name": "stdout",
     "output_type": "stream",
     "text": [
      "224577979481346\n"
     ]
    }
   ],
   "source": [
    "initial_stones = l0\n",
    "stone_counter = Counter(initial_stones)\n",
    "\n",
    "for _ in range(75):\n",
    "    new_counter = Counter()\n",
    "    for stone, count in stone_counter.items():\n",
    "        result_stones = transform(stone)\n",
    "        for r in result_stones:\n",
    "            new_counter[r] += count\n",
    "    stone_counter = new_counter\n",
    "\n",
    "print(sum(stone_counter.values()))"
   ]
  },
  {
   "cell_type": "code",
   "execution_count": null,
   "id": "4fe534bb-5d1f-4258-b0ae-86fd68cfa612",
   "metadata": {},
   "outputs": [],
   "source": []
  }
 ],
 "metadata": {
  "kernelspec": {
   "display_name": "Python 3 (ipykernel)",
   "language": "python",
   "name": "python3"
  },
  "language_info": {
   "codemirror_mode": {
    "name": "ipython",
    "version": 3
   },
   "file_extension": ".py",
   "mimetype": "text/x-python",
   "name": "python",
   "nbconvert_exporter": "python",
   "pygments_lexer": "ipython3",
   "version": "3.12.0"
  }
 },
 "nbformat": 4,
 "nbformat_minor": 5
}
