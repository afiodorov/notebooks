{
 "cells": [
  {
   "cell_type": "code",
   "execution_count": 1,
   "id": "4110dd15-4f1c-48e6-b087-7ada8654e5f8",
   "metadata": {},
   "outputs": [],
   "source": [
    "import numpy as np\n",
    "from pathlib import Path\n",
    "import pandas as pd\n",
    "from collections import defaultdict"
   ]
  },
  {
   "cell_type": "code",
   "execution_count": 2,
   "id": "c0c1a8b6-f5aa-46f9-acb3-23153dbfa0e6",
   "metadata": {},
   "outputs": [],
   "source": [
    "secrets = np.array(\n",
    "    [int(x) for x in Path(\"data/22.txt\").read_text().strip().split(\"\\n\")]\n",
    ")"
   ]
  },
  {
   "cell_type": "code",
   "execution_count": 3,
   "id": "837b3363-622c-453e-942a-7c55e55ffd4e",
   "metadata": {},
   "outputs": [
    {
     "data": {
      "text/plain": [
       "np.int64(19241711734)"
      ]
     },
     "execution_count": 3,
     "metadata": {},
     "output_type": "execute_result"
    }
   ],
   "source": [
    "def evolve(secrets):\n",
    "    secrets = np.bitwise_xor(secrets * 64, secrets) % 16777216\n",
    "    secrets = np.bitwise_xor(secrets // 32, secrets) % 16777216\n",
    "    return np.bitwise_xor(secrets * 2048, secrets) % 16777216\n",
    "\n",
    "\n",
    "def repeatedly_apply(f, x, n):\n",
    "    for _ in range(n):\n",
    "        x = f(x)\n",
    "    return x\n",
    "\n",
    "\n",
    "repeatedly_apply(evolve, secrets, 2000).sum()"
   ]
  },
  {
   "cell_type": "code",
   "execution_count": 4,
   "id": "6c8df1c8-85e7-45c4-9312-716eace2f27c",
   "metadata": {},
   "outputs": [],
   "source": [
    "res = [secrets]\n",
    "for i in range(1, 2001):\n",
    "    secrets = evolve(secrets)\n",
    "    res.append(secrets)\n",
    "\n",
    "df = pd.DataFrame(res)\n",
    "df.columns = res[0]"
   ]
  },
  {
   "cell_type": "code",
   "execution_count": 5,
   "id": "1181190f-9cbe-4b51-a22c-44086ff98f52",
   "metadata": {},
   "outputs": [],
   "source": [
    "result = defaultdict(lambda: dict())\n",
    "\n",
    "\n",
    "def f(s: pd.Series):\n",
    "    for i in range(4, len(s)):\n",
    "        key = \",\".join(str(int(a)) for a in s.values[max(i - 3, 0) : i + 1] if a == a)\n",
    "        if key not in result[s.name]:\n",
    "            result[s.name][key] = df[s.name].iloc[i] % 10\n",
    "    return 0\n",
    "\n",
    "\n",
    "_ = (df % 10).diff().apply(f, axis=0)"
   ]
  },
  {
   "cell_type": "code",
   "execution_count": 6,
   "id": "8da1cdc5-27b8-4371-897b-d503eea58e74",
   "metadata": {},
   "outputs": [
    {
     "data": {
      "text/plain": [
       "2058.0"
      ]
     },
     "execution_count": 6,
     "metadata": {},
     "output_type": "execute_result"
    }
   ],
   "source": [
    "s = pd.Series()\n",
    "for v in result:\n",
    "    s = s.add(pd.Series(result[v]), fill_value=0)\n",
    "\n",
    "s.max()"
   ]
  },
  {
   "cell_type": "code",
   "execution_count": null,
   "id": "97b9f542-400c-42e0-8cf5-88f3406546c7",
   "metadata": {},
   "outputs": [],
   "source": []
  }
 ],
 "metadata": {
  "kernelspec": {
   "display_name": "Python 3 (ipykernel)",
   "language": "python",
   "name": "python3"
  },
  "language_info": {
   "codemirror_mode": {
    "name": "ipython",
    "version": 3
   },
   "file_extension": ".py",
   "mimetype": "text/x-python",
   "name": "python",
   "nbconvert_exporter": "python",
   "pygments_lexer": "ipython3",
   "version": "3.12.7"
  }
 },
 "nbformat": 4,
 "nbformat_minor": 5
}
