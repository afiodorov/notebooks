{
 "cells": [
  {
   "cell_type": "code",
   "execution_count": 1,
   "id": "ade4c305-7271-4066-be23-5a35bf998588",
   "metadata": {},
   "outputs": [],
   "source": [
    "from pathlib import Path\n",
    "from io import StringIO\n",
    "import pandas as pd\n",
    "import numpy as np"
   ]
  },
  {
   "cell_type": "code",
   "execution_count": 2,
   "id": "b9d0041b-3652-402a-9424-8a3cbeeb809a",
   "metadata": {},
   "outputs": [],
   "source": [
    "grid, moves = Path(\"data/15.txt\").read_text().split(\"\\n\\n\")\n",
    "grid = (\n",
    "    pd.read_csv(StringIO(grid), engine=\"python\", sep=r\"\\s*\", names=range(-1, 1000))\n",
    "    .dropna(how=\"all\", axis=1)\n",
    "    .values\n",
    ")\n",
    "moves = [x for l in moves.split(\"\\n\") for x in l]\n",
    "dirs = {\"<\": (0, -1), \">\": (0, 1), \"^\": (-1, 0), \"v\": (1, 0)}"
   ]
  },
  {
   "cell_type": "code",
   "execution_count": 3,
   "id": "06239c46-6d67-44b9-bc30-96794d3d12c4",
   "metadata": {},
   "outputs": [],
   "source": [
    "def find_first(line, ch):\n",
    "    try:\n",
    "        i = next(i for i, x in enumerate(line) if x == ch)\n",
    "    except StopIteration:\n",
    "        return None\n",
    "    return i"
   ]
  },
  {
   "cell_type": "code",
   "execution_count": 4,
   "id": "c32af756-0bee-401f-a048-95a1682787d3",
   "metadata": {},
   "outputs": [],
   "source": [
    "def move(x, y, dir):\n",
    "    dx, dy = dirs[dir]\n",
    "    if dir == \"<\":\n",
    "        line = grid[x, 1:y][::-1]\n",
    "    elif dir == \">\":\n",
    "        line = grid[x, (y + 1) : -1]\n",
    "    elif dir == \"^\":\n",
    "        line = grid[1:x, y][::-1]\n",
    "    elif dir == \"v\":\n",
    "        line = grid[(x + 1) : -1, y]\n",
    "\n",
    "    if (early := find_first(line, \"#\")) is not None:\n",
    "        line = line[:early]\n",
    "\n",
    "    if len(line) == 0:\n",
    "        return x, y\n",
    "\n",
    "    i = find_first(line, \".\")\n",
    "    if i is None:\n",
    "        return x, y\n",
    "\n",
    "    line[1 : i + 1] = line[:i]\n",
    "    line[0] = \"@\"\n",
    "    grid[x, y] = \".\"\n",
    "    return x + dx, y + dy"
   ]
  },
  {
   "cell_type": "code",
   "execution_count": 5,
   "id": "087c2ba0-08da-4fd1-9523-11f3aad2fe3d",
   "metadata": {},
   "outputs": [
    {
     "data": {
      "text/plain": [
       "1436690"
      ]
     },
     "execution_count": 5,
     "metadata": {},
     "output_type": "execute_result"
    }
   ],
   "source": [
    "x, y = np.where(grid == \"@\")[0][0], np.where(grid == \"@\")[1][0]\n",
    "for dir in moves:\n",
    "    # print('\\n'.join(''.join(l) for l in grid))\n",
    "    x, y = move(x, y, dir)\n",
    "    # print(dir)\n",
    "# print('\\n'.join(''.join(l) for l in grid))\n",
    "sum(i * 100 + j for (i, j), v in np.ndenumerate(grid) if v == \"O\")"
   ]
  },
  {
   "cell_type": "code",
   "execution_count": null,
   "id": "80d38810-d522-4466-aa92-785ead0aa881",
   "metadata": {},
   "outputs": [],
   "source": []
  }
 ],
 "metadata": {
  "kernelspec": {
   "display_name": "Python 3 (ipykernel)",
   "language": "python",
   "name": "python3"
  },
  "language_info": {
   "codemirror_mode": {
    "name": "ipython",
    "version": 3
   },
   "file_extension": ".py",
   "mimetype": "text/x-python",
   "name": "python",
   "nbconvert_exporter": "python",
   "pygments_lexer": "ipython3",
   "version": "3.12.0"
  }
 },
 "nbformat": 4,
 "nbformat_minor": 5
}
