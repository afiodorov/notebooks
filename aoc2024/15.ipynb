{
 "cells": [
  {
   "cell_type": "code",
   "execution_count": 1,
   "id": "ade4c305-7271-4066-be23-5a35bf998588",
   "metadata": {},
   "outputs": [],
   "source": [
    "from pathlib import Path\n",
    "from io import StringIO\n",
    "import pandas as pd"
   ]
  },
  {
   "cell_type": "code",
   "execution_count": 2,
   "id": "b9d0041b-3652-402a-9424-8a3cbeeb809a",
   "metadata": {},
   "outputs": [],
   "source": [
    "grid, moves = Path(\"data/15sample2.txt\").read_text().split(\"\\n\\n\")\n",
    "grid = (\n",
    "    pd.read_csv(StringIO(grid), engine=\"python\", sep=r\"\\s*\", names=range(-1, 1000))\n",
    "    .dropna(how=\"all\", axis=1)\n",
    "    .values\n",
    ")\n",
    "moves = [x for l in moves.split(\"\\n\") for x in l]"
   ]
  },
  {
   "cell_type": "code",
   "execution_count": null,
   "id": "267e112e-36a9-4ec3-8481-561b69332e62",
   "metadata": {},
   "outputs": [],
   "source": []
  }
 ],
 "metadata": {
  "kernelspec": {
   "display_name": "Python 3 (ipykernel)",
   "language": "python",
   "name": "python3"
  },
  "language_info": {
   "codemirror_mode": {
    "name": "ipython",
    "version": 3
   },
   "file_extension": ".py",
   "mimetype": "text/x-python",
   "name": "python",
   "nbconvert_exporter": "python",
   "pygments_lexer": "ipython3",
   "version": "3.12.0"
  }
 },
 "nbformat": 4,
 "nbformat_minor": 5
}
