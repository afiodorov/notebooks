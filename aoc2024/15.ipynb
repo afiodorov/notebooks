{
 "cells": [
  {
   "cell_type": "code",
   "execution_count": 1,
   "id": "ade4c305-7271-4066-be23-5a35bf998588",
   "metadata": {},
   "outputs": [],
   "source": [
    "from pathlib import Path\n",
    "from io import StringIO\n",
    "import pandas as pd\n",
    "import numpy as np"
   ]
  },
  {
   "cell_type": "code",
   "execution_count": 2,
   "id": "b9d0041b-3652-402a-9424-8a3cbeeb809a",
   "metadata": {},
   "outputs": [],
   "source": [
    "grid, moves = Path(\"data/15.txt\").read_text().split(\"\\n\\n\")\n",
    "grid = (\n",
    "    pd.read_csv(StringIO(grid), engine=\"python\", sep=r\"\\s*\", names=range(-1, 1000))\n",
    "    .dropna(how=\"all\", axis=1)\n",
    "    .values\n",
    ")\n",
    "grid1 = grid.copy()\n",
    "moves = [x for l in moves.split(\"\\n\") for x in l]\n",
    "dirs = {\"<\": (0, -1), \">\": (0, 1), \"^\": (-1, 0), \"v\": (1, 0)}"
   ]
  },
  {
   "cell_type": "code",
   "execution_count": 3,
   "id": "06239c46-6d67-44b9-bc30-96794d3d12c4",
   "metadata": {},
   "outputs": [],
   "source": [
    "def find_first(line, ch):\n",
    "    try:\n",
    "        i = next(i for i, x in enumerate(line) if x == ch)\n",
    "    except StopIteration:\n",
    "        return None\n",
    "    return i\n",
    "\n",
    "\n",
    "def pprint(grid):\n",
    "    print(\"\\n\".join(\"\".join(l) for l in grid))"
   ]
  },
  {
   "cell_type": "code",
   "execution_count": 4,
   "id": "c32af756-0bee-401f-a048-95a1682787d3",
   "metadata": {},
   "outputs": [],
   "source": [
    "def move(x, y, dir, grid):\n",
    "    dx, dy = dirs[dir]\n",
    "    if dir == \"<\":\n",
    "        line = grid[x, 1:y][::-1]\n",
    "    elif dir == \">\":\n",
    "        line = grid[x, (y + 1) : -1]\n",
    "    elif dir == \"^\":\n",
    "        line = grid[1:x, y][::-1]\n",
    "    elif dir == \"v\":\n",
    "        line = grid[(x + 1) : -1, y]\n",
    "\n",
    "    if (early := find_first(line, \"#\")) is not None:\n",
    "        line = line[:early]\n",
    "\n",
    "    if len(line) == 0:\n",
    "        return x, y\n",
    "\n",
    "    i = find_first(line, \".\")\n",
    "    if i is None:\n",
    "        return x, y\n",
    "\n",
    "    line[1 : i + 1] = line[:i]\n",
    "    line[0] = \"@\"\n",
    "    grid[x, y] = \".\"\n",
    "    return x + dx, y + dy"
   ]
  },
  {
   "cell_type": "code",
   "execution_count": 5,
   "id": "087c2ba0-08da-4fd1-9523-11f3aad2fe3d",
   "metadata": {},
   "outputs": [
    {
     "data": {
      "text/plain": [
       "1436690"
      ]
     },
     "execution_count": 5,
     "metadata": {},
     "output_type": "execute_result"
    }
   ],
   "source": [
    "x, y = np.where(grid == \"@\")[0][0], np.where(grid == \"@\")[1][0]\n",
    "for dir in moves:\n",
    "    # pprint(grid)\n",
    "    x, y = move(x, y, dir, grid)\n",
    "    # print(dir)\n",
    "# pprint(grid)\n",
    "sum(i * 100 + j for (i, j), v in np.ndenumerate(grid) if v == \"O\")"
   ]
  },
  {
   "cell_type": "code",
   "execution_count": 6,
   "id": "80d38810-d522-4466-aa92-785ead0aa881",
   "metadata": {},
   "outputs": [],
   "source": [
    "b = StringIO()\n",
    "transform = {\"#\": \"##\", \"O\": \"[]\", \".\": \"..\", \"@\": \"@.\"}\n",
    "\n",
    "for line in grid1:\n",
    "    for x in line:\n",
    "        b.write(transform[x])\n",
    "    b.write(\"\\n\")\n",
    "b.seek(0)\n",
    "\n",
    "wide_grid = (\n",
    "    pd.read_csv(b, engine=\"python\", sep=r\"\\s*\", names=range(-1, 1000))\n",
    "    .dropna(how=\"all\", axis=1)\n",
    "    .values\n",
    ")"
   ]
  },
  {
   "cell_type": "code",
   "execution_count": 7,
   "id": "f99376b1-30c1-4fa9-ba31-385e8b8fc934",
   "metadata": {},
   "outputs": [],
   "source": [
    "def is_box_movable(x, y, dir, grid):\n",
    "    dx, _ = dirs[dir]\n",
    "    if (grid[x + dx, y : y + 2] == np.array([\".\", \".\"])).all():\n",
    "        return True\n",
    "    if (grid[x + dx, y : y + 2] == np.array([\".\", \"@\"])).all():\n",
    "        return True\n",
    "    if (grid[x + dx, y : y + 2] == np.array([\"@\", \".\"])).all():\n",
    "        return True\n",
    "    if \"#\" in grid[x + dx, y : y + 2]:\n",
    "        return False\n",
    "    if (grid[x + dx, y : y + 2] == np.array([\"[\", \"]\"])).all():\n",
    "        return is_box_movable(x + dx, y, dir, grid)\n",
    "    if (grid[x + dx, y : y + 2] == np.array([\".\", \"[\"])).all():\n",
    "        return is_box_movable(x + dx, y + 1, dir, grid)\n",
    "    if (grid[x + dx, y : y + 2] == np.array([\"]\", \"[\"])).all():\n",
    "        return is_box_movable(x + dx, y - 1, dir, grid) and is_box_movable(\n",
    "            x + dx, y + 1, dir, grid\n",
    "        )\n",
    "    if (grid[x + dx, y : y + 2] == np.array([\"]\", \".\"])).all():\n",
    "        return is_box_movable(x + dx, y - 1, dir, grid)\n",
    "    raise ValueError(grid[x + dx, y : y + 2])\n",
    "\n",
    "\n",
    "def move_box(x, y, dir, grid):\n",
    "    dx, _ = dirs[dir]\n",
    "    if (grid[x + dx, y : y + 2] == np.array([\"]\", \"[\"])).all():\n",
    "        move_box(x + dx, y - 1, dir, grid)\n",
    "        move_box(x + dx, y + 1, dir, grid)\n",
    "    elif (grid[x + dx, y : y + 2] == np.array([\".\", \"[\"])).all():\n",
    "        move_box(x + dx, y + 1, dir, grid)\n",
    "    elif (grid[x + dx, y : y + 2] == np.array([\"]\", \".\"])).all():\n",
    "        move_box(x + dx, y - 1, dir, grid)\n",
    "    elif (grid[x + dx, y : y + 2] == np.array([\"[\", \"]\"])).all():\n",
    "        move_box(x + dx, y, dir, grid)\n",
    "\n",
    "    grid[x + dx, y : y + 2] = np.array([\"[\", \"]\"])\n",
    "    grid[x, y : y + 2] = np.array([\".\", \".\"])\n",
    "\n",
    "\n",
    "def move2(x, y, dir, grid):\n",
    "    dx, dy = dirs[dir]\n",
    "    if grid[x + dx, y + dy] == \"#\":\n",
    "        return x, y\n",
    "\n",
    "    if grid[x + dx, y + dy] == \".\":\n",
    "        grid[x + dx, y + dy] = \"@\"\n",
    "        grid[x, y] = \".\"\n",
    "        return x + dx, y + dy\n",
    "\n",
    "    if grid[x + dx, y + dy] == \"[\":\n",
    "        if is_box_movable(x + dx, y + dy, dir, grid):\n",
    "            move_box(x + dx, y + dy, dir, grid)\n",
    "            grid[x + dx, y + dy] = \"@\"\n",
    "            grid[x, y] = \".\"\n",
    "            return x + dx, y + dy\n",
    "        else:\n",
    "            return x, y\n",
    "\n",
    "    if grid[x + dx, y + dy] == \"]\":\n",
    "        if is_box_movable(x + dx, y + dy - 1, dir, grid):\n",
    "            move_box(x + dx, y + dy - 1, dir, grid)\n",
    "            grid[x + dx, y + dy] = \"@\"\n",
    "            grid[x, y] = \".\"\n",
    "            return x + dx, y + dy\n",
    "        else:\n",
    "            return x, y\n",
    "\n",
    "    raise ValueError(grid[x + dx, y + dy])"
   ]
  },
  {
   "cell_type": "code",
   "execution_count": 8,
   "id": "fcbd1d99-55d8-4745-b323-708572a69487",
   "metadata": {},
   "outputs": [
    {
     "data": {
      "text/plain": [
       "1482350"
      ]
     },
     "execution_count": 8,
     "metadata": {},
     "output_type": "execute_result"
    }
   ],
   "source": [
    "from copy import deepcopy\n",
    "\n",
    "x, y = np.where(wide_grid == \"@\")[0][0], np.where(wide_grid == \"@\")[1][0]\n",
    "for dir in moves:\n",
    "    # pprint(wide_grid)\n",
    "    if dir == \"^\" or dir == \"v\":\n",
    "        x, y = move2(x, y, dir, wide_grid)\n",
    "    else:\n",
    "        x, y = move(x, y, dir, wide_grid)\n",
    "    # print(dir)\n",
    "# pprint(wide_grid)\n",
    "\n",
    "sum(i * 100 + j for (i, j), v in np.ndenumerate(wide_grid) if v == \"[\")"
   ]
  },
  {
   "cell_type": "code",
   "execution_count": null,
   "id": "65d1105c-b3b2-4eba-bc5f-f98b81b72885",
   "metadata": {},
   "outputs": [],
   "source": []
  }
 ],
 "metadata": {
  "kernelspec": {
   "display_name": "Python 3 (ipykernel)",
   "language": "python",
   "name": "python3"
  },
  "language_info": {
   "codemirror_mode": {
    "name": "ipython",
    "version": 3
   },
   "file_extension": ".py",
   "mimetype": "text/x-python",
   "name": "python",
   "nbconvert_exporter": "python",
   "pygments_lexer": "ipython3",
   "version": "3.12.0"
  }
 },
 "nbformat": 4,
 "nbformat_minor": 5
}
