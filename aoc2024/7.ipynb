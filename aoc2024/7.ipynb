{
 "cells": [
  {
   "cell_type": "code",
   "execution_count": 1,
   "id": "d5ddc00c-97cb-4bd2-8475-f5e664092286",
   "metadata": {},
   "outputs": [],
   "source": [
    "from pathlib import Path"
   ]
  },
  {
   "cell_type": "code",
   "execution_count": 2,
   "id": "9b4a3060-1cef-47fd-ab70-5f28c791429c",
   "metadata": {},
   "outputs": [],
   "source": [
    "parsed = [\n",
    "    (int(l.split(\": \")[0]), [int(x) for x in l.split(\": \")[1].split()])\n",
    "    for l in Path(\"data/7.txt\").read_text().strip().split(\"\\n\")\n",
    "]"
   ]
  },
  {
   "cell_type": "code",
   "execution_count": 3,
   "id": "608aded9-247d-4b25-bbc4-dba59edd6eec",
   "metadata": {},
   "outputs": [
    {
     "data": {
      "text/plain": [
       "1153997401072"
      ]
     },
     "execution_count": 3,
     "metadata": {},
     "output_type": "execute_result"
    }
   ],
   "source": [
    "def is_possible(total, numbers):\n",
    "    if not total and not numbers:\n",
    "        return True\n",
    "    if not numbers:\n",
    "        return False\n",
    "\n",
    "    last, rest = numbers[-1], numbers[:-1]\n",
    "    if total % last == 0 and is_possible(total // last, rest):\n",
    "        return True\n",
    "    return is_possible(total - last, rest)\n",
    "\n",
    "\n",
    "sum(a for a, l in parsed if is_possible(a, l))"
   ]
  },
  {
   "cell_type": "code",
   "execution_count": 4,
   "id": "b97a8bca-5c55-45f9-98d1-7c0bde1ab0bd",
   "metadata": {},
   "outputs": [
    {
     "data": {
      "text/plain": [
       "97902809384118"
      ]
     },
     "execution_count": 4,
     "metadata": {},
     "output_type": "execute_result"
    }
   ],
   "source": [
    "def is_possible_part2(total, numbers):\n",
    "    if not total and not numbers:\n",
    "        return True\n",
    "    if not numbers:\n",
    "        return False\n",
    "\n",
    "    last, rest = numbers[-1], numbers[:-1]\n",
    "    if total % last == 0 and is_possible_part2(total // last, rest):\n",
    "        return True\n",
    "    if (t := str(total)).endswith(s := str(last)):\n",
    "        if t == s:\n",
    "            return True\n",
    "        if total > 0 and is_possible_part2(int(t[: -len(s)]), rest):\n",
    "            return True\n",
    "\n",
    "    return is_possible_part2(total - last, rest)\n",
    "\n",
    "\n",
    "sum(a for a, l in parsed if is_possible_part2(a, l))"
   ]
  },
  {
   "cell_type": "code",
   "execution_count": null,
   "id": "c0ae7223-980b-4f55-bbc3-004d28945a84",
   "metadata": {},
   "outputs": [],
   "source": []
  }
 ],
 "metadata": {
  "kernelspec": {
   "display_name": "Python 3 (ipykernel)",
   "language": "python",
   "name": "python3"
  },
  "language_info": {
   "codemirror_mode": {
    "name": "ipython",
    "version": 3
   },
   "file_extension": ".py",
   "mimetype": "text/x-python",
   "name": "python",
   "nbconvert_exporter": "python",
   "pygments_lexer": "ipython3",
   "version": "3.12.7"
  }
 },
 "nbformat": 4,
 "nbformat_minor": 5
}
