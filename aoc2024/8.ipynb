{
 "cells": [
  {
   "cell_type": "code",
   "execution_count": 1,
   "id": "2f9c0596-cb19-4db5-8f22-150d2c0e822d",
   "metadata": {},
   "outputs": [],
   "source": [
    "import pandas as pd\n",
    "import numpy as np\n",
    "from itertools import groupby, combinations, chain"
   ]
  },
  {
   "cell_type": "code",
   "execution_count": 2,
   "id": "5c2b7715-41f1-47d5-9790-1bad147f39d3",
   "metadata": {},
   "outputs": [],
   "source": [
    "df = pd.read_csv(\n",
    "    \"data/8.txt\", sep=r\"\\s*\", engine=\"python\", names=range(-1, 1000)\n",
    ").dropna(how=\"all\", axis=1)\n",
    "\n",
    "pairs = {\n",
    "    k: [x[1] for x in g]\n",
    "    for k, g in groupby(\n",
    "        sorted([(v, (i, j)) for (i, j), v in np.ndenumerate(df.values) if v != \".\"]),\n",
    "        lambda t: t[0],\n",
    "    )\n",
    "}"
   ]
  },
  {
   "cell_type": "code",
   "execution_count": 3,
   "id": "64018c9c-ad65-46b6-b041-ac7262db9e59",
   "metadata": {},
   "outputs": [
    {
     "data": {
      "text/plain": [
       "305"
      ]
     },
     "execution_count": 3,
     "metadata": {},
     "output_type": "execute_result"
    }
   ],
   "source": [
    "def antidote(a, b):\n",
    "    a_x, a_y = a\n",
    "    b_x, b_y = b\n",
    "    r_x = b_x + b_x - a_x\n",
    "    r_y = b_y + b_y - a_y\n",
    "    if 0 <= r_x < len(df) and 0 <= r_y < len(df.columns):\n",
    "        return (r_x, r_y)\n",
    "\n",
    "\n",
    "len(\n",
    "    {\n",
    "        anti\n",
    "        for positions in pairs.values()\n",
    "        for a, b in combinations(positions, 2)\n",
    "        for anti in [antidote(a, b), antidote(b, a)]\n",
    "        if anti\n",
    "    }\n",
    ")"
   ]
  },
  {
   "cell_type": "code",
   "execution_count": 4,
   "id": "ee2cffca-96d4-42e1-8e96-097309ee54e0",
   "metadata": {},
   "outputs": [],
   "source": [
    "def antidote2(a, b):\n",
    "    a_x, a_y = a\n",
    "    b_x, b_y = b\n",
    "    delta_x = b_x - a_x\n",
    "    delta_y = b_y - a_y\n",
    "    anti_x = b_x\n",
    "    anti_y = b_y\n",
    "    while 0 <= anti_x < len(df) and 0 <= anti_y < len(df.columns):\n",
    "        yield (anti_x, anti_y)\n",
    "        anti_x += delta_x\n",
    "        anti_y += delta_y"
   ]
  },
  {
   "cell_type": "code",
   "execution_count": 5,
   "id": "570ce16f-1d20-4545-9ac3-ae9887f8d4dc",
   "metadata": {},
   "outputs": [
    {
     "data": {
      "text/plain": [
       "1150"
      ]
     },
     "execution_count": 5,
     "metadata": {},
     "output_type": "execute_result"
    }
   ],
   "source": [
    "len(\n",
    "    {\n",
    "        anti\n",
    "        for positions in pairs.values()\n",
    "        for a, b in combinations(positions, 2)\n",
    "        for anti in chain(antidote2(a, b), antidote2(b, a))\n",
    "        if anti\n",
    "    }\n",
    ")"
   ]
  },
  {
   "cell_type": "code",
   "execution_count": null,
   "id": "7c6a6aa0-0f70-459e-97ec-24d895878c59",
   "metadata": {},
   "outputs": [],
   "source": []
  }
 ],
 "metadata": {
  "kernelspec": {
   "display_name": "Python 3 (ipykernel)",
   "language": "python",
   "name": "python3"
  },
  "language_info": {
   "codemirror_mode": {
    "name": "ipython",
    "version": 3
   },
   "file_extension": ".py",
   "mimetype": "text/x-python",
   "name": "python",
   "nbconvert_exporter": "python",
   "pygments_lexer": "ipython3",
   "version": "3.12.7"
  }
 },
 "nbformat": 4,
 "nbformat_minor": 5
}
