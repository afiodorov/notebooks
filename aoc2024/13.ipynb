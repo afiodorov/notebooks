{
 "cells": [
  {
   "cell_type": "code",
   "execution_count": 1,
   "id": "f07b82c5-83f8-4f22-b051-712610b5fa0e",
   "metadata": {},
   "outputs": [],
   "source": [
    "import re\n",
    "from pathlib import Path\n",
    "from dataclasses import dataclass"
   ]
  },
  {
   "cell_type": "code",
   "execution_count": 2,
   "id": "1b002b4c-17e8-427e-82a5-a25db57d9df0",
   "metadata": {},
   "outputs": [],
   "source": [
    "@dataclass\n",
    "class Game:\n",
    "    A_X: int\n",
    "    A_Y: int\n",
    "    B_X: int\n",
    "    B_Y: int\n",
    "    P_X: int\n",
    "    P_Y: int\n",
    "\n",
    "    def p2(self) -> \"Game\":\n",
    "        return Game(\n",
    "            self.A_X,\n",
    "            self.A_Y,\n",
    "            self.B_X,\n",
    "            self.B_Y,\n",
    "            self.P_X + 10000000000000,\n",
    "            self.P_Y + 10000000000000,\n",
    "        )\n",
    "\n",
    "\n",
    "regex = re.compile(r\"[XY][+=](\\d+)\")\n",
    "\n",
    "\n",
    "def parse(a, b, p):\n",
    "    A_X, A_Y, B_X, B_Y, P_X, P_Y = [\n",
    "        int(m.group(1)) for r in [a, b, p] for m in regex.finditer(r)\n",
    "    ]\n",
    "    return Game(A_X, A_Y, B_X, B_Y, P_X, P_Y)\n",
    "\n",
    "\n",
    "games = [\n",
    "    parse(*g.split(\"\\n\")) for g in Path(\"data/13.txt\").read_text().strip().split(\"\\n\\n\")\n",
    "]"
   ]
  },
  {
   "cell_type": "code",
   "execution_count": 3,
   "id": "e7add75d-36a6-4b51-9828-4a492c25a5c9",
   "metadata": {},
   "outputs": [
    {
     "data": {
      "text/plain": [
       "38714"
      ]
     },
     "execution_count": 3,
     "metadata": {},
     "output_type": "execute_result"
    }
   ],
   "source": [
    "def win(g: Game) -> int | None:\n",
    "    min_cost = None\n",
    "    for a in range(101):\n",
    "        if g.P_X - a * g.A_X < 0 or g.P_Y - a * g.A_Y < 0:\n",
    "            break\n",
    "        if (\n",
    "            (g.P_X - a * g.A_X) % g.B_X == 0\n",
    "            and (g.P_Y - a * g.A_Y) % g.B_Y == 0\n",
    "            and (b := (g.P_X - a * g.A_X) // g.B_X) == (g.P_Y - a * g.A_Y) // g.B_Y\n",
    "        ):\n",
    "            min_cost = min((s := a * 3 + b), min_cost or s)\n",
    "    return min_cost\n",
    "\n",
    "\n",
    "sum(w for g in games if (w := win(g)))"
   ]
  },
  {
   "cell_type": "code",
   "execution_count": 4,
   "id": "103e254b-d54a-4ff4-a9e3-eac07f56e3cc",
   "metadata": {},
   "outputs": [],
   "source": [
    "games2 = [g.p2() for g in games]"
   ]
  }
 ],
 "metadata": {
  "kernelspec": {
   "display_name": "Python 3 (ipykernel)",
   "language": "python",
   "name": "python3"
  },
  "language_info": {
   "codemirror_mode": {
    "name": "ipython",
    "version": 3
   },
   "file_extension": ".py",
   "mimetype": "text/x-python",
   "name": "python",
   "nbconvert_exporter": "python",
   "pygments_lexer": "ipython3",
   "version": "3.12.0"
  }
 },
 "nbformat": 4,
 "nbformat_minor": 5
}
