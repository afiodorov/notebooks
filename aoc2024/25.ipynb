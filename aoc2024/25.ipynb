{
 "cells": [
  {
   "cell_type": "code",
   "execution_count": 1,
   "id": "e6f2b8cb-4d19-4f69-ad22-c959ac426790",
   "metadata": {},
   "outputs": [],
   "source": [
    "from pathlib import Path\n",
    "import numpy as np\n",
    "from itertools import product"
   ]
  },
  {
   "cell_type": "code",
   "execution_count": 2,
   "id": "00abad80-512e-4cc6-bf2c-5c1609893527",
   "metadata": {},
   "outputs": [
    {
     "data": {
      "text/plain": [
       "3287"
      ]
     },
     "execution_count": 2,
     "metadata": {},
     "output_type": "execute_result"
    }
   ],
   "source": [
    "shapes = [\n",
    "    np.array([list(l) for l in shape.split(\"\\n\")])\n",
    "    for shape in Path(\"data/25.txt\").read_text().strip().split(\"\\n\\n\")\n",
    "]\n",
    "\n",
    "locks = []\n",
    "keys = []\n",
    "\n",
    "for shape in shapes:\n",
    "    if (shape[0, :] == \"#\").all():\n",
    "        locks.append(shape)\n",
    "    elif (shape[-1, :] == \"#\").all():\n",
    "        keys.append(shape)\n",
    "    else:\n",
    "        raise ValueError(shape)\n",
    "\n",
    "locks = [np.apply_along_axis(lambda x: np.sum(x == \"#\") - 1, 0, lock) for lock in locks]\n",
    "keys = [np.apply_along_axis(lambda x: np.sum(x == \"#\") - 1, 0, key) for key in keys]\n",
    "\n",
    "sum(1 for lock, key in product(locks, keys) if (lock + key <= 5).all())"
   ]
  },
  {
   "cell_type": "code",
   "execution_count": null,
   "id": "3865a184-1deb-4afc-83f0-544f73b6edfc",
   "metadata": {},
   "outputs": [],
   "source": []
  },
  {
   "cell_type": "code",
   "execution_count": null,
   "id": "22652207-e966-4755-9340-e993081d1e59",
   "metadata": {},
   "outputs": [],
   "source": []
  }
 ],
 "metadata": {
  "kernelspec": {
   "display_name": "Python 3 (ipykernel)",
   "language": "python",
   "name": "python3"
  },
  "language_info": {
   "codemirror_mode": {
    "name": "ipython",
    "version": 3
   },
   "file_extension": ".py",
   "mimetype": "text/x-python",
   "name": "python",
   "nbconvert_exporter": "python",
   "pygments_lexer": "ipython3",
   "version": "3.12.7"
  }
 },
 "nbformat": 4,
 "nbformat_minor": 5
}
