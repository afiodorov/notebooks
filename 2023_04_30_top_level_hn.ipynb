{
 "cells": [
  {
   "cell_type": "markdown",
   "id": "d8a2899a",
   "metadata": {},
   "source": [
    "I found \"Ask HN: Most interesting tech you built for just yourself?\" interesting and I want to get inspired by the ideas there. However it's difficult to read as is. I grabbed top-level comments for now. I also added a one-sentence summary from GPT3.5 to make it shorter."
   ]
  },
  {
   "cell_type": "code",
   "execution_count": 1,
   "id": "061d4643",
   "metadata": {},
   "outputs": [],
   "source": [
    "import os\n",
    "\n",
    "import requests\n",
    "\n",
    "from bs4 import BeautifulSoup\n",
    "from itertools import count\n",
    "\n",
    "import json\n",
    "from pathlib import Path\n",
    "from functools import lru_cache\n",
    "\n",
    "from dataclasses import dataclass\n",
    "\n",
    "from IPython.display import display, HTML"
   ]
  },
  {
   "cell_type": "code",
   "execution_count": 2,
   "id": "d3e5a9f2",
   "metadata": {},
   "outputs": [],
   "source": [
    "@dataclass(eq=True, frozen=True, kw_only=True)\n",
    "class Comment():\n",
    "    comment: str\n",
    "    author: str\n",
    "    id_: str\n",
    "        \n",
    "@dataclass(eq=True, frozen=True, kw_only=True)\n",
    "class CommentWithSummary():\n",
    "    c: Comment\n",
    "    summary: str"
   ]
  },
  {
   "cell_type": "code",
   "execution_count": 3,
   "id": "41491970",
   "metadata": {},
   "outputs": [],
   "source": [
    "def top_level_comments(page):\n",
    "    def is_top_level(el):\n",
    "        return el.parent.find('a', class_='clicky').text == 'prev'\n",
    "    \n",
    "    def make_comment(el):\n",
    "        author = el.parent.find('a', class_='hnuser').text\n",
    "        id_ = int(el.parent.find('span').find(\n",
    "            lambda x: x.has_attr('id') and x['id'].startswith('unv_'))['id'][4:])\n",
    "\n",
    "        return Comment(comment=el.find('span').text, author=author, id_=id_)\n",
    "    \n",
    "    response = requests.get(page)\n",
    "    if not response.ok:\n",
    "        return []\n",
    "    \n",
    "    soup = BeautifulSoup(response.content, 'html.parser')\n",
    "    return [make_comment(el) for el in soup.find_all('div', class_='comment') if is_top_level(el)]"
   ]
  },
  {
   "cell_type": "code",
   "execution_count": 4,
   "id": "c94c8ce1",
   "metadata": {},
   "outputs": [],
   "source": [
    "all_comments = []\n",
    "\n",
    "for p in count(start=1): \n",
    "    all_comments.extend(more := top_level_comments(f\"https://news.ycombinator.com/item?id=35729232&p={p}\"))\n",
    "    if not more:\n",
    "        break"
   ]
  },
  {
   "cell_type": "code",
   "execution_count": 5,
   "id": "b710a41f",
   "metadata": {},
   "outputs": [],
   "source": [
    "import openai\n",
    "\n",
    "openai.api_key = os.getenv(\"OPENAI_API_KEY\")\n",
    "\n",
    "@lru_cache(maxsize=None)\n",
    "def get_completion(instruction):\n",
    "    return openai.Completion.create(\n",
    "        model=\"text-davinci-003\",\n",
    "        prompt=instruction + \"\\n\",\n",
    "        temperature=0,\n",
    "        max_tokens=1000,\n",
    "        top_p=1,\n",
    "        frequency_penalty=0,\n",
    "        presence_penalty=0,\n",
    "    )[\"choices\"][0][\"text\"].strip()"
   ]
  },
  {
   "cell_type": "code",
   "execution_count": 6,
   "id": "38078dd9",
   "metadata": {},
   "outputs": [],
   "source": [
    "file_ = Path('ideas.json')\n",
    "\n",
    "if not file_.exists():\n",
    "    data = []\n",
    "\n",
    "else:\n",
    "    with file_.open() as f:\n",
    "        data = json.load(f)"
   ]
  },
  {
   "cell_type": "code",
   "execution_count": 7,
   "id": "72461016",
   "metadata": {},
   "outputs": [],
   "source": [
    "existing = {c['c']['id_'] for c in data}\n",
    "\n",
    "for c in all_comments:\n",
    "    if c.id_ in existing:\n",
    "        continue\n",
    "        \n",
    "    summary = get_completion(f\"\"\"\n",
    "summarise key idea from the following comment in one-sentence: {c}\n",
    "\"\"\")\n",
    "    data.append(CommentWithSummary(c=c.__dict__, summary=summary).__dict__) \n",
    "        \n",
    "with file_.open(mode='w') as f:\n",
    "    json.dump(data, f, indent=4)"
   ]
  },
  {
   "cell_type": "code",
   "execution_count": 8,
   "id": "d63aedc1",
   "metadata": {},
   "outputs": [],
   "source": [
    "data = sorted(data, key=lambda c: c['c']['id_'])"
   ]
  },
  {
   "cell_type": "code",
   "execution_count": 9,
   "id": "472c6338",
   "metadata": {},
   "outputs": [
    {
     "data": {
      "text/html": [
       "--- Summary #<a href='https://news.ycombinator.com/item?id=35729351'>35729351</a> by idaweather ---<br>The website \"idaweather.com\" has provided the author with valuable insight into local weather patterns."
      ],
      "text/plain": [
       "<IPython.core.display.HTML object>"
      ]
     },
     "metadata": {},
     "output_type": "display_data"
    },
    {
     "data": {
      "text/html": [
       "--- Summary #<a href='https://news.ycombinator.com/item?id=35729354'>35729354</a> by jqpabc123 ---<br>A server for 2FA was built which generates TOTP codes using an AES encrypted lookup table of secrets, and is accessible from any device with the decrypt and lookup key and URL."
      ],
      "text/plain": [
       "<IPython.core.display.HTML object>"
      ]
     },
     "metadata": {},
     "output_type": "display_data"
    },
    {
     "data": {
      "text/html": [
       "--- Summary #<a href='https://news.ycombinator.com/item?id=35729578'>35729578</a> by headline ---<br>A float valve and pump have been installed to offload condensation water from the AC unit's small internal reservoir, saving time and preventing the unit from turning off in the middle of the night."
      ],
      "text/plain": [
       "<IPython.core.display.HTML object>"
      ]
     },
     "metadata": {},
     "output_type": "display_data"
    },
    {
     "data": {
      "text/html": [
       "--- Summary #<a href='https://news.ycombinator.com/item?id=35729588'>35729588</a> by lbrockxyz ---<br>The programmer built an Unolingo solver and a \"killer\" solitaire simulator to determine the optimal number of players for a maximum win rate."
      ],
      "text/plain": [
       "<IPython.core.display.HTML object>"
      ]
     },
     "metadata": {},
     "output_type": "display_data"
    },
    {
     "data": {
      "text/html": [
       "--- Summary #<a href='https://news.ycombinator.com/item?id=35729695'>35729695</a> by elmerfud ---<br>The author created two projects in the past, a DVD changer and a geo-drop messaging system, but eventually stopped using them."
      ],
      "text/plain": [
       "<IPython.core.display.HTML object>"
      ]
     },
     "metadata": {},
     "output_type": "display_data"
    },
    {
     "data": {
      "text/html": [
       "--- Summary #<a href='https://news.ycombinator.com/item?id=35729751'>35729751</a> by billconan ---<br>Broca is a ChatGPT-powered dictionary and vocabulary book that allows users to synchronize their vocabulary across different devices using Git, and provides unlimited example sentences for idioms, slang, and phrases."
      ],
      "text/plain": [
       "<IPython.core.display.HTML object>"
      ]
     },
     "metadata": {},
     "output_type": "display_data"
    },
    {
     "data": {
      "text/html": [
       "--- Summary #<a href='https://news.ycombinator.com/item?id=35729777'>35729777</a> by iwanttocomment ---<br>The author reverse engineered the API of their EV and wrote their own web-based tool to control the car, which worked until 3G was disabled."
      ],
      "text/plain": [
       "<IPython.core.display.HTML object>"
      ]
     },
     "metadata": {},
     "output_type": "display_data"
    },
    {
     "data": {
      "text/html": [
       "--- Summary #<a href='https://news.ycombinator.com/item?id=35729842'>35729842</a> by cc101 ---<br>The author created an app for their own use, despite initially believing that others would find it useful."
      ],
      "text/plain": [
       "<IPython.core.display.HTML object>"
      ]
     },
     "metadata": {},
     "output_type": "display_data"
    },
    {
     "data": {
      "text/html": [
       "--- Summary #<a href='https://news.ycombinator.com/item?id=35729958'>35729958</a> by PaulHoule ---<br>A smart RSS reader uses text classification and embedding to classify and cluster articles, and can be applied to images, search results, workflow systems and commercially interesting problems."
      ],
      "text/plain": [
       "<IPython.core.display.HTML object>"
      ]
     },
     "metadata": {},
     "output_type": "display_data"
    },
    {
     "data": {
      "text/html": [
       "--- Summary #<a href='https://news.ycombinator.com/item?id=35729999'>35729999</a> by scrollaway ---<br>A hearthstone simulator was created which was used and referenced by scientific papers and phds, and it led to the creation of a company around hearthstone."
      ],
      "text/plain": [
       "<IPython.core.display.HTML object>"
      ]
     },
     "metadata": {},
     "output_type": "display_data"
    },
    {
     "data": {
      "text/html": [
       "--- Summary #<a href='https://news.ycombinator.com/item?id=35730094'>35730094</a> by thedanbob ---<br>Thedanbob has written custom firmware for ESP-8266 IoT devices to connect them to Home Assistant."
      ],
      "text/plain": [
       "<IPython.core.display.HTML object>"
      ]
     },
     "metadata": {},
     "output_type": "display_data"
    },
    {
     "data": {
      "text/html": [
       "--- Summary #<a href='https://news.ycombinator.com/item?id=35730119'>35730119</a> by cdnsteve ---<br>Creating custom rulesets to identify malware on web servers was a valuable learning experience."
      ],
      "text/plain": [
       "<IPython.core.display.HTML object>"
      ]
     },
     "metadata": {},
     "output_type": "display_data"
    },
    {
     "data": {
      "text/html": [
       "--- Summary #<a href='https://news.ycombinator.com/item?id=35730172'>35730172</a> by koliber ---<br>Using a shortcut on my iPhone to dictate notes and have them transcribed into my GTD inbox in Notion helps me to quickly capture fleeting ideas and tasks."
      ],
      "text/plain": [
       "<IPython.core.display.HTML object>"
      ]
     },
     "metadata": {},
     "output_type": "display_data"
    },
    {
     "data": {
      "text/html": [
       "--- Summary #<a href='https://news.ycombinator.com/item?id=35730260'>35730260</a> by millzlane ---<br>Using VB script, a Netflix sleep timer was created to close the video player and put the display to sleep, allowing the user to fall asleep to noise without being woken up."
      ],
      "text/plain": [
       "<IPython.core.display.HTML object>"
      ]
     },
     "metadata": {},
     "output_type": "display_data"
    },
    {
     "data": {
      "text/html": [
       "--- Summary #<a href='https://news.ycombinator.com/item?id=35730261'>35730261</a> by jakear ---<br>This website provides a map of the world's tides and bidirectional predictions for individual stations, and works fully offline, despite its archaic UI/UX."
      ],
      "text/plain": [
       "<IPython.core.display.HTML object>"
      ]
     },
     "metadata": {},
     "output_type": "display_data"
    },
    {
     "data": {
      "text/html": [
       "--- Summary #<a href='https://news.ycombinator.com/item?id=35730270'>35730270</a> by modzu ---<br>Time travel is possible through the use of a time machine."
      ],
      "text/plain": [
       "<IPython.core.display.HTML object>"
      ]
     },
     "metadata": {},
     "output_type": "display_data"
    },
    {
     "data": {
      "text/html": [
       "--- Summary #<a href='https://news.ycombinator.com/item?id=35730300'>35730300</a> by zwieback ---<br>Using large canning jars to enclose an Arduino system can be a convenient and effective way to create an auto-door opener for a chicken coop."
      ],
      "text/plain": [
       "<IPython.core.display.HTML object>"
      ]
     },
     "metadata": {},
     "output_type": "display_data"
    },
    {
     "data": {
      "text/html": [
       "--- Summary #<a href='https://news.ycombinator.com/item?id=35730333'>35730333</a> by RedGreenBlack ---<br>This webapp allows users to easily share files and text between two devices regardless of platform."
      ],
      "text/plain": [
       "<IPython.core.display.HTML object>"
      ]
     },
     "metadata": {},
     "output_type": "display_data"
    },
    {
     "data": {
      "text/html": [
       "--- Summary #<a href='https://news.ycombinator.com/item?id=35730362'>35730362</a> by seurimas ---<br>MUDs provide an opportunity to create custom programs, such as a Rust-based system of triggers and aliases which can be used to create a publicly usable web tool."
      ],
      "text/plain": [
       "<IPython.core.display.HTML object>"
      ]
     },
     "metadata": {},
     "output_type": "display_data"
    },
    {
     "data": {
      "text/html": [
       "--- Summary #<a href='https://news.ycombinator.com/item?id=35730385'>35730385</a> by recursivedoubts ---<br>Hyperscript was created as a scripting language inspired by xTalk, but it did not gain much traction."
      ],
      "text/plain": [
       "<IPython.core.display.HTML object>"
      ]
     },
     "metadata": {},
     "output_type": "display_data"
    },
    {
     "data": {
      "text/html": [
       "--- Summary #<a href='https://news.ycombinator.com/item?id=35730403'>35730403</a> by purpleblue ---<br>The author wrote a program in C++ to download stock data and a multi-threaded backtester, and has improved the program over the years to make it run faster."
      ],
      "text/plain": [
       "<IPython.core.display.HTML object>"
      ]
     },
     "metadata": {},
     "output_type": "display_data"
    },
    {
     "data": {
      "text/html": [
       "--- Summary #<a href='https://news.ycombinator.com/item?id=35730446'>35730446</a> by nhaehnle ---<br>\"Diff modulo base\" is a tool that produces a direct diff between two versions of a Git change, filtering out any irrelevant changes introduced by rebasing on a more recent version of the target branch."
      ],
      "text/plain": [
       "<IPython.core.display.HTML object>"
      ]
     },
     "metadata": {},
     "output_type": "display_data"
    },
    {
     "data": {
      "text/html": [
       "--- Summary #<a href='https://news.ycombinator.com/item?id=35730448'>35730448</a> by greenie_beans ---<br>The author was able to design a successful soil moisture sensor using capacitors, but has since lost the documentation of the circuit."
      ],
      "text/plain": [
       "<IPython.core.display.HTML object>"
      ]
     },
     "metadata": {},
     "output_type": "display_data"
    },
    {
     "data": {
      "text/html": [
       "--- Summary #<a href='https://news.ycombinator.com/item?id=35730463'>35730463</a> by hardcopy ---<br>The comment highlights a weather report that is formatted nicely and pulls data from multiple sources for paramotor flying."
      ],
      "text/plain": [
       "<IPython.core.display.HTML object>"
      ]
     },
     "metadata": {},
     "output_type": "display_data"
    },
    {
     "data": {
      "text/html": [
       "--- Summary #<a href='https://news.ycombinator.com/item?id=35730465'>35730465</a> by troebr ---<br>I created an app to view local surf conditions on an LED screen, and added a way to show the forecast for other spots to make it \"official\", which was validated by seeing it on Instagram ads."
      ],
      "text/plain": [
       "<IPython.core.display.HTML object>"
      ]
     },
     "metadata": {},
     "output_type": "display_data"
    },
    {
     "data": {
      "text/html": [
       "--- Summary #<a href='https://news.ycombinator.com/item?id=35730472'>35730472</a> by akhayam ---<br>This comment highlights the use of a language model to predict what was going to fail next and for which customer, which was built before the development of LLM and Generator models."
      ],
      "text/plain": [
       "<IPython.core.display.HTML object>"
      ]
     },
     "metadata": {},
     "output_type": "display_data"
    },
    {
     "data": {
      "text/html": [
       "--- Summary #<a href='https://news.ycombinator.com/item?id=35730482'>35730482</a> by samsquire ---<br>The author created a text editor that is programmable like a spreadsheet and interactive like an IPython notebook."
      ],
      "text/plain": [
       "<IPython.core.display.HTML object>"
      ]
     },
     "metadata": {},
     "output_type": "display_data"
    },
    {
     "data": {
      "text/html": [
       "--- Summary #<a href='https://news.ycombinator.com/item?id=35730497'>35730497</a> by kwertyops ---<br>This tool automatically creates guitar chord-melody arrangements with tabs and chord diagrams from a jazz leadsheet in MusicXML form."
      ],
      "text/plain": [
       "<IPython.core.display.HTML object>"
      ]
     },
     "metadata": {},
     "output_type": "display_data"
    },
    {
     "data": {
      "text/html": [
       "--- Summary #<a href='https://news.ycombinator.com/item?id=35730499'>35730499</a> by gdulli ---<br>I created a Plex library of over 500 individual SNL sketches by using automation to download the metadata for over 6,000 videos from the SNL Youtube channel and writing a small Flask app to search and browse seasons/episodes."
      ],
      "text/plain": [
       "<IPython.core.display.HTML object>"
      ]
     },
     "metadata": {},
     "output_type": "display_data"
    },
    {
     "data": {
      "text/html": [
       "--- Summary #<a href='https://news.ycombinator.com/item?id=35730500'>35730500</a> by nvartolomei ---<br>The author has created a \"note taking\" app tailored to their own brain workflow, and is keeping it private for now."
      ],
      "text/plain": [
       "<IPython.core.display.HTML object>"
      ]
     },
     "metadata": {},
     "output_type": "display_data"
    },
    {
     "data": {
      "text/html": [
       "--- Summary #<a href='https://news.ycombinator.com/item?id=35730548'>35730548</a> by stpe ---<br>The Chrome \"newtab\" extension has been effective in helping the author maintain their reading habit by keeping books top of mind."
      ],
      "text/plain": [
       "<IPython.core.display.HTML object>"
      ]
     },
     "metadata": {},
     "output_type": "display_data"
    },
    {
     "data": {
      "text/html": [
       "--- Summary #<a href='https://news.ycombinator.com/item?id=35730585'>35730585</a> by stevelacy ---<br>This comment describes a system that uses Arduino, a mobile app, and Zeroconf to control RGB room lights."
      ],
      "text/plain": [
       "<IPython.core.display.HTML object>"
      ]
     },
     "metadata": {},
     "output_type": "display_data"
    },
    {
     "data": {
      "text/html": [
       "--- Summary #<a href='https://news.ycombinator.com/item?id=35730590'>35730590</a> by kodah ---<br>I built a cloud for my family to use which leverages containers, Docker Compose, Docker Profiles, mTLS, public and private DNS, and Tailscale to make it easy to deploy and share APIs externally."
      ],
      "text/plain": [
       "<IPython.core.display.HTML object>"
      ]
     },
     "metadata": {},
     "output_type": "display_data"
    },
    {
     "data": {
      "text/html": [
       "--- Summary #<a href='https://news.ycombinator.com/item?id=35730603'>35730603</a> by michael_j_x ---<br>A platform written in Rust has been created to facilitate arbitrage trading across multiple FX brokers."
      ],
      "text/plain": [
       "<IPython.core.display.HTML object>"
      ]
     },
     "metadata": {},
     "output_type": "display_data"
    },
    {
     "data": {
      "text/html": [
       "--- Summary #<a href='https://news.ycombinator.com/item?id=35730654'>35730654</a> by dvirsky ---<br>I wrote a service to quickly create RSS feeds from websites that had not yet adopted RSS, and I also wrote a gamified shared playlist app that was a fun and emotionally engaging experience for everyone."
      ],
      "text/plain": [
       "<IPython.core.display.HTML object>"
      ]
     },
     "metadata": {},
     "output_type": "display_data"
    },
    {
     "data": {
      "text/html": [
       "--- Summary #<a href='https://news.ycombinator.com/item?id=35730672'>35730672</a> by bluelightning2k ---<br>DemoTime has evolved from being built for one person to being used by many."
      ],
      "text/plain": [
       "<IPython.core.display.HTML object>"
      ]
     },
     "metadata": {},
     "output_type": "display_data"
    },
    {
     "data": {
      "text/html": [
       "--- Summary #<a href='https://news.ycombinator.com/item?id=35730676'>35730676</a> by asim ---<br>Malten is a platform for anonymously blackholing thoughts, and recently an integration with ChatGPT has been created to allow users to privately voice their thoughts to an AI."
      ],
      "text/plain": [
       "<IPython.core.display.HTML object>"
      ]
     },
     "metadata": {},
     "output_type": "display_data"
    },
    {
     "data": {
      "text/html": [
       "--- Summary #<a href='https://news.ycombinator.com/item?id=35730679'>35730679</a> by pelagicAustral ---<br>I created a complex system to monitor my usage, but have not had the time to make it available to others."
      ],
      "text/plain": [
       "<IPython.core.display.HTML object>"
      ]
     },
     "metadata": {},
     "output_type": "display_data"
    },
    {
     "data": {
      "text/html": [
       "--- Summary #<a href='https://news.ycombinator.com/item?id=35730835'>35730835</a> by FourthProtocol ---<br>The project began as a password manager and has since developed into a graph database based on the concepts explored in the book \"Linked - How Everything is Connected to Everything Else\"."
      ],
      "text/plain": [
       "<IPython.core.display.HTML object>"
      ]
     },
     "metadata": {},
     "output_type": "display_data"
    },
    {
     "data": {
      "text/html": [
       "--- Summary #<a href='https://news.ycombinator.com/item?id=35731060'>35731060</a> by RoyGBivCap ---<br>This tool allows users to easily calculate their hours worked with minimal input, taking into account AM/PM and decimal hours."
      ],
      "text/plain": [
       "<IPython.core.display.HTML object>"
      ]
     },
     "metadata": {},
     "output_type": "display_data"
    },
    {
     "data": {
      "text/html": [
       "--- Summary #<a href='https://news.ycombinator.com/item?id=35731121'>35731121</a> by meta-meta ---<br>This comment describes a VR environment for making and thinking about music, with features such as an egg-shaped \"note\", a sine wave organ, a theremin, and a physics-based sequencer."
      ],
      "text/plain": [
       "<IPython.core.display.HTML object>"
      ]
     },
     "metadata": {},
     "output_type": "display_data"
    },
    {
     "data": {
      "text/html": [
       "--- Summary #<a href='https://news.ycombinator.com/item?id=35731226'>35731226</a> by ziffusion ---<br>The technology created makes it easier to browse torrents on the RARBG website."
      ],
      "text/plain": [
       "<IPython.core.display.HTML object>"
      ]
     },
     "metadata": {},
     "output_type": "display_data"
    },
    {
     "data": {
      "text/html": [
       "--- Summary #<a href='https://news.ycombinator.com/item?id=35731352'>35731352</a> by SirMaster ---<br>Nicko88 has created two apps, a universal remote control and a fan control, which have been well-received by users."
      ],
      "text/plain": [
       "<IPython.core.display.HTML object>"
      ]
     },
     "metadata": {},
     "output_type": "display_data"
    },
    {
     "data": {
      "text/html": [
       "--- Summary #<a href='https://news.ycombinator.com/item?id=35731529'>35731529</a> by mmmm2 ---<br>The comment describes two projects that help with organization and managing finances."
      ],
      "text/plain": [
       "<IPython.core.display.HTML object>"
      ]
     },
     "metadata": {},
     "output_type": "display_data"
    },
    {
     "data": {
      "text/html": [
       "--- Summary #<a href='https://news.ycombinator.com/item?id=35731548'>35731548</a> by thegoleffect ---<br>This person has created a custom DIY smart monocle that has increased their efficiency and is lighter and cheaper than upcoming AR/VR glasses, and they are working on integrating custom AR and ML/GPT."
      ],
      "text/plain": [
       "<IPython.core.display.HTML object>"
      ]
     },
     "metadata": {},
     "output_type": "display_data"
    },
    {
     "data": {
      "text/html": [
       "--- Summary #<a href='https://news.ycombinator.com/item?id=35731879'>35731879</a> by simonsarris ---<br>Carefulwords.com is a website that provides users with a large list of synonyms and historical quotes for a given word, and has a search bar that allows users to start typing quickly."
      ],
      "text/plain": [
       "<IPython.core.display.HTML object>"
      ]
     },
     "metadata": {},
     "output_type": "display_data"
    },
    {
     "data": {
      "text/html": [
       "--- Summary #<a href='https://news.ycombinator.com/item?id=35732082'>35732082</a> by ozarker ---<br>A service and Discord bot have been created to track the progress of a group playing Old School Runescape's \"Group Ironman\" feature."
      ],
      "text/plain": [
       "<IPython.core.display.HTML object>"
      ]
     },
     "metadata": {},
     "output_type": "display_data"
    },
    {
     "data": {
      "text/html": [
       "--- Summary #<a href='https://news.ycombinator.com/item?id=35732733'>35732733</a> by alex_lav ---<br>I have difficulty completing tasks."
      ],
      "text/plain": [
       "<IPython.core.display.HTML object>"
      ]
     },
     "metadata": {},
     "output_type": "display_data"
    },
    {
     "data": {
      "text/html": [
       "--- Summary #<a href='https://news.ycombinator.com/item?id=35735058'>35735058</a> by cryptonector ---<br>The author wrote two pieces of software in 2011 and 2012, one of which ended up being useful to them five years later and is still in use in production."
      ],
      "text/plain": [
       "<IPython.core.display.HTML object>"
      ]
     },
     "metadata": {},
     "output_type": "display_data"
    },
    {
     "data": {
      "text/html": [
       "--- Summary #<a href='https://news.ycombinator.com/item?id=35736594'>35736594</a> by theearling ---<br>The author has created a 24/7 Twitch streaming setup called \"FreeCRT\" using Node-RED, OCR, and a Raspberry Pi 4 to manage the stream and host the arena."
      ],
      "text/plain": [
       "<IPython.core.display.HTML object>"
      ]
     },
     "metadata": {},
     "output_type": "display_data"
    },
    {
     "data": {
      "text/html": [
       "--- Summary #<a href='https://news.ycombinator.com/item?id=35736732'>35736732</a> by jareklupinski ---<br>The LED display syncs to the user's work calendar and counts down the time until their next meeting, and the user is working on making the calendar parsing part of the project run on the microcontroller."
      ],
      "text/plain": [
       "<IPython.core.display.HTML object>"
      ]
     },
     "metadata": {},
     "output_type": "display_data"
    },
    {
     "data": {
      "text/html": [
       "--- Summary #<a href='https://news.ycombinator.com/item?id=35737104'>35737104</a> by HKH2 ---<br>This music playlist program effectively allows the user to enjoy their whole collection in a more enjoyable way than an unweighted shuffle by automatically selecting the next track to play based on two factors."
      ],
      "text/plain": [
       "<IPython.core.display.HTML object>"
      ]
     },
     "metadata": {},
     "output_type": "display_data"
    },
    {
     "data": {
      "text/html": [
       "--- Summary #<a href='https://news.ycombinator.com/item?id=35737646'>35737646</a> by dang ---<br>A browser extension has been created to allow HN moderators to quickly perform tasks, and a version for general readers may be created in the future."
      ],
      "text/plain": [
       "<IPython.core.display.HTML object>"
      ]
     },
     "metadata": {},
     "output_type": "display_data"
    },
    {
     "data": {
      "text/html": [
       "--- Summary #<a href='https://news.ycombinator.com/item?id=35737681'>35737681</a> by zbendefy ---<br>This comment provides a link to a GitHub repository containing a GPU-accelerated neural network trainer using backpropagation."
      ],
      "text/plain": [
       "<IPython.core.display.HTML object>"
      ]
     },
     "metadata": {},
     "output_type": "display_data"
    },
    {
     "data": {
      "text/html": [
       "--- Summary #<a href='https://news.ycombinator.com/item?id=35737693'>35737693</a> by madisp ---<br>The author built a webapp called \"Shuffle.Ninja\" to randomly select an album from their Spotify collection, which they use daily."
      ],
      "text/plain": [
       "<IPython.core.display.HTML object>"
      ]
     },
     "metadata": {},
     "output_type": "display_data"
    },
    {
     "data": {
      "text/html": [
       "--- Summary #<a href='https://news.ycombinator.com/item?id=35737698'>35737698</a> by muzani ---<br>Building tools to automate processes in a MMO game resulted in the creation of one of the most elite clans, but eventually the creator decided to quit and focus on something more useful."
      ],
      "text/plain": [
       "<IPython.core.display.HTML object>"
      ]
     },
     "metadata": {},
     "output_type": "display_data"
    },
    {
     "data": {
      "text/html": [
       "--- Summary #<a href='https://news.ycombinator.com/item?id=35737700'>35737700</a> by akkartik ---<br>The comment suggests that the speaker has created a tool for drawing boxes and arrows that meets their desired specifications."
      ],
      "text/plain": [
       "<IPython.core.display.HTML object>"
      ]
     },
     "metadata": {},
     "output_type": "display_data"
    },
    {
     "data": {
      "text/html": [
       "--- Summary #<a href='https://news.ycombinator.com/item?id=35737709'>35737709</a> by modeless ---<br>I created a Twilio app to make it easier to manage access to my townhome complex's call box, but decided not to make a paid app out of it as I didn't expect many people would want to pay for it."
      ],
      "text/plain": [
       "<IPython.core.display.HTML object>"
      ]
     },
     "metadata": {},
     "output_type": "display_data"
    },
    {
     "data": {
      "text/html": [
       "--- Summary #<a href='https://news.ycombinator.com/item?id=35737726'>35737726</a> by aschleck ---<br>The author created a cross of React and Wiz to separate business logic from view logic, which allowed them to be more efficient."
      ],
      "text/plain": [
       "<IPython.core.display.HTML object>"
      ]
     },
     "metadata": {},
     "output_type": "display_data"
    },
    {
     "data": {
      "text/html": [
       "--- Summary #<a href='https://news.ycombinator.com/item?id=35737727'>35737727</a> by paws ---<br>This comment describes a script that scrapes flight deals and sends notifications to the user's phone, which has helped them land some great deals."
      ],
      "text/plain": [
       "<IPython.core.display.HTML object>"
      ]
     },
     "metadata": {},
     "output_type": "display_data"
    },
    {
     "data": {
      "text/html": [
       "--- Summary #<a href='https://news.ycombinator.com/item?id=35737731'>35737731</a> by keyle ---<br>I enjoy creating my own projects and products."
      ],
      "text/plain": [
       "<IPython.core.display.HTML object>"
      ]
     },
     "metadata": {},
     "output_type": "display_data"
    },
    {
     "data": {
      "text/html": [
       "--- Summary #<a href='https://news.ycombinator.com/item?id=35737767'>35737767</a> by georgeburdell ---<br>A Python script was created to aggregate data from multiple sources and provide a daily summary, which was beneficial in helping the author gain knowledge in a new job."
      ],
      "text/plain": [
       "<IPython.core.display.HTML object>"
      ]
     },
     "metadata": {},
     "output_type": "display_data"
    },
    {
     "data": {
      "text/html": [
       "--- Summary #<a href='https://news.ycombinator.com/item?id=35737772'>35737772</a> by omeysalvi ---<br>The speaker is using ChatGPT to create a personal note taking app which they plan to open source once it is completed."
      ],
      "text/plain": [
       "<IPython.core.display.HTML object>"
      ]
     },
     "metadata": {},
     "output_type": "display_data"
    },
    {
     "data": {
      "text/html": [
       "--- Summary #<a href='https://news.ycombinator.com/item?id=35737783'>35737783</a> by dusted ---<br>The FinalKey password manager is a mundane but useful tech I use every day."
      ],
      "text/plain": [
       "<IPython.core.display.HTML object>"
      ]
     },
     "metadata": {},
     "output_type": "display_data"
    },
    {
     "data": {
      "text/html": [
       "--- Summary #<a href='https://news.ycombinator.com/item?id=35737784'>35737784</a> by hectormalot ---<br>A web application was built to manage recipes, using OpenAI API to strip out SEO text and GPT to get a markdown formatted recipe and list of ingredients."
      ],
      "text/plain": [
       "<IPython.core.display.HTML object>"
      ]
     },
     "metadata": {},
     "output_type": "display_data"
    },
    {
     "data": {
      "text/html": [
       "--- Summary #<a href='https://news.ycombinator.com/item?id=35737790'>35737790</a> by george_sp ---<br>Creating a query builder for Microsoft's KQL was a successful project that has been used for five years, providing a great feeling of accomplishment."
      ],
      "text/plain": [
       "<IPython.core.display.HTML object>"
      ]
     },
     "metadata": {},
     "output_type": "display_data"
    },
    {
     "data": {
      "text/html": [
       "--- Summary #<a href='https://news.ycombinator.com/item?id=35737795'>35737795</a> by niccl ---<br>The author built their own lighting desk to control moving lights and busk live music, but it has caused kernel panics on the BeagleBone, so the redesign is on hold due to Covid-19."
      ],
      "text/plain": [
       "<IPython.core.display.HTML object>"
      ]
     },
     "metadata": {},
     "output_type": "display_data"
    },
    {
     "data": {
      "text/html": [
       "--- Summary #<a href='https://news.ycombinator.com/item?id=35737801'>35737801</a> by Traubenfuchs ---<br>The comment highlights the author's mastery of Winforms and P/Invoke, as demonstrated by the creation of an image viewer application with various features to improve efficiency when viewing images."
      ],
      "text/plain": [
       "<IPython.core.display.HTML object>"
      ]
     },
     "metadata": {},
     "output_type": "display_data"
    },
    {
     "data": {
      "text/html": [
       "--- Summary #<a href='https://news.ycombinator.com/item?id=35737802'>35737802</a> by ghoshbishakh ---<br>Pinggy.io is a tool that provides users with instant public URLs to localhost without any downloads or configurations, allowing them to quickly send files, share, and check frontend on their mobile device."
      ],
      "text/plain": [
       "<IPython.core.display.HTML object>"
      ]
     },
     "metadata": {},
     "output_type": "display_data"
    },
    {
     "data": {
      "text/html": [
       "--- Summary #<a href='https://news.ycombinator.com/item?id=35737811'>35737811</a> by shib71 ---<br>The Amplify app provides a Markdown notes app with basic login, file upload, indexing, query macros, autocomplete, and public page access, all using direct S3 calls, resulting in only S3 storage costs."
      ],
      "text/plain": [
       "<IPython.core.display.HTML object>"
      ]
     },
     "metadata": {},
     "output_type": "display_data"
    },
    {
     "data": {
      "text/html": [
       "--- Summary #<a href='https://news.ycombinator.com/item?id=35737823'>35737823</a> by mojoe ---<br>A browser extension can help make rating science fiction stories for compellingsciencefiction.com less tedious by triggering an AWS Lambda-backed API to store ratings and story metadata."
      ],
      "text/plain": [
       "<IPython.core.display.HTML object>"
      ]
     },
     "metadata": {},
     "output_type": "display_data"
    },
    {
     "data": {
      "text/html": [
       "--- Summary #<a href='https://news.ycombinator.com/item?id=35737828'>35737828</a> by bloodyplonker22 ---<br>The AI foot generator created by the speaker had some amusingly poor results."
      ],
      "text/plain": [
       "<IPython.core.display.HTML object>"
      ]
     },
     "metadata": {},
     "output_type": "display_data"
    },
    {
     "data": {
      "text/html": [
       "--- Summary #<a href='https://news.ycombinator.com/item?id=35737837'>35737837</a> by crowdhailer ---<br>The author has created a small, embeddable functional language with structural record unions and effect types to use for various side projects."
      ],
      "text/plain": [
       "<IPython.core.display.HTML object>"
      ]
     },
     "metadata": {},
     "output_type": "display_data"
    },
    {
     "data": {
      "text/html": [
       "--- Summary #<a href='https://news.ycombinator.com/item?id=35737852'>35737852</a> by tuckerconnelly ---<br>Keras outperformed XGBoost in predicting NBA player performance, but the model was limited by the lack of domain knowledge and data available."
      ],
      "text/plain": [
       "<IPython.core.display.HTML object>"
      ]
     },
     "metadata": {},
     "output_type": "display_data"
    },
    {
     "data": {
      "text/html": [
       "--- Summary #<a href='https://news.ycombinator.com/item?id=35737861'>35737861</a> by tomekw ---<br>Using gamification features such as streaks and email reminders can help motivate people to journal daily."
      ],
      "text/plain": [
       "<IPython.core.display.HTML object>"
      ]
     },
     "metadata": {},
     "output_type": "display_data"
    },
    {
     "data": {
      "text/html": [
       "--- Summary #<a href='https://news.ycombinator.com/item?id=35737864'>35737864</a> by nicetryguy ---<br>Kirby's Adventure for the NES was fixed by the author after they identified a problem with controller inputs and hacked the SNES mouse into Sim City."
      ],
      "text/plain": [
       "<IPython.core.display.HTML object>"
      ]
     },
     "metadata": {},
     "output_type": "display_data"
    },
    {
     "data": {
      "text/html": [
       "--- Summary #<a href='https://news.ycombinator.com/item?id=35737873'>35737873</a> by is_taken ---<br>This project provides an emulator for the PDP11/40 on the Teensy 4.1 development board."
      ],
      "text/plain": [
       "<IPython.core.display.HTML object>"
      ]
     },
     "metadata": {},
     "output_type": "display_data"
    },
    {
     "data": {
      "text/html": [
       "--- Summary #<a href='https://news.ycombinator.com/item?id=35737876'>35737876</a> by stiray ---<br>This comment describes a proxy server with features such as ad blocking, cookie modification, anti-fingerprinting, caching, blocking lists, and CNAME resolving."
      ],
      "text/plain": [
       "<IPython.core.display.HTML object>"
      ]
     },
     "metadata": {},
     "output_type": "display_data"
    },
    {
     "data": {
      "text/html": [
       "--- Summary #<a href='https://news.ycombinator.com/item?id=35737879'>35737879</a> by Tossrock ---<br>A node editor environment was created on top of Unity to drive a large LED installation, and it has been generalised to be able to drive other installations as well."
      ],
      "text/plain": [
       "<IPython.core.display.HTML object>"
      ]
     },
     "metadata": {},
     "output_type": "display_data"
    },
    {
     "data": {
      "text/html": [
       "--- Summary #<a href='https://news.ycombinator.com/item?id=35737880'>35737880</a> by rajangdavis ---<br>The app was created to control a pedalboard using WebMIDI, and was extended to create macros for sending sysex/PC messages to multiple devices."
      ],
      "text/plain": [
       "<IPython.core.display.HTML object>"
      ]
     },
     "metadata": {},
     "output_type": "display_data"
    },
    {
     "data": {
      "text/html": [
       "--- Summary #<a href='https://news.ycombinator.com/item?id=35737890'>35737890</a> by andy800 ---<br>The idea behind https://fullprice.no was to create a compilation of local happy hours, lunch specials, and other cheap eats with a unique layout and presentation, but it has not been updated in 4 or 5 years."
      ],
      "text/plain": [
       "<IPython.core.display.HTML object>"
      ]
     },
     "metadata": {},
     "output_type": "display_data"
    },
    {
     "data": {
      "text/html": [
       "--- Summary #<a href='https://news.ycombinator.com/item?id=35737897'>35737897</a> by RheingoldRiver ---<br>This Firefox extension allows users to mute League of Legends streams with a hotkey without changing visibility of any windows."
      ],
      "text/plain": [
       "<IPython.core.display.HTML object>"
      ]
     },
     "metadata": {},
     "output_type": "display_data"
    },
    {
     "data": {
      "text/html": [
       "--- Summary #<a href='https://news.ycombinator.com/item?id=35737913'>35737913</a> by donatj ---<br>The comment discusses the development of a note taking app with an open API, which was inspired by the closure of another app's API, and the speaker's desire to eventually open it to the public, but with the addition of end-to-end encryption."
      ],
      "text/plain": [
       "<IPython.core.display.HTML object>"
      ]
     },
     "metadata": {},
     "output_type": "display_data"
    },
    {
     "data": {
      "text/html": [
       "--- Summary #<a href='https://news.ycombinator.com/item?id=35737922'>35737922</a> by jmathai ---<br>My second startup focused on data portability and was open source, and I have since used it with Google Photos and Synology Photos for 8 years."
      ],
      "text/plain": [
       "<IPython.core.display.HTML object>"
      ]
     },
     "metadata": {},
     "output_type": "display_data"
    },
    {
     "data": {
      "text/html": [
       "--- Summary #<a href='https://news.ycombinator.com/item?id=35737947'>35737947</a> by rikschennink ---<br>This tool helps generate code examples in multiple JavaScript frameworks from a JSON string, as well as generate extensive documentation."
      ],
      "text/plain": [
       "<IPython.core.display.HTML object>"
      ]
     },
     "metadata": {},
     "output_type": "display_data"
    },
    {
     "data": {
      "text/html": [
       "--- Summary #<a href='https://news.ycombinator.com/item?id=35737955'>35737955</a> by jpatters ---<br>A small app was created to automate the process of requesting a receipt from GoodLife, making life easier for the user."
      ],
      "text/plain": [
       "<IPython.core.display.HTML object>"
      ]
     },
     "metadata": {},
     "output_type": "display_data"
    },
    {
     "data": {
      "text/html": [
       "--- Summary #<a href='https://news.ycombinator.com/item?id=35737956'>35737956</a> by lemure ---<br>A Bayesian optimizer has been implemented to automate the process of merging stable diffusion models, creating a small community of people working on it."
      ],
      "text/plain": [
       "<IPython.core.display.HTML object>"
      ]
     },
     "metadata": {},
     "output_type": "display_data"
    },
    {
     "data": {
      "text/html": [
       "--- Summary #<a href='https://news.ycombinator.com/item?id=35737958'>35737958</a> by throwaway874839 ---<br>I created a website to help people discover and share music recommendations with friends."
      ],
      "text/plain": [
       "<IPython.core.display.HTML object>"
      ]
     },
     "metadata": {},
     "output_type": "display_data"
    },
    {
     "data": {
      "text/html": [
       "--- Summary #<a href='https://news.ycombinator.com/item?id=35737965'>35737965</a> by cobbzilla ---<br>I have built an open source, cloud-native alternative to YouTube which allows for private sharing of media with family, including elderly and non-tech-savvy relatives."
      ],
      "text/plain": [
       "<IPython.core.display.HTML object>"
      ]
     },
     "metadata": {},
     "output_type": "display_data"
    },
    {
     "data": {
      "text/html": [
       "--- Summary #<a href='https://news.ycombinator.com/item?id=35737970'>35737970</a> by bschwindHN ---<br>The author has created multiple projects, including a remote infrared sending tool and a keyboard with firmware in Rust."
      ],
      "text/plain": [
       "<IPython.core.display.HTML object>"
      ]
     },
     "metadata": {},
     "output_type": "display_data"
    },
    {
     "data": {
      "text/html": [
       "--- Summary #<a href='https://news.ycombinator.com/item?id=35737972'>35737972</a> by lonesword ---<br>TweetScreenr.com allows users to follow AI researchers on Twitter and receive notifications when they post links to Arxiv.org papers, without the distraction of politicized/opinionated content."
      ],
      "text/plain": [
       "<IPython.core.display.HTML object>"
      ]
     },
     "metadata": {},
     "output_type": "display_data"
    },
    {
     "data": {
      "text/html": [
       "--- Summary #<a href='https://news.ycombinator.com/item?id=35737973'>35737973</a> by rozenmd ---<br>OnlineOrNot was created to provide evidence to clients that their hosting was inadequate, and eventually evolved into a full-SaaS service."
      ],
      "text/plain": [
       "<IPython.core.display.HTML object>"
      ]
     },
     "metadata": {},
     "output_type": "display_data"
    },
    {
     "data": {
      "text/html": [
       "--- Summary #<a href='https://news.ycombinator.com/item?id=35737977'>35737977</a> by koevet ---<br>Beancount can be automated with Beanborg to manage finances over a period of three years."
      ],
      "text/plain": [
       "<IPython.core.display.HTML object>"
      ]
     },
     "metadata": {},
     "output_type": "display_data"
    },
    {
     "data": {
      "text/html": [
       "--- Summary #<a href='https://news.ycombinator.com/item?id=35737981'>35737981</a> by varun_ch ---<br>I built a self-hostable web-based IDE and deployment solution called Dock'n'Roll for quick experiment projects."
      ],
      "text/plain": [
       "<IPython.core.display.HTML object>"
      ]
     },
     "metadata": {},
     "output_type": "display_data"
    },
    {
     "data": {
      "text/html": [
       "--- Summary #<a href='https://news.ycombinator.com/item?id=35738006'>35738006</a> by fouronnes3 ---<br>I created a system that used an ESP8266 and an Android sleep tracking app to gradually increase the light in my room over 5 minutes in the morning, but I had to scrap it when I moved."
      ],
      "text/plain": [
       "<IPython.core.display.HTML object>"
      ]
     },
     "metadata": {},
     "output_type": "display_data"
    },
    {
     "data": {
      "text/html": [
       "--- Summary #<a href='https://news.ycombinator.com/item?id=35738022'>35738022</a> by osigurdson ---<br>A kid built a drum machine interface using piezoelectric speakers, which was amplified and converted into a MIDI signal, and it worked well."
      ],
      "text/plain": [
       "<IPython.core.display.HTML object>"
      ]
     },
     "metadata": {},
     "output_type": "display_data"
    },
    {
     "data": {
      "text/html": [
       "--- Summary #<a href='https://news.ycombinator.com/item?id=35738027'>35738027</a> by Slartie ---<br>A Python program running on a Raspberry Pi with a Bluetooth interface is used to detect BLE beacons attached to trash cans, keep track of their whereabouts, and provide a warning when collection is imminent."
      ],
      "text/plain": [
       "<IPython.core.display.HTML object>"
      ]
     },
     "metadata": {},
     "output_type": "display_data"
    },
    {
     "data": {
      "text/html": [
       "--- Summary #<a href='https://news.ycombinator.com/item?id=35738029'>35738029</a> by jamietanna ---<br>Building an SQLite database of all the dependencies has enabled the organisation to write their own queries and reports, as well as look for out-of-date software, vulnerabilities and license information."
      ],
      "text/plain": [
       "<IPython.core.display.HTML object>"
      ]
     },
     "metadata": {},
     "output_type": "display_data"
    },
    {
     "data": {
      "text/html": [
       "--- Summary #<a href='https://news.ycombinator.com/item?id=35738046'>35738046</a> by Zanfa ---<br>A Bluetooth dongle was created to control a standing desk from a Mac, making it more convenient than before."
      ],
      "text/plain": [
       "<IPython.core.display.HTML object>"
      ]
     },
     "metadata": {},
     "output_type": "display_data"
    },
    {
     "data": {
      "text/html": [
       "--- Summary #<a href='https://news.ycombinator.com/item?id=35738057'>35738057</a> by tim-fan ---<br>A robot location tracking system was created specifically for use on a carpet with a particular color arrangement, and is available for use by others with similar carpets."
      ],
      "text/plain": [
       "<IPython.core.display.HTML object>"
      ]
     },
     "metadata": {},
     "output_type": "display_data"
    },
    {
     "data": {
      "text/html": [
       "--- Summary #<a href='https://news.ycombinator.com/item?id=35738059'>35738059</a> by goldenkey ---<br>The author was working on a new system based on Gerard Hooft's beable theory, but it was rendered obsolete by the introduction of WebGPU."
      ],
      "text/plain": [
       "<IPython.core.display.HTML object>"
      ]
     },
     "metadata": {},
     "output_type": "display_data"
    },
    {
     "data": {
      "text/html": [
       "--- Summary #<a href='https://news.ycombinator.com/item?id=35738064'>35738064</a> by blakewatson ---<br>I have been creating custom tools to make my life easier for a long time, and often end up publishing them for others to use."
      ],
      "text/plain": [
       "<IPython.core.display.HTML object>"
      ]
     },
     "metadata": {},
     "output_type": "display_data"
    },
    {
     "data": {
      "text/html": [
       "--- Summary #<a href='https://news.ycombinator.com/item?id=35738078'>35738078</a> by xnacly ---<br>The markdown to HTML converter is written from scratch, with the exception of a websocket library, and supports live preview in the browser."
      ],
      "text/plain": [
       "<IPython.core.display.HTML object>"
      ]
     },
     "metadata": {},
     "output_type": "display_data"
    },
    {
     "data": {
      "text/html": [
       "--- Summary #<a href='https://news.ycombinator.com/item?id=35738091'>35738091</a> by serp002 ---<br>The mini webapp helps to ensure that each muscle group is getting exercised enough each week by providing a list of muscle groups with colour-coded fatigue levels and weight lifting recommendations."
      ],
      "text/plain": [
       "<IPython.core.display.HTML object>"
      ]
     },
     "metadata": {},
     "output_type": "display_data"
    },
    {
     "data": {
      "text/html": [
       "--- Summary #<a href='https://news.ycombinator.com/item?id=35738092'>35738092</a> by jiveturkey ---<br>The VLF heart rate monitor receiver provides audio feedback to the wearer about their stress reaction."
      ],
      "text/plain": [
       "<IPython.core.display.HTML object>"
      ]
     },
     "metadata": {},
     "output_type": "display_data"
    },
    {
     "data": {
      "text/html": [
       "--- Summary #<a href='https://news.ycombinator.com/item?id=35738097'>35738097</a> by elesiuta ---<br>This project was a simple and effective way to detect hits in épée practices, and it was a physical project that was enjoyable to make."
      ],
      "text/plain": [
       "<IPython.core.display.HTML object>"
      ]
     },
     "metadata": {},
     "output_type": "display_data"
    },
    {
     "data": {
      "text/html": [
       "--- Summary #<a href='https://news.ycombinator.com/item?id=35738105'>35738105</a> by zacksiri ---<br>The idea is to create a SaaS product that will allow anyone to use their own infrastructure as a PaaS without needing to hire a DevOps, due to the difficulty of finding resources and the complexity of Kubernetes."
      ],
      "text/plain": [
       "<IPython.core.display.HTML object>"
      ]
     },
     "metadata": {},
     "output_type": "display_data"
    },
    {
     "data": {
      "text/html": [
       "--- Summary #<a href='https://news.ycombinator.com/item?id=35738106'>35738106</a> by bayindirh ---<br>The idea is to create an automated file ingestion and processing pipeline that runs on a Raspberry Pi 3 to simplify mundane tasks such as renaming and converting video files and sending them to relevant people."
      ],
      "text/plain": [
       "<IPython.core.display.HTML object>"
      ]
     },
     "metadata": {},
     "output_type": "display_data"
    },
    {
     "data": {
      "text/html": [
       "--- Summary #<a href='https://news.ycombinator.com/item?id=35738111'>35738111</a> by orthoxerox ---<br>I built my own calorie tracker to keep my dietary habits private, using Grist and Tailscale to access it securely from anywhere."
      ],
      "text/plain": [
       "<IPython.core.display.HTML object>"
      ]
     },
     "metadata": {},
     "output_type": "display_data"
    },
    {
     "data": {
      "text/html": [
       "--- Summary #<a href='https://news.ycombinator.com/item?id=35738120'>35738120</a> by 2d8a875f-39a2-4 ---<br>This desktop app for homebrew beer recipes has a data model and workflow that focuses on process instead of ingredients, allowing for complex brew days such as double batches."
      ],
      "text/plain": [
       "<IPython.core.display.HTML object>"
      ]
     },
     "metadata": {},
     "output_type": "display_data"
    },
    {
     "data": {
      "text/html": [
       "--- Summary #<a href='https://news.ycombinator.com/item?id=35738121'>35738121</a> by steve_adams_86 ---<br>The author built an automated hydroponic grow tent powered by an Arduino Nano RP2040 Connect, which produces a lot of greens and herbs and is remarkably hands-off, and is now designing a PCB to help others build their own."
      ],
      "text/plain": [
       "<IPython.core.display.HTML object>"
      ]
     },
     "metadata": {},
     "output_type": "display_data"
    },
    {
     "data": {
      "text/html": [
       "--- Summary #<a href='https://news.ycombinator.com/item?id=35738124'>35738124</a> by hnlmorg ---<br>The comment describes various projects the speaker has worked on, ranging from car audio systems to home automation software and a robot."
      ],
      "text/plain": [
       "<IPython.core.display.HTML object>"
      ]
     },
     "metadata": {},
     "output_type": "display_data"
    },
    {
     "data": {
      "text/html": [
       "--- Summary #<a href='https://news.ycombinator.com/item?id=35738130'>35738130</a> by rzzzt ---<br>The double countdown timer serves as a reminder of the days until a friend's farewell party and a festival's opening date, and has now accumulated 4500 days."
      ],
      "text/plain": [
       "<IPython.core.display.HTML object>"
      ]
     },
     "metadata": {},
     "output_type": "display_data"
    },
    {
     "data": {
      "text/html": [
       "--- Summary #<a href='https://news.ycombinator.com/item?id=35738131'>35738131</a> by xenodium ---<br>Xenodium provides a range of tools for iOS and Windows, including a ChatGPT shell, a scriptable screenshot/video capture utility, a habit tracker, a scratch pad, and a way to record and reuse complex commands."
      ],
      "text/plain": [
       "<IPython.core.display.HTML object>"
      ]
     },
     "metadata": {},
     "output_type": "display_data"
    },
    {
     "data": {
      "text/html": [
       "--- Summary #<a href='https://news.ycombinator.com/item?id=35738149'>35738149</a> by MaxLeiter ---<br>The comment describes the successful porting of X11 to iOS."
      ],
      "text/plain": [
       "<IPython.core.display.HTML object>"
      ]
     },
     "metadata": {},
     "output_type": "display_data"
    },
    {
     "data": {
      "text/html": [
       "--- Summary #<a href='https://news.ycombinator.com/item?id=35738189'>35738189</a> by nextlevelwizard ---<br>The most \"useful\" thing the speaker created was a fishing bot for a MMORPG, while the most \"useful\" thing they integrated was a RSS feed of TV show torrents and multi-threaded torrent library."
      ],
      "text/plain": [
       "<IPython.core.display.HTML object>"
      ]
     },
     "metadata": {},
     "output_type": "display_data"
    },
    {
     "data": {
      "text/html": [
       "--- Summary #<a href='https://news.ycombinator.com/item?id=35738196'>35738196</a> by Jalad ---<br>A service has been created to make it easier to submit receipts for reimbursement of expenses up to $x,000 a year."
      ],
      "text/plain": [
       "<IPython.core.display.HTML object>"
      ]
     },
     "metadata": {},
     "output_type": "display_data"
    },
    {
     "data": {
      "text/html": [
       "--- Summary #<a href='https://news.ycombinator.com/item?id=35738199'>35738199</a> by ww520 ---<br>Using an ordinary magnetic sensor, it is possible to detect whether a garage door is opened or closed."
      ],
      "text/plain": [
       "<IPython.core.display.HTML object>"
      ]
     },
     "metadata": {},
     "output_type": "display_data"
    },
    {
     "data": {
      "text/html": [
       "--- Summary #<a href='https://news.ycombinator.com/item?id=35738202'>35738202</a> by scary-size ---<br>A desktop app for creating a static blog, an Instagram-like private photo feed, and a recipe clean-up tool are all being developed."
      ],
      "text/plain": [
       "<IPython.core.display.HTML object>"
      ]
     },
     "metadata": {},
     "output_type": "display_data"
    },
    {
     "data": {
      "text/html": [
       "--- Summary #<a href='https://news.ycombinator.com/item?id=35738222'>35738222</a> by efrecon ---<br>dew is a tool that simplifies running docker containers with the current directory mapped as itself inside the container, and provides additional features such as rebasing a barebone image, injecting commands, using a local Dockerfile, and creating files and directories."
      ],
      "text/plain": [
       "<IPython.core.display.HTML object>"
      ]
     },
     "metadata": {},
     "output_type": "display_data"
    },
    {
     "data": {
      "text/html": [
       "--- Summary #<a href='https://news.ycombinator.com/item?id=35738228'>35738228</a> by dclowd9901 ---<br>This comment describes a service that runs on a Raspberry Pi and checks Oregon's liquor site for new shipments of bourbon, and uses Mailchimp's API to email the user when inventories change."
      ],
      "text/plain": [
       "<IPython.core.display.HTML object>"
      ]
     },
     "metadata": {},
     "output_type": "display_data"
    },
    {
     "data": {
      "text/html": [
       "--- Summary #<a href='https://news.ycombinator.com/item?id=35738249'>35738249</a> by sriram_malhar ---<br>A Raspberry PI with an FM transmitter was used to create a private radio station for the speaker's 93-year-old mother-in-law, with different playlists for different times of the day, which is enjoyed by her and her neighbours."
      ],
      "text/plain": [
       "<IPython.core.display.HTML object>"
      ]
     },
     "metadata": {},
     "output_type": "display_data"
    },
    {
     "data": {
      "text/html": [
       "--- Summary #<a href='https://news.ycombinator.com/item?id=35738266'>35738266</a> by neon_me ---<br>The narrator used an IRC bot to send automated messages to their ex, which ultimately led to the end of their relationship."
      ],
      "text/plain": [
       "<IPython.core.display.HTML object>"
      ]
     },
     "metadata": {},
     "output_type": "display_data"
    },
    {
     "data": {
      "text/html": [
       "--- Summary #<a href='https://news.ycombinator.com/item?id=35738277'>35738277</a> by anotheryou ---<br>A midi controller has been created from a drone remote control with a replaced \"brain\" and new housing, and an app that records audio retroactively with a ring buffer that buffers the last 2h."
      ],
      "text/plain": [
       "<IPython.core.display.HTML object>"
      ]
     },
     "metadata": {},
     "output_type": "display_data"
    },
    {
     "data": {
      "text/html": [
       "--- Summary #<a href='https://news.ycombinator.com/item?id=35738280'>35738280</a> by glapworth ---<br>A QR code made out of Lego was used to provide guests with the WiFi password, which was a fun project to do with the kids that took about 4 hours to complete, although there was a problem with having enough 1x1 tiles."
      ],
      "text/plain": [
       "<IPython.core.display.HTML object>"
      ]
     },
     "metadata": {},
     "output_type": "display_data"
    },
    {
     "data": {
      "text/html": [
       "--- Summary #<a href='https://news.ycombinator.com/item?id=35738283'>35738283</a> by claudeomusic ---<br>A Twilio app was created for a birthday party where guests had to guess the correct age ordering of photos to win a prize."
      ],
      "text/plain": [
       "<IPython.core.display.HTML object>"
      ]
     },
     "metadata": {},
     "output_type": "display_data"
    },
    {
     "data": {
      "text/html": [
       "--- Summary #<a href='https://news.ycombinator.com/item?id=35738288'>35738288</a> by karulont ---<br>I reverse engineered a flash application to create an offline map with address search for my not internet connected phone, which was very useful for me when I moved to a new city."
      ],
      "text/plain": [
       "<IPython.core.display.HTML object>"
      ]
     },
     "metadata": {},
     "output_type": "display_data"
    },
    {
     "data": {
      "text/html": [
       "--- Summary #<a href='https://news.ycombinator.com/item?id=35738289'>35738289</a> by imcoconut ---<br>This toolkit automates tedious tasks to quickly bootstrap a SQL database with sensible defaults for column types, allowing for easy migration between on-prem and cloud databases."
      ],
      "text/plain": [
       "<IPython.core.display.HTML object>"
      ]
     },
     "metadata": {},
     "output_type": "display_data"
    },
    {
     "data": {
      "text/html": [
       "--- Summary #<a href='https://news.ycombinator.com/item?id=35738290'>35738290</a> by gmac ---<br>My daughter's enjoyment of Othello inspired me to create a digital version of the game for use on an iPad."
      ],
      "text/plain": [
       "<IPython.core.display.HTML object>"
      ]
     },
     "metadata": {},
     "output_type": "display_data"
    },
    {
     "data": {
      "text/html": [
       "--- Summary #<a href='https://news.ycombinator.com/item?id=35738293'>35738293</a> by aftergibson ---<br>Repurposing an old Nook to be an e-ink family dashboard can be a useful and interesting project."
      ],
      "text/plain": [
       "<IPython.core.display.HTML object>"
      ]
     },
     "metadata": {},
     "output_type": "display_data"
    },
    {
     "data": {
      "text/html": [
       "--- Summary #<a href='https://news.ycombinator.com/item?id=35738295'>35738295</a> by sowbug ---<br>An Arduino sketch and ESPHome firmware were used to create an automatic fish feeder that works better than expected and can be controlled by Alexa."
      ],
      "text/plain": [
       "<IPython.core.display.HTML object>"
      ]
     },
     "metadata": {},
     "output_type": "display_data"
    },
    {
     "data": {
      "text/html": [
       "--- Summary #<a href='https://news.ycombinator.com/item?id=35738314'>35738314</a> by HellDunkel ---<br>Driving simulators in Unreal Engine can now be used to simulate Advanced Driver Assistance Systems (ADAS) with a realistic Heads-Up Display (HUD) that is warped and quasi raytraced."
      ],
      "text/plain": [
       "<IPython.core.display.HTML object>"
      ]
     },
     "metadata": {},
     "output_type": "display_data"
    },
    {
     "data": {
      "text/html": [
       "--- Summary #<a href='https://news.ycombinator.com/item?id=35738322'>35738322</a> by texuf ---<br>The website allows users to project a single continuous image across multiple monitors, but it is missing some 3d math to make the image line up perfectly when the angles are weird."
      ],
      "text/plain": [
       "<IPython.core.display.HTML object>"
      ]
     },
     "metadata": {},
     "output_type": "display_data"
    },
    {
     "data": {
      "text/html": [
       "--- Summary #<a href='https://news.ycombinator.com/item?id=35738325'>35738325</a> by okaleniuk ---<br>A tool was created to help with the poor quality photos that the father was working with."
      ],
      "text/plain": [
       "<IPython.core.display.HTML object>"
      ]
     },
     "metadata": {},
     "output_type": "display_data"
    },
    {
     "data": {
      "text/html": [
       "--- Summary #<a href='https://news.ycombinator.com/item?id=35738342'>35738342</a> by dgently7 ---<br>I have created two hobby projects which are not groundbreaking, but fit the brief: a website for my family to manage a gift list and a wedding evite/website with a customised, personalised experience."
      ],
      "text/plain": [
       "<IPython.core.display.HTML object>"
      ]
     },
     "metadata": {},
     "output_type": "display_data"
    },
    {
     "data": {
      "text/html": [
       "--- Summary #<a href='https://news.ycombinator.com/item?id=35738346'>35738346</a> by nrobinaubertin ---<br>In 2012, a group of friends used Facebook's 'private group' feature, but decided to create their own forum written in PHP due to not liking the fact that it was tied to Facebook, which has since grown into an open-source project."
      ],
      "text/plain": [
       "<IPython.core.display.HTML object>"
      ]
     },
     "metadata": {},
     "output_type": "display_data"
    },
    {
     "data": {
      "text/html": [
       "--- Summary #<a href='https://news.ycombinator.com/item?id=35738365'>35738365</a> by sandeshnaroju ---<br>Nanoapp.dev is an open-source low-code platform for building mobile apps in JSON."
      ],
      "text/plain": [
       "<IPython.core.display.HTML object>"
      ]
     },
     "metadata": {},
     "output_type": "display_data"
    },
    {
     "data": {
      "text/html": [
       "--- Summary #<a href='https://news.ycombinator.com/item?id=35738382'>35738382</a> by cknight ---<br>I created a sprint calendar to easily keep track of important dates and tasks for my team on my phone."
      ],
      "text/plain": [
       "<IPython.core.display.HTML object>"
      ]
     },
     "metadata": {},
     "output_type": "display_data"
    },
    {
     "data": {
      "text/html": [
       "--- Summary #<a href='https://news.ycombinator.com/item?id=35738391'>35738391</a> by Luke00126 ---<br>Someone else using the Firefox add-on motivated the creator to patch it."
      ],
      "text/plain": [
       "<IPython.core.display.HTML object>"
      ]
     },
     "metadata": {},
     "output_type": "display_data"
    },
    {
     "data": {
      "text/html": [
       "--- Summary #<a href='https://news.ycombinator.com/item?id=35738395'>35738395</a> by Luke00126 ---<br>Someone else is using the Firefox add-on created by the speaker, which has motivated them to patch it."
      ],
      "text/plain": [
       "<IPython.core.display.HTML object>"
      ]
     },
     "metadata": {},
     "output_type": "display_data"
    },
    {
     "data": {
      "text/html": [
       "--- Summary #<a href='https://news.ycombinator.com/item?id=35738399'>35738399</a> by GeorgeHahn ---<br>The server bridges Subsonic clients to Spotify, allowing users to stream anything on Spotify and fill in favorites that are not available."
      ],
      "text/plain": [
       "<IPython.core.display.HTML object>"
      ]
     },
     "metadata": {},
     "output_type": "display_data"
    },
    {
     "data": {
      "text/html": [
       "--- Summary #<a href='https://news.ycombinator.com/item?id=35738407'>35738407</a> by jen_h ---<br>I have developed a range of scripts and apps to improve my and my family's lives, such as a script to screen scrape campsite reservation sites for cancellations, an Alexa app to search for Old Time Radio shows and an app to read recent CVEs."
      ],
      "text/plain": [
       "<IPython.core.display.HTML object>"
      ]
     },
     "metadata": {},
     "output_type": "display_data"
    },
    {
     "data": {
      "text/html": [
       "--- Summary #<a href='https://news.ycombinator.com/item?id=35738427'>35738427</a> by fellerts ---<br>This project uses a Raspberry Pi Zero W to allow remote access to the apartment's intercom system and to notify the user when the doorbell rings."
      ],
      "text/plain": [
       "<IPython.core.display.HTML object>"
      ]
     },
     "metadata": {},
     "output_type": "display_data"
    },
    {
     "data": {
      "text/html": [
       "--- Summary #<a href='https://news.ycombinator.com/item?id=35738428'>35738428</a> by LeoPanthera ---<br>Netbooting Raspberry Pis is a simple but useful way to manage multiple devices with different operating systems without having to worry about wearing out cards."
      ],
      "text/plain": [
       "<IPython.core.display.HTML object>"
      ]
     },
     "metadata": {},
     "output_type": "display_data"
    },
    {
     "data": {
      "text/html": [
       "--- Summary #<a href='https://news.ycombinator.com/item?id=35738448'>35738448</a> by alpaca128 ---<br>I created a CLI tool to apply boolean set operations on lines of text and I am working on a modal text editor for fun."
      ],
      "text/plain": [
       "<IPython.core.display.HTML object>"
      ]
     },
     "metadata": {},
     "output_type": "display_data"
    },
    {
     "data": {
      "text/html": [
       "--- Summary #<a href='https://news.ycombinator.com/item?id=35738464'>35738464</a> by kolinko ---<br>I wrote a program to help my sister learn the alphabet and keyboard layout by pressing letters on a keyboard and seeing them appear on the screen."
      ],
      "text/plain": [
       "<IPython.core.display.HTML object>"
      ]
     },
     "metadata": {},
     "output_type": "display_data"
    },
    {
     "data": {
      "text/html": [
       "--- Summary #<a href='https://news.ycombinator.com/item?id=35738470'>35738470</a> by esseti ---<br>The time tracker https://github.com/esseti/-schrodinger helps to track and manage time efficiently."
      ],
      "text/plain": [
       "<IPython.core.display.HTML object>"
      ]
     },
     "metadata": {},
     "output_type": "display_data"
    },
    {
     "data": {
      "text/html": [
       "--- Summary #<a href='https://news.ycombinator.com/item?id=35738494'>35738494</a> by soren1 ---<br>Trading cryptocurrency can be a complicated process, but using a tool like CapitalG can help simplify the process and avoid the need to share sensitive data with third-party accounting tools."
      ],
      "text/plain": [
       "<IPython.core.display.HTML object>"
      ]
     },
     "metadata": {},
     "output_type": "display_data"
    },
    {
     "data": {
      "text/html": [
       "--- Summary #<a href='https://news.ycombinator.com/item?id=35738521'>35738521</a> by rft ---<br>The feature that makes the speaker most enjoyable is its ability to turn on and off the stereo via an infrared LED, which detects sound and silence on the pulse output and sends the proper IR command."
      ],
      "text/plain": [
       "<IPython.core.display.HTML object>"
      ]
     },
     "metadata": {},
     "output_type": "display_data"
    },
    {
     "data": {
      "text/html": [
       "--- Summary #<a href='https://news.ycombinator.com/item?id=35738523'>35738523</a> by pcblues ---<br>The iPhone VR app allows a Windows 8 phone to be used to control a Lego Mindstorms robot."
      ],
      "text/plain": [
       "<IPython.core.display.HTML object>"
      ]
     },
     "metadata": {},
     "output_type": "display_data"
    },
    {
     "data": {
      "text/html": [
       "--- Summary #<a href='https://news.ycombinator.com/item?id=35738527'>35738527</a> by Saigonautica ---<br>The most useful thing the speaker has built is a lamp that uses a 1W red LED behind a big diffuser, which uses PWM in the MHz range for dimming and has big physical controls, which helps the speaker and their wife with migraines."
      ],
      "text/plain": [
       "<IPython.core.display.HTML object>"
      ]
     },
     "metadata": {},
     "output_type": "display_data"
    },
    {
     "data": {
      "text/html": [
       "--- Summary #<a href='https://news.ycombinator.com/item?id=35738530'>35738530</a> by quEsal ---<br>A Telegram bot that uses GPT-3.5 to summarise news and comments from Hacker News is available for around $1/day and is used by some tech friends every day, with examples of summarised posts including ad-blocking tools, stock data downloading, AI foot generation, usage monitoring systems, simulation of universes based on theories, market data downloading and heart rate monitoring."
      ],
      "text/plain": [
       "<IPython.core.display.HTML object>"
      ]
     },
     "metadata": {},
     "output_type": "display_data"
    },
    {
     "data": {
      "text/html": [
       "--- Summary #<a href='https://news.ycombinator.com/item?id=35738537'>35738537</a> by skwosh ---<br>The author creates their own digital synthesis algorithms using esoteric mathematics for their own practice, with the hope of commercializing them in the future."
      ],
      "text/plain": [
       "<IPython.core.display.HTML object>"
      ]
     },
     "metadata": {},
     "output_type": "display_data"
    },
    {
     "data": {
      "text/html": [
       "--- Summary #<a href='https://news.ycombinator.com/item?id=35738557'>35738557</a> by moontear ---<br>This comment describes how the author set up an automatic warning system to remind them to get up and take a walk if they sit for more than an hour."
      ],
      "text/plain": [
       "<IPython.core.display.HTML object>"
      ]
     },
     "metadata": {},
     "output_type": "display_data"
    },
    {
     "data": {
      "text/html": [
       "--- Summary #<a href='https://news.ycombinator.com/item?id=35738566'>35738566</a> by RoyalSloth ---<br>I created a Markdown-like text format for writing technical reports, written from scratch in Go with few dependencies, which outputs .html or .tex and is compiled to a PDF via Xelatex."
      ],
      "text/plain": [
       "<IPython.core.display.HTML object>"
      ]
     },
     "metadata": {},
     "output_type": "display_data"
    },
    {
     "data": {
      "text/html": [
       "--- Summary #<a href='https://news.ycombinator.com/item?id=35738580'>35738580</a> by database64128 ---<br>A Telegram bot was written in C# which is modular and can be configured to have different features, and a running instance is available."
      ],
      "text/plain": [
       "<IPython.core.display.HTML object>"
      ]
     },
     "metadata": {},
     "output_type": "display_data"
    },
    {
     "data": {
      "text/html": [
       "--- Summary #<a href='https://news.ycombinator.com/item?id=35738604'>35738604</a> by simonjgreen ---<br>My favourite projects from running a hackspace include a tracking airsoft turret, a world clock, a QFH antenna, a core xy assembly with a peristaltic pump, and a screenshot tool."
      ],
      "text/plain": [
       "<IPython.core.display.HTML object>"
      ]
     },
     "metadata": {},
     "output_type": "display_data"
    },
    {
     "data": {
      "text/html": [
       "--- Summary #<a href='https://news.ycombinator.com/item?id=35738624'>35738624</a> by hczedik ---<br>Draw Type is a free and open source game that can be played remotely with at least 4 players for an enjoyable experience."
      ],
      "text/plain": [
       "<IPython.core.display.HTML object>"
      ]
     },
     "metadata": {},
     "output_type": "display_data"
    },
    {
     "data": {
      "text/html": [
       "--- Summary #<a href='https://news.ycombinator.com/item?id=35738635'>35738635</a> by ajuc ---<br>The Outdoors Battlemap Generator was useful for creating a hex-crawling D&D campaign."
      ],
      "text/plain": [
       "<IPython.core.display.HTML object>"
      ]
     },
     "metadata": {},
     "output_type": "display_data"
    },
    {
     "data": {
      "text/html": [
       "--- Summary #<a href='https://news.ycombinator.com/item?id=35738642'>35738642</a> by hubraumhugo ---<br>Finding the time and resources to build cool things can be challenging."
      ],
      "text/plain": [
       "<IPython.core.display.HTML object>"
      ]
     },
     "metadata": {},
     "output_type": "display_data"
    },
    {
     "data": {
      "text/html": [
       "--- Summary #<a href='https://news.ycombinator.com/item?id=35738654'>35738654</a> by flir ---<br>Using IFTTT and a small amount of javascript, it is possible to create an automated timesheet system."
      ],
      "text/plain": [
       "<IPython.core.display.HTML object>"
      ]
     },
     "metadata": {},
     "output_type": "display_data"
    },
    {
     "data": {
      "text/html": [
       "--- Summary #<a href='https://news.ycombinator.com/item?id=35738655'>35738655</a> by rollcat ---<br>This project is an example of how a simple design and minimal code can be used to create a powerful tool, inspired by UNIX."
      ],
      "text/plain": [
       "<IPython.core.display.HTML object>"
      ]
     },
     "metadata": {},
     "output_type": "display_data"
    },
    {
     "data": {
      "text/html": [
       "--- Summary #<a href='https://news.ycombinator.com/item?id=35738659'>35738659</a> by zehome ---<br>Using a SOCKS5 proxy with MPTCP can help to handle fluctuations in link quality and provide VPN redundancy."
      ],
      "text/plain": [
       "<IPython.core.display.HTML object>"
      ]
     },
     "metadata": {},
     "output_type": "display_data"
    },
    {
     "data": {
      "text/html": [
       "--- Summary #<a href='https://news.ycombinator.com/item?id=35738663'>35738663</a> by karakanb ---<br>This comment describes an experiment to create a scanner to identify devices connected to a shared Wi-Fi network and display them on a website installed on the family's devices."
      ],
      "text/plain": [
       "<IPython.core.display.HTML object>"
      ]
     },
     "metadata": {},
     "output_type": "display_data"
    },
    {
     "data": {
      "text/html": [
       "--- Summary #<a href='https://news.ycombinator.com/item?id=35738668'>35738668</a> by 7723 ---<br>This comment suggests creating a CLI utility for gaming-related purposes, such as guessing the gameserver tick rate and collecting keyboard inputs, to be displayed in Grafana, for no real reason."
      ],
      "text/plain": [
       "<IPython.core.display.HTML object>"
      ]
     },
     "metadata": {},
     "output_type": "display_data"
    },
    {
     "data": {
      "text/html": [
       "--- Summary #<a href='https://news.ycombinator.com/item?id=35738672'>35738672</a> by gigatexal ---<br>The author built their blog from scratch using Fedora's Pandoc Markdown to HTML, despite having limited knowledge of web/HTML, instead of using a pre-existing static blogging tool."
      ],
      "text/plain": [
       "<IPython.core.display.HTML object>"
      ]
     },
     "metadata": {},
     "output_type": "display_data"
    },
    {
     "data": {
      "text/html": [
       "--- Summary #<a href='https://news.ycombinator.com/item?id=35738699'>35738699</a> by psychomugs ---<br>Psychomugs has created robotic graduation caps and a wrist-mounted Spider-Man-inspired coilgun."
      ],
      "text/plain": [
       "<IPython.core.display.HTML object>"
      ]
     },
     "metadata": {},
     "output_type": "display_data"
    },
    {
     "data": {
      "text/html": [
       "--- Summary #<a href='https://news.ycombinator.com/item?id=35738701'>35738701</a> by awesomegoat_com ---<br>Building your own app can be a rewarding experience and can help with burnout for developers."
      ],
      "text/plain": [
       "<IPython.core.display.HTML object>"
      ]
     },
     "metadata": {},
     "output_type": "display_data"
    },
    {
     "data": {
      "text/html": [
       "--- Summary #<a href='https://news.ycombinator.com/item?id=35738707'>35738707</a> by jonplackett ---<br>The author created a gender swapping algorithm to demonstrate the biases in original stories that are often overlooked."
      ],
      "text/plain": [
       "<IPython.core.display.HTML object>"
      ]
     },
     "metadata": {},
     "output_type": "display_data"
    },
    {
     "data": {
      "text/html": [
       "--- Summary #<a href='https://news.ycombinator.com/item?id=35738720'>35738720</a> by davchana ---<br>The comment summarises the author's experience with programming, from creating a program in C to using Javascript and HTML to create a timesheet log app and a Telegram bot that logs messages to a Google sheet."
      ],
      "text/plain": [
       "<IPython.core.display.HTML object>"
      ]
     },
     "metadata": {},
     "output_type": "display_data"
    },
    {
     "data": {
      "text/html": [
       "--- Summary #<a href='https://news.ycombinator.com/item?id=35738729'>35738729</a> by Msurrow ---<br>A wine enthusiast built a custom app to track wines in their cellar and take tasting notes, as existing apps did not fit their needs."
      ],
      "text/plain": [
       "<IPython.core.display.HTML object>"
      ]
     },
     "metadata": {},
     "output_type": "display_data"
    },
    {
     "data": {
      "text/html": [
       "--- Summary #<a href='https://news.ycombinator.com/item?id=35738758'>35738758</a> by boricj ---<br>I have modified Ghidra to unlink pieces of an executable back into relocatable object files, allowing me to extract parts of an executable and reuse them by linking them to my own source code."
      ],
      "text/plain": [
       "<IPython.core.display.HTML object>"
      ]
     },
     "metadata": {},
     "output_type": "display_data"
    },
    {
     "data": {
      "text/html": [
       "--- Summary #<a href='https://news.ycombinator.com/item?id=35738768'>35738768</a> by vinc ---<br>The author has created a variety of projects over the last decade or two, ranging from a lunisolar calendar and decimal time to chess engines and web apps."
      ],
      "text/plain": [
       "<IPython.core.display.HTML object>"
      ]
     },
     "metadata": {},
     "output_type": "display_data"
    },
    {
     "data": {
      "text/html": [
       "--- Summary #<a href='https://news.ycombinator.com/item?id=35738778'>35738778</a> by firechickenbird ---<br>The app helps to optimise the shopping experience by computing the optimal path through the supermarket based on a given shopping list."
      ],
      "text/plain": [
       "<IPython.core.display.HTML object>"
      ]
     },
     "metadata": {},
     "output_type": "display_data"
    },
    {
     "data": {
      "text/html": [
       "--- Summary #<a href='https://news.ycombinator.com/item?id=35738798'>35738798</a> by ghbarton ---<br>A script was written to allow the user to easily copy their IP address if it changes, eliminating the need to manually access servers they are whitelisted to."
      ],
      "text/plain": [
       "<IPython.core.display.HTML object>"
      ]
     },
     "metadata": {},
     "output_type": "display_data"
    },
    {
     "data": {
      "text/html": [
       "--- Summary #<a href='https://news.ycombinator.com/item?id=35738804'>35738804</a> by peter_retief ---<br>I used operational amplifiers, machine learning, and PCBs to measure skin voltage, infrared absorption, blood pressure, pulse rate, and oxygen saturation, and was close to predicting/estimating blood sugar."
      ],
      "text/plain": [
       "<IPython.core.display.HTML object>"
      ]
     },
     "metadata": {},
     "output_type": "display_data"
    },
    {
     "data": {
      "text/html": [
       "--- Summary #<a href='https://news.ycombinator.com/item?id=35738816'>35738816</a> by ToJans ---<br>A web app was created to allow recording of uniform ready-to-publish videos for a SaaS in real-time, reducing the time taken to create and publish a 5-minute video to 15 minutes."
      ],
      "text/plain": [
       "<IPython.core.display.HTML object>"
      ]
     },
     "metadata": {},
     "output_type": "display_data"
    },
    {
     "data": {
      "text/html": [
       "--- Summary #<a href='https://news.ycombinator.com/item?id=35738827'>35738827</a> by alex-moon ---<br>The first app was designed to be practical and help the user learn French, while the second app was designed to be fun and generate \"explorable dream worlds\" in the form of videos."
      ],
      "text/plain": [
       "<IPython.core.display.HTML object>"
      ]
     },
     "metadata": {},
     "output_type": "display_data"
    },
    {
     "data": {
      "text/html": [
       "--- Summary #<a href='https://news.ycombinator.com/item?id=35738830'>35738830</a> by tunnuz ---<br>A utility has been created to generate the most optimal shopping basket for a food allowance of 8 eur/day, with the ability to refine the basket by removing items."
      ],
      "text/plain": [
       "<IPython.core.display.HTML object>"
      ]
     },
     "metadata": {},
     "output_type": "display_data"
    },
    {
     "data": {
      "text/html": [
       "--- Summary #<a href='https://news.ycombinator.com/item?id=35738839'>35738839</a> by vintermann ---<br>I wrote a unique image-scrambling program based on the bijective Burrows-Wheeler transform, which is a true permutation that swaps low-order and higher-order patterns."
      ],
      "text/plain": [
       "<IPython.core.display.HTML object>"
      ]
     },
     "metadata": {},
     "output_type": "display_data"
    },
    {
     "data": {
      "text/html": [
       "--- Summary #<a href='https://news.ycombinator.com/item?id=35738844'>35738844</a> by yetihehe ---<br>RegExTractor is a useful program for extracting and formatting data from a text dump."
      ],
      "text/plain": [
       "<IPython.core.display.HTML object>"
      ]
     },
     "metadata": {},
     "output_type": "display_data"
    },
    {
     "data": {
      "text/html": [
       "--- Summary #<a href='https://news.ycombinator.com/item?id=35738867'>35738867</a> by ecliptik ---<br>This framework uses Pandoc to convert markdown into Gemini and Gopher sites, and also generates a site index and headers/footers for each page."
      ],
      "text/plain": [
       "<IPython.core.display.HTML object>"
      ]
     },
     "metadata": {},
     "output_type": "display_data"
    },
    {
     "data": {
      "text/html": [
       "--- Summary #<a href='https://news.ycombinator.com/item?id=35738880'>35738880</a> by pketh ---<br>I built a directory of kaomojis with a cat mascot to gain development experience, which I now use to add spice to tweets and error messages."
      ],
      "text/plain": [
       "<IPython.core.display.HTML object>"
      ]
     },
     "metadata": {},
     "output_type": "display_data"
    },
    {
     "data": {
      "text/html": [
       "--- Summary #<a href='https://news.ycombinator.com/item?id=35738881'>35738881</a> by lyziinc ---<br>I created a custom client for the ChatGPT API which allows me to template and chain together prompts to automate content generation, although it is still a work in progress and not ready to be shared publicly."
      ],
      "text/plain": [
       "<IPython.core.display.HTML object>"
      ]
     },
     "metadata": {},
     "output_type": "display_data"
    },
    {
     "data": {
      "text/html": [
       "--- Summary #<a href='https://news.ycombinator.com/item?id=35738889'>35738889</a> by princevegeta89 ---<br>A Node.js tool was created to use the Frigate API and Pushover to send event notifications and photos to an Android phone."
      ],
      "text/plain": [
       "<IPython.core.display.HTML object>"
      ]
     },
     "metadata": {},
     "output_type": "display_data"
    },
    {
     "data": {
      "text/html": [
       "--- Summary #<a href='https://news.ycombinator.com/item?id=35738899'>35738899</a> by King-Aaron ---<br>I built a custom 4 litre V8 engine for my mx-5."
      ],
      "text/plain": [
       "<IPython.core.display.HTML object>"
      ]
     },
     "metadata": {},
     "output_type": "display_data"
    },
    {
     "data": {
      "text/html": [
       "--- Summary #<a href='https://news.ycombinator.com/item?id=35738913'>35738913</a> by cm2187 ---<br>A webapp was created to track the number of days without a 'fuckup' and provide a reset button for a team on an old iPad."
      ],
      "text/plain": [
       "<IPython.core.display.HTML object>"
      ]
     },
     "metadata": {},
     "output_type": "display_data"
    },
    {
     "data": {
      "text/html": [
       "--- Summary #<a href='https://news.ycombinator.com/item?id=35738918'>35738918</a> by podviaznikov ---<br>This comment does not relate to the key idea."
      ],
      "text/plain": [
       "<IPython.core.display.HTML object>"
      ]
     },
     "metadata": {},
     "output_type": "display_data"
    },
    {
     "data": {
      "text/html": [
       "--- Summary #<a href='https://news.ycombinator.com/item?id=35738926'>35738926</a> by suby ---<br>The author built a system to code and control their computer via voice, as well as other projects such as a music player, breathing app, and static website generator."
      ],
      "text/plain": [
       "<IPython.core.display.HTML object>"
      ]
     },
     "metadata": {},
     "output_type": "display_data"
    },
    {
     "data": {
      "text/html": [
       "--- Summary #<a href='https://news.ycombinator.com/item?id=35738939'>35738939</a> by samhuk ---<br>Exhibitor is a React front-end component workshop, created as a simpler version of Storybook."
      ],
      "text/plain": [
       "<IPython.core.display.HTML object>"
      ]
     },
     "metadata": {},
     "output_type": "display_data"
    },
    {
     "data": {
      "text/html": [
       "--- Summary #<a href='https://news.ycombinator.com/item?id=35738942'>35738942</a> by i4i ---<br>This comment suggests that a Random Movie Maker could be used to create a 15 minute movie from a large collection of personal memories, providing a unique and nostalgic experience."
      ],
      "text/plain": [
       "<IPython.core.display.HTML object>"
      ]
     },
     "metadata": {},
     "output_type": "display_data"
    },
    {
     "data": {
      "text/html": [
       "--- Summary #<a href='https://news.ycombinator.com/item?id=35738954'>35738954</a> by dhuan_ ---<br>dhuan created mock and wikicmd to provide an easier way to set up API endpoints and navigate through mediawiki respectively."
      ],
      "text/plain": [
       "<IPython.core.display.HTML object>"
      ]
     },
     "metadata": {},
     "output_type": "display_data"
    },
    {
     "data": {
      "text/html": [
       "--- Summary #<a href='https://news.ycombinator.com/item?id=35738959'>35738959</a> by golergka ---<br>This project has been successful in providing a useful tool in a short amount of time."
      ],
      "text/plain": [
       "<IPython.core.display.HTML object>"
      ]
     },
     "metadata": {},
     "output_type": "display_data"
    },
    {
     "data": {
      "text/html": [
       "--- Summary #<a href='https://news.ycombinator.com/item?id=35738969'>35738969</a> by Bad_CRC ---<br>I created a home brewing system using Arduino, 4G router, MQTT/Python stack and Grafana frontend."
      ],
      "text/plain": [
       "<IPython.core.display.HTML object>"
      ]
     },
     "metadata": {},
     "output_type": "display_data"
    },
    {
     "data": {
      "text/html": [
       "--- Summary #<a href='https://news.ycombinator.com/item?id=35738971'>35738971</a> by bluescrn ---<br>Building a quadcopter in 2012 was a challenging project, but it has since become much easier due to the availability of all-in-one flight controller boards and more knowledge of compatible components."
      ],
      "text/plain": [
       "<IPython.core.display.HTML object>"
      ]
     },
     "metadata": {},
     "output_type": "display_data"
    },
    {
     "data": {
      "text/html": [
       "--- Summary #<a href='https://news.ycombinator.com/item?id=35738987'>35738987</a> by jo-m ---<br>The computer vision app records each train passing and attempts to stitch an image of it, although rain drops are currently disrupting the images."
      ],
      "text/plain": [
       "<IPython.core.display.HTML object>"
      ]
     },
     "metadata": {},
     "output_type": "display_data"
    },
    {
     "data": {
      "text/html": [
       "--- Summary #<a href='https://news.ycombinator.com/item?id=35738990'>35738990</a> by RowanH ---<br>The G-Seat is a CNC brake folded aluminium seat with moveable flaps controlled by AC Servos, designed and prototyped in Fusion 360, which is better than commercial offerings."
      ],
      "text/plain": [
       "<IPython.core.display.HTML object>"
      ]
     },
     "metadata": {},
     "output_type": "display_data"
    },
    {
     "data": {
      "text/html": [
       "--- Summary #<a href='https://news.ycombinator.com/item?id=35738995'>35738995</a> by ktzar ---<br>A website was created to track the generation of electricity in Spain by scraping different pieces of data at different intervals."
      ],
      "text/plain": [
       "<IPython.core.display.HTML object>"
      ]
     },
     "metadata": {},
     "output_type": "display_data"
    },
    {
     "data": {
      "text/html": [
       "--- Summary #<a href='https://news.ycombinator.com/item?id=35739001'>35739001</a> by tmilard ---<br>I created a software that generates an immersive experience of artist studios."
      ],
      "text/plain": [
       "<IPython.core.display.HTML object>"
      ]
     },
     "metadata": {},
     "output_type": "display_data"
    },
    {
     "data": {
      "text/html": [
       "--- Summary #<a href='https://news.ycombinator.com/item?id=35739062'>35739062</a> by Lutzb ---<br>A python script was created to recursively search through zipped files without unzipping them, in order to reduce memory requirements."
      ],
      "text/plain": [
       "<IPython.core.display.HTML object>"
      ]
     },
     "metadata": {},
     "output_type": "display_data"
    },
    {
     "data": {
      "text/html": [
       "--- Summary #<a href='https://news.ycombinator.com/item?id=35739065'>35739065</a> by weberer ---<br>A script was created to build a clock in the game Factorio to help players keep track of time."
      ],
      "text/plain": [
       "<IPython.core.display.HTML object>"
      ]
     },
     "metadata": {},
     "output_type": "display_data"
    },
    {
     "data": {
      "text/html": [
       "--- Summary #<a href='https://news.ycombinator.com/item?id=35739067'>35739067</a> by grilledcheez ---<br>A WiFi-connected ESP32 board with a small OLED display was used to create a pomodoro timer display outside a guest bedroom/home office door to indicate when family members could disturb the user, which was triggered from emacs using org-pomodoro."
      ],
      "text/plain": [
       "<IPython.core.display.HTML object>"
      ]
     },
     "metadata": {},
     "output_type": "display_data"
    },
    {
     "data": {
      "text/html": [
       "--- Summary #<a href='https://news.ycombinator.com/item?id=35739069'>35739069</a> by flyingpuffin ---<br>This website allows users to search for new places to travel to in a region with simple attributes, using a database of over 60,000 locations and basic ML and text processing."
      ],
      "text/plain": [
       "<IPython.core.display.HTML object>"
      ]
     },
     "metadata": {},
     "output_type": "display_data"
    },
    {
     "data": {
      "text/html": [
       "--- Summary #<a href='https://news.ycombinator.com/item?id=35739071'>35739071</a> by Aulig ---<br>I am creating a product that allows manual editing of a knowledge base and is focused on creating e-mail responses, rather than chatbots."
      ],
      "text/plain": [
       "<IPython.core.display.HTML object>"
      ]
     },
     "metadata": {},
     "output_type": "display_data"
    },
    {
     "data": {
      "text/html": [
       "--- Summary #<a href='https://news.ycombinator.com/item?id=35739075'>35739075</a> by tiew9Vii ---<br>I created a web app to help me plan my meals and hit my target macros, and I am hosting it publicly in case it is useful for others."
      ],
      "text/plain": [
       "<IPython.core.display.HTML object>"
      ]
     },
     "metadata": {},
     "output_type": "display_data"
    },
    {
     "data": {
      "text/html": [
       "--- Summary #<a href='https://news.ycombinator.com/item?id=35739083'>35739083</a> by jwmoz ---<br>The comment describes a variety of projects involving automation, analysis, web app development, trading, and crypto analysis."
      ],
      "text/plain": [
       "<IPython.core.display.HTML object>"
      ]
     },
     "metadata": {},
     "output_type": "display_data"
    },
    {
     "data": {
      "text/html": [
       "--- Summary #<a href='https://news.ycombinator.com/item?id=35739099'>35739099</a> by patcon ---<br>I created a script to generate Anki flashcards with avatars and names from the Meetup API to help me remember names and make people feel welcome at the weekly hacknight meetup."
      ],
      "text/plain": [
       "<IPython.core.display.HTML object>"
      ]
     },
     "metadata": {},
     "output_type": "display_data"
    },
    {
     "data": {
      "text/html": [
       "--- Summary #<a href='https://news.ycombinator.com/item?id=35739100'>35739100</a> by MrGilbert ---<br>I created a digital signage solution using an Android Picture Frame, a Docker service, and a home assistant instance to display the temperature of all rooms in my apartment, which was easy to extend but the picture frame broke down."
      ],
      "text/plain": [
       "<IPython.core.display.HTML object>"
      ]
     },
     "metadata": {},
     "output_type": "display_data"
    },
    {
     "data": {
      "text/html": [
       "--- Summary #<a href='https://news.ycombinator.com/item?id=35739106'>35739106</a> by mourner ---<br>A math model and interactive visualization was created to help efficiently park without bumping into anything."
      ],
      "text/plain": [
       "<IPython.core.display.HTML object>"
      ]
     },
     "metadata": {},
     "output_type": "display_data"
    },
    {
     "data": {
      "text/html": [
       "--- Summary #<a href='https://news.ycombinator.com/item?id=35739145'>35739145</a> by dmingod666 ---<br>I created various applications to solve different problems, such as taking screenshots, translating languages, differentiating keyboards, and changing the opacity of applications."
      ],
      "text/plain": [
       "<IPython.core.display.HTML object>"
      ]
     },
     "metadata": {},
     "output_type": "display_data"
    },
    {
     "data": {
      "text/html": [
       "--- Summary #<a href='https://news.ycombinator.com/item?id=35739170'>35739170</a> by ghbarton ---<br>My dad created a successful analysis tool for Flight Sim which tracks flights, generates reports and maps, and provides 3D models, charts, and other information."
      ],
      "text/plain": [
       "<IPython.core.display.HTML object>"
      ]
     },
     "metadata": {},
     "output_type": "display_data"
    },
    {
     "data": {
      "text/html": [
       "--- Summary #<a href='https://news.ycombinator.com/item?id=35739173'>35739173</a> by withinboredom ---<br>A deadman's switch can be used to trigger an action when something stops, such as sending an email when a computer is turned off or a low-quality GPS track when a phone loses service/power."
      ],
      "text/plain": [
       "<IPython.core.display.HTML object>"
      ]
     },
     "metadata": {},
     "output_type": "display_data"
    },
    {
     "data": {
      "text/html": [
       "--- Summary #<a href='https://news.ycombinator.com/item?id=35739218'>35739218</a> by psidex ---<br>A web extension has been created to allow users to customise their searches for faster results."
      ],
      "text/plain": [
       "<IPython.core.display.HTML object>"
      ]
     },
     "metadata": {},
     "output_type": "display_data"
    },
    {
     "data": {
      "text/html": [
       "--- Summary #<a href='https://news.ycombinator.com/item?id=35739226'>35739226</a> by edelans ---<br>A fan can be automated to adjust its speed based on one's heartbeat to provide cooling during a workout."
      ],
      "text/plain": [
       "<IPython.core.display.HTML object>"
      ]
     },
     "metadata": {},
     "output_type": "display_data"
    },
    {
     "data": {
      "text/html": [
       "--- Summary #<a href='https://news.ycombinator.com/item?id=35739251'>35739251</a> by xiaodai ---<br>An automated scrapper can be used to track financial information from multiple accounts and display it daily."
      ],
      "text/plain": [
       "<IPython.core.display.HTML object>"
      ]
     },
     "metadata": {},
     "output_type": "display_data"
    },
    {
     "data": {
      "text/html": [
       "--- Summary #<a href='https://news.ycombinator.com/item?id=35739290'>35739290</a> by jdemaeyer ---<br>Spotify's Song Radio feature has become overly personalized, so I created a service to give me an unpersonalized version of it."
      ],
      "text/plain": [
       "<IPython.core.display.HTML object>"
      ]
     },
     "metadata": {},
     "output_type": "display_data"
    },
    {
     "data": {
      "text/html": [
       "--- Summary #<a href='https://news.ycombinator.com/item?id=35739308'>35739308</a> by KaiserPro ---<br>I created my own stock ticker machine since buying one was too expensive."
      ],
      "text/plain": [
       "<IPython.core.display.HTML object>"
      ]
     },
     "metadata": {},
     "output_type": "display_data"
    },
    {
     "data": {
      "text/html": [
       "--- Summary #<a href='https://news.ycombinator.com/item?id=35739315'>35739315</a> by hirako2000 ---<br>This comment suggests that although the 3D audio visual experience is limited to a 2D canvas, it can still be satisfying."
      ],
      "text/plain": [
       "<IPython.core.display.HTML object>"
      ]
     },
     "metadata": {},
     "output_type": "display_data"
    },
    {
     "data": {
      "text/html": [
       "--- Summary #<a href='https://news.ycombinator.com/item?id=35739332'>35739332</a> by mazzystar ---<br>The author created an app to play white noise when their AirPods Pro failed to connect properly."
      ],
      "text/plain": [
       "<IPython.core.display.HTML object>"
      ]
     },
     "metadata": {},
     "output_type": "display_data"
    },
    {
     "data": {
      "text/html": [
       "--- Summary #<a href='https://news.ycombinator.com/item?id=35739335'>35739335</a> by rymurr ---<br>A search engine that indexes personal notes and browsing history can help make connections between notes and current questions, but needs to be updated for the age of vector databases and GPT."
      ],
      "text/plain": [
       "<IPython.core.display.HTML object>"
      ]
     },
     "metadata": {},
     "output_type": "display_data"
    },
    {
     "data": {
      "text/html": [
       "--- Summary #<a href='https://news.ycombinator.com/item?id=35739342'>35739342</a> by myzreal2 ---<br>A friend hosted a private server for the game DayZ, which was easy to cheat in, so a log parser was created to detect cheaters and heuristics were added to detect further abuses."
      ],
      "text/plain": [
       "<IPython.core.display.HTML object>"
      ]
     },
     "metadata": {},
     "output_type": "display_data"
    },
    {
     "data": {
      "text/html": [
       "--- Summary #<a href='https://news.ycombinator.com/item?id=35739347'>35739347</a> by Marcel-Jan ---<br>The comment highlights the satisfaction of creating a cycling statistics dashboard and encourages the reader to go outside and ride more."
      ],
      "text/plain": [
       "<IPython.core.display.HTML object>"
      ]
     },
     "metadata": {},
     "output_type": "display_data"
    },
    {
     "data": {
      "text/html": [
       "--- Summary #<a href='https://news.ycombinator.com/item?id=35739354'>35739354</a> by t43562 ---<br>This comment describes a difficult experience of recovering lost files from a DOS machine using Norton tools, CHKDSK, and a custom-made Perl+Shell program, which ultimately saved the day."
      ],
      "text/plain": [
       "<IPython.core.display.HTML object>"
      ]
     },
     "metadata": {},
     "output_type": "display_data"
    },
    {
     "data": {
      "text/html": [
       "--- Summary #<a href='https://news.ycombinator.com/item?id=35739396'>35739396</a> by actionfromafar ---<br>A KVM instance was created to automate the process of extracting and converting the work schedule from a mobile web app to a calendar format, and then publishing it on a web site so it can be seen in the phone calendar."
      ],
      "text/plain": [
       "<IPython.core.display.HTML object>"
      ]
     },
     "metadata": {},
     "output_type": "display_data"
    },
    {
     "data": {
      "text/html": [
       "--- Summary #<a href='https://news.ycombinator.com/item?id=35739409'>35739409</a> by nicolapcweek94 ---<br>This comment describes a project that has been customised to the user's needs, with features such as RSS reader, link saving, notetaking and GPT integrations, and has been used as a learning experience."
      ],
      "text/plain": [
       "<IPython.core.display.HTML object>"
      ]
     },
     "metadata": {},
     "output_type": "display_data"
    },
    {
     "data": {
      "text/html": [
       "--- Summary #<a href='https://news.ycombinator.com/item?id=35739411'>35739411</a> by tagh ---<br>Creating a script to track cycling mileage and remind the user to re-wax their chain was a complex project."
      ],
      "text/plain": [
       "<IPython.core.display.HTML object>"
      ]
     },
     "metadata": {},
     "output_type": "display_data"
    },
    {
     "data": {
      "text/html": [
       "--- Summary #<a href='https://news.ycombinator.com/item?id=35739416'>35739416</a> by franciscop ---<br>The author created a flashcard site with spaced repetition to help them learn Japanese, which they attribute to half of their current knowledge of the language."
      ],
      "text/plain": [
       "<IPython.core.display.HTML object>"
      ]
     },
     "metadata": {},
     "output_type": "display_data"
    },
    {
     "data": {
      "text/html": [
       "--- Summary #<a href='https://news.ycombinator.com/item?id=35739425'>35739425</a> by nonoesp ---<br>I created a marker creator with OpenAI's Whisper that automatically transcribes audio around markers and appends the transcript to the marker for easy identification."
      ],
      "text/plain": [
       "<IPython.core.display.HTML object>"
      ]
     },
     "metadata": {},
     "output_type": "display_data"
    },
    {
     "data": {
      "text/html": [
       "--- Summary #<a href='https://news.ycombinator.com/item?id=35739461'>35739461</a> by bussyfumes ---<br>I was able to build a copy of a game I was addicted to, even though I had no game development knowledge."
      ],
      "text/plain": [
       "<IPython.core.display.HTML object>"
      ]
     },
     "metadata": {},
     "output_type": "display_data"
    },
    {
     "data": {
      "text/html": [
       "--- Summary #<a href='https://news.ycombinator.com/item?id=35739477'>35739477</a> by stefanv ---<br>The author has created a currency convertor which allows users to input formulas and view the results in multiple currencies, and has kept it running despite low usage."
      ],
      "text/plain": [
       "<IPython.core.display.HTML object>"
      ]
     },
     "metadata": {},
     "output_type": "display_data"
    },
    {
     "data": {
      "text/html": [
       "--- Summary #<a href='https://news.ycombinator.com/item?id=35739479'>35739479</a> by Dave_TRS ---<br>The author created their own version of iTunes, called \"Litetunes\", which was lightweight and did not require installation, in order to address their frustrations with the resource-heavy nature of the original."
      ],
      "text/plain": [
       "<IPython.core.display.HTML object>"
      ]
     },
     "metadata": {},
     "output_type": "display_data"
    },
    {
     "data": {
      "text/html": [
       "--- Summary #<a href='https://news.ycombinator.com/item?id=35739489'>35739489</a> by ccosmin ---<br>The user wanted to have control over their music collection, which led to the development of their own music player for Mac."
      ],
      "text/plain": [
       "<IPython.core.display.HTML object>"
      ]
     },
     "metadata": {},
     "output_type": "display_data"
    },
    {
     "data": {
      "text/html": [
       "--- Summary #<a href='https://news.ycombinator.com/item?id=35739522'>35739522</a> by danabrams ---<br>A Raspberry Pi Zero was used to stream audio from a vinyl collection to an iPhone app, which featured a vector animation of a record player that changed based on the playback state."
      ],
      "text/plain": [
       "<IPython.core.display.HTML object>"
      ]
     },
     "metadata": {},
     "output_type": "display_data"
    },
    {
     "data": {
      "text/html": [
       "--- Summary #<a href='https://news.ycombinator.com/item?id=35739527'>35739527</a> by penjelly ---<br>This tool allows users to download Instagram images to a Google Photo album for use with Chromecast screensavers."
      ],
      "text/plain": [
       "<IPython.core.display.HTML object>"
      ]
     },
     "metadata": {},
     "output_type": "display_data"
    },
    {
     "data": {
      "text/html": [
       "--- Summary #<a href='https://news.ycombinator.com/item?id=35739571'>35739571</a> by sokoloff ---<br>I created a system to reset an old boiler using an Arduino and an ESP8266, and used it to run experiments to prove that a house could be heated with lower temperature water."
      ],
      "text/plain": [
       "<IPython.core.display.HTML object>"
      ]
     },
     "metadata": {},
     "output_type": "display_data"
    },
    {
     "data": {
      "text/html": [
       "--- Summary #<a href='https://news.ycombinator.com/item?id=35739578'>35739578</a> by sylware ---<br>The author plans to build a custom keyboard with a RISC-V 64-bit assembly firmware, plate-mounted cherry switches, PBT key caps, laser-cut aluminium plates, diodes, and electric wiring."
      ],
      "text/plain": [
       "<IPython.core.display.HTML object>"
      ]
     },
     "metadata": {},
     "output_type": "display_data"
    },
    {
     "data": {
      "text/html": [
       "--- Summary #<a href='https://news.ycombinator.com/item?id=35739602'>35739602</a> by tuxie_ ---<br>This comment highlights the development of a tool to solve the problem of creating merge requests from the command line, which has been extended to list open MRs and show tickets in the current sprint."
      ],
      "text/plain": [
       "<IPython.core.display.HTML object>"
      ]
     },
     "metadata": {},
     "output_type": "display_data"
    },
    {
     "data": {
      "text/html": [
       "--- Summary #<a href='https://news.ycombinator.com/item?id=35739642'>35739642</a> by irthomasthomas ---<br>A bash script was written to automate the trimming and organising of a large collection of videos, which includes playing the videos, extracting clips, tagging, rating and organizing them, and applying a LUT to MPV to show the video in a more natural colour."
      ],
      "text/plain": [
       "<IPython.core.display.HTML object>"
      ]
     },
     "metadata": {},
     "output_type": "display_data"
    },
    {
     "data": {
      "text/html": [
       "--- Summary #<a href='https://news.ycombinator.com/item?id=35739657'>35739657</a> by gonzus ---<br>The author reverse-engineered the format of Prince of Persia's save files and wrote a program to create a save file for any place or level in the game out of curiosity."
      ],
      "text/plain": [
       "<IPython.core.display.HTML object>"
      ]
     },
     "metadata": {},
     "output_type": "display_data"
    },
    {
     "data": {
      "text/html": [
       "--- Summary #<a href='https://news.ycombinator.com/item?id=35739672'>35739672</a> by jckahn ---<br>I created Chitchatter to ensure my privacy and security, as I have full control over how it works."
      ],
      "text/plain": [
       "<IPython.core.display.HTML object>"
      ]
     },
     "metadata": {},
     "output_type": "display_data"
    },
    {
     "data": {
      "text/html": [
       "--- Summary #<a href='https://news.ycombinator.com/item?id=35739677'>35739677</a> by gonzus ---<br>The utility written with Zig cleans up SRT subtitle files by removing any subtitles that match certain patterns, while doing minimal work for already-scrubbed subtitles."
      ],
      "text/plain": [
       "<IPython.core.display.HTML object>"
      ]
     },
     "metadata": {},
     "output_type": "display_data"
    },
    {
     "data": {
      "text/html": [
       "--- Summary #<a href='https://news.ycombinator.com/item?id=35739680'>35739680</a> by hermannj314 ---<br>I have connected an analog phone to Whisper, ChatGPT, and TTS to create a fun distraction that uses Asterisk on Debian to call a python script and role play different characters."
      ],
      "text/plain": [
       "<IPython.core.display.HTML object>"
      ]
     },
     "metadata": {},
     "output_type": "display_data"
    },
    {
     "data": {
      "text/html": [
       "--- Summary #<a href='https://news.ycombinator.com/item?id=35739690'>35739690</a> by antirez ---<br>Yaku-NS is an alternative to the traditional DNS server, Bind, which has been around for many years."
      ],
      "text/plain": [
       "<IPython.core.display.HTML object>"
      ]
     },
     "metadata": {},
     "output_type": "display_data"
    },
    {
     "data": {
      "text/html": [
       "--- Summary #<a href='https://news.ycombinator.com/item?id=35739696'>35739696</a> by castis ---<br>I attempted to build flight control software for a quadcopter, but had to stop due to life changes and had not finished the PID controllers, but I learnt some calculus in the process."
      ],
      "text/plain": [
       "<IPython.core.display.HTML object>"
      ]
     },
     "metadata": {},
     "output_type": "display_data"
    },
    {
     "data": {
      "text/html": [
       "--- Summary #<a href='https://news.ycombinator.com/item?id=35739709'>35739709</a> by james-revisoai ---<br>This 3D visualiser uses Natural Language Processing to overlay semantic topics and sentences of documents with different embedding types and orders, and colours each document with the same colour to show how two documents overlap semantically."
      ],
      "text/plain": [
       "<IPython.core.display.HTML object>"
      ]
     },
     "metadata": {},
     "output_type": "display_data"
    },
    {
     "data": {
      "text/html": [
       "--- Summary #<a href='https://news.ycombinator.com/item?id=35739718'>35739718</a> by brongondwana ---<br>The comment discusses various coding projects the speaker has undertaken over the years."
      ],
      "text/plain": [
       "<IPython.core.display.HTML object>"
      ]
     },
     "metadata": {},
     "output_type": "display_data"
    },
    {
     "data": {
      "text/html": [
       "--- Summary #<a href='https://news.ycombinator.com/item?id=35739720'>35739720</a> by mvcalder ---<br>I trained raccoons to use an automated feeder system with a linear actuator, LEDs, and an ESP32, and they were able to figure it out over a few nights."
      ],
      "text/plain": [
       "<IPython.core.display.HTML object>"
      ]
     },
     "metadata": {},
     "output_type": "display_data"
    },
    {
     "data": {
      "text/html": [
       "--- Summary #<a href='https://news.ycombinator.com/item?id=35739762'>35739762</a> by Ingon ---<br>I built a JavaFX app to read and view my passwords and OTP tokens since 1password did not have any support for Linux and local vaults."
      ],
      "text/plain": [
       "<IPython.core.display.HTML object>"
      ]
     },
     "metadata": {},
     "output_type": "display_data"
    },
    {
     "data": {
      "text/html": [
       "--- Summary #<a href='https://news.ycombinator.com/item?id=35739767'>35739767</a> by keyP ---<br>I have created tutorials to share my learnings on how to use scripts to improve workflow and use ChatGPT over personal files and documents."
      ],
      "text/plain": [
       "<IPython.core.display.HTML object>"
      ]
     },
     "metadata": {},
     "output_type": "display_data"
    },
    {
     "data": {
      "text/html": [
       "--- Summary #<a href='https://news.ycombinator.com/item?id=35739773'>35739773</a> by elliottkember ---<br>The Mac app I created allows me to easily control my webcam light, despite it being buggy, and I use it daily."
      ],
      "text/plain": [
       "<IPython.core.display.HTML object>"
      ]
     },
     "metadata": {},
     "output_type": "display_data"
    },
    {
     "data": {
      "text/html": [
       "--- Summary #<a href='https://news.ycombinator.com/item?id=35739801'>35739801</a> by epaga ---<br>I created an app that uses AR to track head movements and control camera angles in sim games, which was successful enough to be released as a full app."
      ],
      "text/plain": [
       "<IPython.core.display.HTML object>"
      ]
     },
     "metadata": {},
     "output_type": "display_data"
    },
    {
     "data": {
      "text/html": [
       "--- Summary #<a href='https://news.ycombinator.com/item?id=35739859'>35739859</a> by unnouinceput ---<br>This project started as a way to give the speaker's daughter independence and has since evolved to include a range of features such as roles, security protocols, LoRa communication, and computer vision."
      ],
      "text/plain": [
       "<IPython.core.display.HTML object>"
      ]
     },
     "metadata": {},
     "output_type": "display_data"
    },
    {
     "data": {
      "text/html": [
       "--- Summary #<a href='https://news.ycombinator.com/item?id=35739887'>35739887</a> by adnanc ---<br>The iOS app allows users to control the Bontrager Flare and ION bike lights via Bluetooth LE, enabling them to turn the lights on/off, change the mode, and view the battery status."
      ],
      "text/plain": [
       "<IPython.core.display.HTML object>"
      ]
     },
     "metadata": {},
     "output_type": "display_data"
    },
    {
     "data": {
      "text/html": [
       "--- Summary #<a href='https://news.ycombinator.com/item?id=35739918'>35739918</a> by rakoo ---<br>Using UNIX tools and existing frameworks, it is possible to create a CLI MUA with minimal code."
      ],
      "text/plain": [
       "<IPython.core.display.HTML object>"
      ]
     },
     "metadata": {},
     "output_type": "display_data"
    },
    {
     "data": {
      "text/html": [
       "--- Summary #<a href='https://news.ycombinator.com/item?id=35739977'>35739977</a> by mieubrisse ---<br>A CLI \"journal\" tool has been created to make taking notes, brainstorming and exploring ideas easier by providing good search and encoding information in filenames."
      ],
      "text/plain": [
       "<IPython.core.display.HTML object>"
      ]
     },
     "metadata": {},
     "output_type": "display_data"
    },
    {
     "data": {
      "text/html": [
       "--- Summary #<a href='https://news.ycombinator.com/item?id=35740005'>35740005</a> by taf2 ---<br>The ESP32 board can control multi-color LED strip lights and can be used to turn lights on and off with voice commands, as well as providing a fun \"rainbow mode\" for kids."
      ],
      "text/plain": [
       "<IPython.core.display.HTML object>"
      ]
     },
     "metadata": {},
     "output_type": "display_data"
    },
    {
     "data": {
      "text/html": [
       "--- Summary #<a href='https://news.ycombinator.com/item?id=35740017'>35740017</a> by Martinb14 ---<br>Two friends built a multiplication circuit using an AMV as a clock frequency driver and were able to increase the frequency to thousands of Hz, but had to hit the manual begin-switch with great force to prevent it from not going cleanly from 0 to control voltage."
      ],
      "text/plain": [
       "<IPython.core.display.HTML object>"
      ]
     },
     "metadata": {},
     "output_type": "display_data"
    },
    {
     "data": {
      "text/html": [
       "--- Summary #<a href='https://news.ycombinator.com/item?id=35740035'>35740035</a> by thirdreplicator ---<br>The password manager created in Rust encrypts and decrypts a file, and also checks to make sure that the password used is the same each time it is encrypted."
      ],
      "text/plain": [
       "<IPython.core.display.HTML object>"
      ]
     },
     "metadata": {},
     "output_type": "display_data"
    },
    {
     "data": {
      "text/html": [
       "--- Summary #<a href='https://news.ycombinator.com/item?id=35740044'>35740044</a> by dejobaan ---<br>The website \"What's On Steam\" provides a skimmable format of the most recently released games on Steam, which can help users find interesting games."
      ],
      "text/plain": [
       "<IPython.core.display.HTML object>"
      ]
     },
     "metadata": {},
     "output_type": "display_data"
    },
    {
     "data": {
      "text/html": [
       "--- Summary #<a href='https://news.ycombinator.com/item?id=35740072'>35740072</a> by kissgyorgy ---<br>I use an SSO proxy to manage authentication for all my self-hosted needs, including services with no authentication, as well as real-time QR code login, magic link and web login over SSH."
      ],
      "text/plain": [
       "<IPython.core.display.HTML object>"
      ]
     },
     "metadata": {},
     "output_type": "display_data"
    },
    {
     "data": {
      "text/html": [
       "--- Summary #<a href='https://news.ycombinator.com/item?id=35740074'>35740074</a> by aetch ---<br>An Arduino shield was created to emulate a CD changer and inject audio from an iPhone into an older Ford vehicle, allowing the car's headunit to control the phone's audio playback over a wired connection without Bluetooth."
      ],
      "text/plain": [
       "<IPython.core.display.HTML object>"
      ]
     },
     "metadata": {},
     "output_type": "display_data"
    },
    {
     "data": {
      "text/html": [
       "--- Summary #<a href='https://news.ycombinator.com/item?id=35740077'>35740077</a> by JackMorgan ---<br>I created various tools to solve different problems, ranging from tracking prices of sailboats to tracking student loan payoffs and building damage per second in a moba."
      ],
      "text/plain": [
       "<IPython.core.display.HTML object>"
      ]
     },
     "metadata": {},
     "output_type": "display_data"
    },
    {
     "data": {
      "text/html": [
       "--- Summary #<a href='https://news.ycombinator.com/item?id=35740080'>35740080</a> by arbuge ---<br>The author has built and sold several devices that display stock quotes, weather, and messages to visitors, and have been able to withstand the elements for several years."
      ],
      "text/plain": [
       "<IPython.core.display.HTML object>"
      ]
     },
     "metadata": {},
     "output_type": "display_data"
    },
    {
     "data": {
      "text/html": [
       "--- Summary #<a href='https://news.ycombinator.com/item?id=35740082'>35740082</a> by shanebellone ---<br>The author believes that technology has become outdated and is rebuilding their web stack with Analytics, Object Database, WAF, WSGI app, and a templating system."
      ],
      "text/plain": [
       "<IPython.core.display.HTML object>"
      ]
     },
     "metadata": {},
     "output_type": "display_data"
    },
    {
     "data": {
      "text/html": [
       "--- Summary #<a href='https://news.ycombinator.com/item?id=35740103'>35740103</a> by giuliogabrieli ---<br>I built a phototrap using a Raspberry Pi and a webcam to demonstrate a python package for aesthetic analysis of images, and now I am using it to take pictures of stray cats."
      ],
      "text/plain": [
       "<IPython.core.display.HTML object>"
      ]
     },
     "metadata": {},
     "output_type": "display_data"
    },
    {
     "data": {
      "text/html": [
       "--- Summary #<a href='https://news.ycombinator.com/item?id=35740109'>35740109</a> by chrbr ---<br>The console app allowed the user to analyse their budget and calculate transit times to help them make an informed decision on which house-buying path to take."
      ],
      "text/plain": [
       "<IPython.core.display.HTML object>"
      ]
     },
     "metadata": {},
     "output_type": "display_data"
    },
    {
     "data": {
      "text/html": [
       "--- Summary #<a href='https://news.ycombinator.com/item?id=35740163'>35740163</a> by jim_lawless ---<br>A Python/PIL script was written to arrange image collages with images of varying widths that are seamless."
      ],
      "text/plain": [
       "<IPython.core.display.HTML object>"
      ]
     },
     "metadata": {},
     "output_type": "display_data"
    },
    {
     "data": {
      "text/html": [
       "--- Summary #<a href='https://news.ycombinator.com/item?id=35740166'>35740166</a> by StuGoss ---<br>This comment describes a 3D printed bobber with an LED diode and scavenged LiPo batteries, which is used for night fishing and changes color when bobbing on the water."
      ],
      "text/plain": [
       "<IPython.core.display.HTML object>"
      ]
     },
     "metadata": {},
     "output_type": "display_data"
    },
    {
     "data": {
      "text/html": [
       "--- Summary #<a href='https://news.ycombinator.com/item?id=35740193'>35740193</a> by danmaz74 ---<br>A Chrome extension was built to use spaced repetitions for chess puzzles/exercises, which resulted in a 200 Elo rating increase and is now available to the public at chess.braimax.com."
      ],
      "text/plain": [
       "<IPython.core.display.HTML object>"
      ]
     },
     "metadata": {},
     "output_type": "display_data"
    },
    {
     "data": {
      "text/html": [
       "--- Summary #<a href='https://news.ycombinator.com/item?id=35740203'>35740203</a> by mind1master ---<br>A self-driving LEGO car can be built using an iPhone as a lidar/camera and a Macbook Air for computations."
      ],
      "text/plain": [
       "<IPython.core.display.HTML object>"
      ]
     },
     "metadata": {},
     "output_type": "display_data"
    },
    {
     "data": {
      "text/html": [
       "--- Summary #<a href='https://news.ycombinator.com/item?id=35740205'>35740205</a> by can3p ---<br>The author has built two projects that demonstrate their technical skills and provide them with a useful service."
      ],
      "text/plain": [
       "<IPython.core.display.HTML object>"
      ]
     },
     "metadata": {},
     "output_type": "display_data"
    },
    {
     "data": {
      "text/html": [
       "--- Summary #<a href='https://news.ycombinator.com/item?id=35740209'>35740209</a> by tndata ---<br>The author reverse-engineered a Sega Mega Drive game console and built their own hardware dev kit from scratch."
      ],
      "text/plain": [
       "<IPython.core.display.HTML object>"
      ]
     },
     "metadata": {},
     "output_type": "display_data"
    },
    {
     "data": {
      "text/html": [
       "--- Summary #<a href='https://news.ycombinator.com/item?id=35740221'>35740221</a> by dorfsmay ---<br>This python script sends a batch of pictures to close friends and family via email, reducing the size of the pictures and hiding the recipients' addresses in the BCC field, and has been used for over a decade with minimal maintenance."
      ],
      "text/plain": [
       "<IPython.core.display.HTML object>"
      ]
     },
     "metadata": {},
     "output_type": "display_data"
    },
    {
     "data": {
      "text/html": [
       "--- Summary #<a href='https://news.ycombinator.com/item?id=35740235'>35740235</a> by mike_hearn ---<br>The developer tools built for the current product are simpler and easier to use than Gradle, and provide a high-level UNIX shell-like API along with many other useful utilities."
      ],
      "text/plain": [
       "<IPython.core.display.HTML object>"
      ]
     },
     "metadata": {},
     "output_type": "display_data"
    },
    {
     "data": {
      "text/html": [
       "--- Summary #<a href='https://news.ycombinator.com/item?id=35740265'>35740265</a> by IgorPartola ---<br>I have modified an ESP8266 with a relay module to control my garage door with Home Assistant, and I have used a second one mounted on my bike as a WiFi presence detector to open and close the garage door when I come and go."
      ],
      "text/plain": [
       "<IPython.core.display.HTML object>"
      ]
     },
     "metadata": {},
     "output_type": "display_data"
    },
    {
     "data": {
      "text/html": [
       "--- Summary #<a href='https://news.ycombinator.com/item?id=35740266'>35740266</a> by rpastuszak ---<br>I have built a variety of interesting tech projects, ranging from a writing tool to an AR party game and an AI-powered voice assistant."
      ],
      "text/plain": [
       "<IPython.core.display.HTML object>"
      ]
     },
     "metadata": {},
     "output_type": "display_data"
    },
    {
     "data": {
      "text/html": [
       "--- Summary #<a href='https://news.ycombinator.com/item?id=35740285'>35740285</a> by mind1master ---<br>Technology can be used to easily check for available parking spaces."
      ],
      "text/plain": [
       "<IPython.core.display.HTML object>"
      ]
     },
     "metadata": {},
     "output_type": "display_data"
    },
    {
     "data": {
      "text/html": [
       "--- Summary #<a href='https://news.ycombinator.com/item?id=35740313'>35740313</a> by impostervt ---<br>A door sensor that alerts a phone instead of setting off a siren can be used to prevent waking up a sleepwalker."
      ],
      "text/plain": [
       "<IPython.core.display.HTML object>"
      ]
     },
     "metadata": {},
     "output_type": "display_data"
    },
    {
     "data": {
      "text/html": [
       "--- Summary #<a href='https://news.ycombinator.com/item?id=35740322'>35740322</a> by z500 ---<br>A sound change applier is a hobbyist tool which can be used to generate pronunciations for a language with regular spelling, and is essentially a special purpose regex engine."
      ],
      "text/plain": [
       "<IPython.core.display.HTML object>"
      ]
     },
     "metadata": {},
     "output_type": "display_data"
    },
    {
     "data": {
      "text/html": [
       "--- Summary #<a href='https://news.ycombinator.com/item?id=35740334'>35740334</a> by JKCalhoun ---<br>This comment describes a Raspberry Pi app that serves up local video content to a schedule, providing a \"fantasy station\" with serendipitous elements to TV watching."
      ],
      "text/plain": [
       "<IPython.core.display.HTML object>"
      ]
     },
     "metadata": {},
     "output_type": "display_data"
    },
    {
     "data": {
      "text/html": [
       "--- Summary #<a href='https://news.ycombinator.com/item?id=35740343'>35740343</a> by zulban ---<br>The author created a mobile game, \"Chesscraft.ca\", to address the oversaturation of chess apps and the presence of in-app purchases and ads in other mobile games, and has been playing it for years."
      ],
      "text/plain": [
       "<IPython.core.display.HTML object>"
      ]
     },
     "metadata": {},
     "output_type": "display_data"
    },
    {
     "data": {
      "text/html": [
       "--- Summary #<a href='https://news.ycombinator.com/item?id=35740345'>35740345</a> by chasd00 ---<br>This project has been a challenging and rewarding experience, as it has improved the speaker's skills in fabrication, embedded software/controls, system integration, operations processes, research and learning."
      ],
      "text/plain": [
       "<IPython.core.display.HTML object>"
      ]
     },
     "metadata": {},
     "output_type": "display_data"
    },
    {
     "data": {
      "text/html": [
       "--- Summary #<a href='https://news.ycombinator.com/item?id=35740351'>35740351</a> by cool_fire ---<br>The speaker built an Android app called \"Mediumizer\" to allow them and their friends to access premium articles for free."
      ],
      "text/plain": [
       "<IPython.core.display.HTML object>"
      ]
     },
     "metadata": {},
     "output_type": "display_data"
    },
    {
     "data": {
      "text/html": [
       "--- Summary #<a href='https://news.ycombinator.com/item?id=35740376'>35740376</a> by fstrazzante ---<br>I created a tool called MapPhoto which uses Python and ExpressJS to add a mini-map to pictures."
      ],
      "text/plain": [
       "<IPython.core.display.HTML object>"
      ]
     },
     "metadata": {},
     "output_type": "display_data"
    },
    {
     "data": {
      "text/html": [
       "--- Summary #<a href='https://news.ycombinator.com/item?id=35740381'>35740381</a> by collinvandyck76 ---<br>I created a terminal-based GPT client that uses a SQLite database, BubbleTea for terminal drawing, and another library to render markdown, which I use frequently and feel great about."
      ],
      "text/plain": [
       "<IPython.core.display.HTML object>"
      ]
     },
     "metadata": {},
     "output_type": "display_data"
    },
    {
     "data": {
      "text/html": [
       "--- Summary #<a href='https://news.ycombinator.com/item?id=35740383'>35740383</a> by kashnote ---<br>The feedback from a weekend project of building a Rubik's cube timer was so good that the creator decided to make it public."
      ],
      "text/plain": [
       "<IPython.core.display.HTML object>"
      ]
     },
     "metadata": {},
     "output_type": "display_data"
    },
    {
     "data": {
      "text/html": [
       "--- Summary #<a href='https://news.ycombinator.com/item?id=35740386'>35740386</a> by prbs23 ---<br>The UI of an off the shelf WiFi digital photo frame was rewritten to show the latest raw images sent back from the Perseverance Mars rover."
      ],
      "text/plain": [
       "<IPython.core.display.HTML object>"
      ]
     },
     "metadata": {},
     "output_type": "display_data"
    },
    {
     "data": {
      "text/html": [
       "--- Summary #<a href='https://news.ycombinator.com/item?id=35740452'>35740452</a> by zaphar ---<br>This recipe meal planner and shopping list generator allows users to store recipes as free text and parse out the ingredients, making it easy to copy and paste recipes or record family recipes."
      ],
      "text/plain": [
       "<IPython.core.display.HTML object>"
      ]
     },
     "metadata": {},
     "output_type": "display_data"
    },
    {
     "data": {
      "text/html": [
       "--- Summary #<a href='https://news.ycombinator.com/item?id=35740455'>35740455</a> by rmholt ---<br>Using Pi-Hole and an automatic procrastination tracker and blocker helped reduce procrastination over a period of several years."
      ],
      "text/plain": [
       "<IPython.core.display.HTML object>"
      ]
     },
     "metadata": {},
     "output_type": "display_data"
    },
    {
     "data": {
      "text/html": [
       "--- Summary #<a href='https://news.ycombinator.com/item?id=35740466'>35740466</a> by onassar ---<br>I created a Chrome Extension called Bookee which is accessible via keyboard shortcut and allows users to quickly search and navigate their bookmarks with a variety of keyboard shortcuts."
      ],
      "text/plain": [
       "<IPython.core.display.HTML object>"
      ]
     },
     "metadata": {},
     "output_type": "display_data"
    },
    {
     "data": {
      "text/html": [
       "--- Summary #<a href='https://news.ycombinator.com/item?id=35740477'>35740477</a> by antgiant ---<br>A Chromecast can be used to create a simple html image bouncer that auto refreshes the latest satellite image of a storm, allowing viewers to observe the storm live status and determine its strength."
      ],
      "text/plain": [
       "<IPython.core.display.HTML object>"
      ]
     },
     "metadata": {},
     "output_type": "display_data"
    },
    {
     "data": {
      "text/html": [
       "--- Summary #<a href='https://news.ycombinator.com/item?id=35740482'>35740482</a> by abtinsetyani ---<br>Chat interface with personal assistance and extensions to store and use information is a side project of mine."
      ],
      "text/plain": [
       "<IPython.core.display.HTML object>"
      ]
     },
     "metadata": {},
     "output_type": "display_data"
    },
    {
     "data": {
      "text/html": [
       "--- Summary #<a href='https://news.ycombinator.com/item?id=35740488'>35740488</a> by ern0 ---<br>I have created a bouncing color bar for Amiga computers that runs autonomously without the processor's support."
      ],
      "text/plain": [
       "<IPython.core.display.HTML object>"
      ]
     },
     "metadata": {},
     "output_type": "display_data"
    },
    {
     "data": {
      "text/html": [
       "--- Summary #<a href='https://news.ycombinator.com/item?id=35740493'>35740493</a> by lallysingh ---<br>This profiling tool provides custom instrumentation, low overhead, and CPU performance counter support."
      ],
      "text/plain": [
       "<IPython.core.display.HTML object>"
      ]
     },
     "metadata": {},
     "output_type": "display_data"
    },
    {
     "data": {
      "text/html": [
       "--- Summary #<a href='https://news.ycombinator.com/item?id=35740508'>35740508</a> by brightball ---<br>The Intersect was a system built in 2008 that allowed for the design of a database and the automatic generation of an admin backend, ACL rules, related records and interactive table fields, which could be adapted to changes in the database and had a UI theme that could be swapped out per customer."
      ],
      "text/plain": [
       "<IPython.core.display.HTML object>"
      ]
     },
     "metadata": {},
     "output_type": "display_data"
    },
    {
     "data": {
      "text/html": [
       "--- Summary #<a href='https://news.ycombinator.com/item?id=35740513'>35740513</a> by mkw5053 ---<br>The author designed a mini freezer to address the issue of unpleasant odors, flies, and torn, soggy bags when using a smaller container on the countertop for compost collection."
      ],
      "text/plain": [
       "<IPython.core.display.HTML object>"
      ]
     },
     "metadata": {},
     "output_type": "display_data"
    },
    {
     "data": {
      "text/html": [
       "--- Summary #<a href='https://news.ycombinator.com/item?id=35740516'>35740516</a> by vitorbaptistaa ---<br>A friend and I built an old-school arcade in university which provided a great source of entertainment and funds for small items. Shellshare.net was created to make it easier to debug problems in someone else's terminal over the phone."
      ],
      "text/plain": [
       "<IPython.core.display.HTML object>"
      ]
     },
     "metadata": {},
     "output_type": "display_data"
    },
    {
     "data": {
      "text/html": [
       "--- Summary #<a href='https://news.ycombinator.com/item?id=35740528'>35740528</a> by shagymoe ---<br>The command line app allows for automated strategies such as DCAing, rebalancing and setting descending orders to manage crypto holdings."
      ],
      "text/plain": [
       "<IPython.core.display.HTML object>"
      ]
     },
     "metadata": {},
     "output_type": "display_data"
    },
    {
     "data": {
      "text/html": [
       "--- Summary #<a href='https://news.ycombinator.com/item?id=35740571'>35740571</a> by mariusvaporware ---<br>The author created Laterball, a web app and associated Twitter bot, to algorithmically determine the best games of the past 7 days without score spoilers."
      ],
      "text/plain": [
       "<IPython.core.display.HTML object>"
      ]
     },
     "metadata": {},
     "output_type": "display_data"
    },
    {
     "data": {
      "text/html": [
       "--- Summary #<a href='https://news.ycombinator.com/item?id=35740599'>35740599</a> by hoofhearted ---<br>I created an open source React-based framework called Elegant Framework to help other developers build Wordpress sites for user docs, which comes with Next.js, Tailwind, and more."
      ],
      "text/plain": [
       "<IPython.core.display.HTML object>"
      ]
     },
     "metadata": {},
     "output_type": "display_data"
    },
    {
     "data": {
      "text/html": [
       "--- Summary #<a href='https://news.ycombinator.com/item?id=35740612'>35740612</a> by easeout ---<br>This tool allows developers to measure iOS app animation performance by making dropped frames audible as clicks."
      ],
      "text/plain": [
       "<IPython.core.display.HTML object>"
      ]
     },
     "metadata": {},
     "output_type": "display_data"
    },
    {
     "data": {
      "text/html": [
       "--- Summary #<a href='https://news.ycombinator.com/item?id=35740643'>35740643</a> by jak6jak ---<br>Creating a polling website to decide on movies to watch together was useful during COVID, but the incentive to add new features decreased when the group stopped watching movies together."
      ],
      "text/plain": [
       "<IPython.core.display.HTML object>"
      ]
     },
     "metadata": {},
     "output_type": "display_data"
    },
    {
     "data": {
      "text/html": [
       "--- Summary #<a href='https://news.ycombinator.com/item?id=35740646'>35740646</a> by exotree ---<br>Making a Savonius wind turbine was a fun way to learn more about the basics of wind energy."
      ],
      "text/plain": [
       "<IPython.core.display.HTML object>"
      ]
     },
     "metadata": {},
     "output_type": "display_data"
    },
    {
     "data": {
      "text/html": [
       "--- Summary #<a href='https://news.ycombinator.com/item?id=35740650'>35740650</a> by Joe2337 ---<br>Creating his own tools to focus on listening comprehension enabled the author to reach a decent level of fluency in Japanese."
      ],
      "text/plain": [
       "<IPython.core.display.HTML object>"
      ]
     },
     "metadata": {},
     "output_type": "display_data"
    },
    {
     "data": {
      "text/html": [
       "--- Summary #<a href='https://news.ycombinator.com/item?id=35740677'>35740677</a> by tehwebguy ---<br>A moving box management system was created using AirTable as a backend and UI, with barcodes printed on thermal shipping labels and photos taken of the contents to make moving easier and more efficient."
      ],
      "text/plain": [
       "<IPython.core.display.HTML object>"
      ]
     },
     "metadata": {},
     "output_type": "display_data"
    },
    {
     "data": {
      "text/html": [
       "--- Summary #<a href='https://news.ycombinator.com/item?id=35740696'>35740696</a> by ChicagoBoy11 ---<br>My app helps me stay connected to my friends by allowing me to follow their golf games even when I'm away."
      ],
      "text/plain": [
       "<IPython.core.display.HTML object>"
      ]
     },
     "metadata": {},
     "output_type": "display_data"
    },
    {
     "data": {
      "text/html": [
       "--- Summary #<a href='https://news.ycombinator.com/item?id=35740719'>35740719</a> by fghorow ---<br>The author successfully used a screenscraper to make a cloud forecast for the 2017 \"Great American Eclipse\" and saw their first total solar eclipse, suggesting that someone could expand on the idea and create cloud-coverage forecasts for the 2024 eclipse."
      ],
      "text/plain": [
       "<IPython.core.display.HTML object>"
      ]
     },
     "metadata": {},
     "output_type": "display_data"
    },
    {
     "data": {
      "text/html": [
       "--- Summary #<a href='https://news.ycombinator.com/item?id=35740766'>35740766</a> by cptaj ---<br>Benevolent AGI could help us in many ways."
      ],
      "text/plain": [
       "<IPython.core.display.HTML object>"
      ]
     },
     "metadata": {},
     "output_type": "display_data"
    },
    {
     "data": {
      "text/html": [
       "--- Summary #<a href='https://news.ycombinator.com/item?id=35740783'>35740783</a> by jb1991 ---<br>I built an automated RDT adapter using Arduino to grind espresso beans in a controlled manner, and I gained knowledge about the chemistry of beans in the process."
      ],
      "text/plain": [
       "<IPython.core.display.HTML object>"
      ]
     },
     "metadata": {},
     "output_type": "display_data"
    },
    {
     "data": {
      "text/html": [
       "--- Summary #<a href='https://news.ycombinator.com/item?id=35740797'>35740797</a> by tiborsaas ---<br>A service was created to synchronize VNC instances together via websocket, with a Chrome extension handling websocket messages and clicking buttons, as well as providing indicators to show if both users were connected."
      ],
      "text/plain": [
       "<IPython.core.display.HTML object>"
      ]
     },
     "metadata": {},
     "output_type": "display_data"
    },
    {
     "data": {
      "text/html": [
       "--- Summary #<a href='https://news.ycombinator.com/item?id=35740798'>35740798</a> by michaeltbuss ---<br>Mike Buss was able to solve his cat's 3 AM meowing problem by creating his own motion-detection system using 3D printing and an ESP32."
      ],
      "text/plain": [
       "<IPython.core.display.HTML object>"
      ]
     },
     "metadata": {},
     "output_type": "display_data"
    },
    {
     "data": {
      "text/html": [
       "--- Summary #<a href='https://news.ycombinator.com/item?id=35740834'>35740834</a> by ludee0 ---<br>My girlfriend is using an app I created to track our expenses, which makes me happy."
      ],
      "text/plain": [
       "<IPython.core.display.HTML object>"
      ]
     },
     "metadata": {},
     "output_type": "display_data"
    },
    {
     "data": {
      "text/html": [
       "--- Summary #<a href='https://news.ycombinator.com/item?id=35740843'>35740843</a> by turshija ---<br>The author created a free alternative to Droplr and it has grown to 10,000 registered members and almost 200,000 uploaded pictures, but finding time to make a more modern version is difficult."
      ],
      "text/plain": [
       "<IPython.core.display.HTML object>"
      ]
     },
     "metadata": {},
     "output_type": "display_data"
    },
    {
     "data": {
      "text/html": [
       "--- Summary #<a href='https://news.ycombinator.com/item?id=35740878'>35740878</a> by TrueDuality ---<br>I designed and built a navigation controller for a satellite with different configurations and tested it in a simulator and with a physical circuit board, which was successful."
      ],
      "text/plain": [
       "<IPython.core.display.HTML object>"
      ]
     },
     "metadata": {},
     "output_type": "display_data"
    },
    {
     "data": {
      "text/html": [
       "--- Summary #<a href='https://news.ycombinator.com/item?id=35740924'>35740924</a> by piercebot ---<br>I successfully created a safe-to-wake light for my son using a Raspberry Pi that has been running for over 3 years, which was a pleasant surprise."
      ],
      "text/plain": [
       "<IPython.core.display.HTML object>"
      ]
     },
     "metadata": {},
     "output_type": "display_data"
    },
    {
     "data": {
      "text/html": [
       "--- Summary #<a href='https://news.ycombinator.com/item?id=35740974'>35740974</a> by reductor_app ---<br>Reductor is a free web and Android app that can help save space on a phone by losslessly recompressing JPEGs."
      ],
      "text/plain": [
       "<IPython.core.display.HTML object>"
      ]
     },
     "metadata": {},
     "output_type": "display_data"
    },
    {
     "data": {
      "text/html": [
       "--- Summary #<a href='https://news.ycombinator.com/item?id=35740985'>35740985</a> by wiz21c ---<br>Fixing the toilet was effective, but not enjoyable."
      ],
      "text/plain": [
       "<IPython.core.display.HTML object>"
      ]
     },
     "metadata": {},
     "output_type": "display_data"
    },
    {
     "data": {
      "text/html": [
       "--- Summary #<a href='https://news.ycombinator.com/item?id=35741035'>35741035</a> by pojon ---<br>Someone wrote a bash-only issue tracker on a dare and it was used for some projects, and then they created a laptop theft honeypot to pwn the thief."
      ],
      "text/plain": [
       "<IPython.core.display.HTML object>"
      ]
     },
     "metadata": {},
     "output_type": "display_data"
    },
    {
     "data": {
      "text/html": [
       "--- Summary #<a href='https://news.ycombinator.com/item?id=35741119'>35741119</a> by Waterluvian ---<br>I have created a raycasting engine which is surprisingly simple and effective, and I am now taking it a step further by integrating a real-time map editor."
      ],
      "text/plain": [
       "<IPython.core.display.HTML object>"
      ]
     },
     "metadata": {},
     "output_type": "display_data"
    },
    {
     "data": {
      "text/html": [
       "--- Summary #<a href='https://news.ycombinator.com/item?id=35741133'>35741133</a> by dan-g ---<br>I wrote a script to take the most recent emails from Bloomberg and publish them to an RSS feed, which I host on my NAS and access through a VPN."
      ],
      "text/plain": [
       "<IPython.core.display.HTML object>"
      ]
     },
     "metadata": {},
     "output_type": "display_data"
    },
    {
     "data": {
      "text/html": [
       "--- Summary #<a href='https://news.ycombinator.com/item?id=35741173'>35741173</a> by btbuilder ---<br>I built a program in Go to allow clients on my home network to transparently access GeoIP locked sites by forwarding DNS requests over a VPN and adding /32 routes for the IPs."
      ],
      "text/plain": [
       "<IPython.core.display.HTML object>"
      ]
     },
     "metadata": {},
     "output_type": "display_data"
    },
    {
     "data": {
      "text/html": [
       "--- Summary #<a href='https://news.ycombinator.com/item?id=35741177'>35741177</a> by Implicated ---<br>The author built a scraper to acquire and test lightweight and ultralight backpacking gear at a fraction of the cost, and created a platform to make it easier for others to find good deals and offload their gear."
      ],
      "text/plain": [
       "<IPython.core.display.HTML object>"
      ]
     },
     "metadata": {},
     "output_type": "display_data"
    },
    {
     "data": {
      "text/html": [
       "--- Summary #<a href='https://news.ycombinator.com/item?id=35741184'>35741184</a> by belzebalex ---<br>Alex Toussaint built an ultrasonic 3D scanner that can be used to make an autonomous drone."
      ],
      "text/plain": [
       "<IPython.core.display.HTML object>"
      ]
     },
     "metadata": {},
     "output_type": "display_data"
    },
    {
     "data": {
      "text/html": [
       "--- Summary #<a href='https://news.ycombinator.com/item?id=35741202'>35741202</a> by ChrisMarshallNY ---<br>I write modules and SDKs for personal use, but publish them as public open-source, which forces me to do a good job and ensures that significant parts of my projects are worry-free."
      ],
      "text/plain": [
       "<IPython.core.display.HTML object>"
      ]
     },
     "metadata": {},
     "output_type": "display_data"
    },
    {
     "data": {
      "text/html": [
       "--- Summary #<a href='https://news.ycombinator.com/item?id=35741208'>35741208</a> by jvanderbot ---<br>I created an optimizer to help with ship loadouts in the game Highfleet, which uses C and various optimisation algorithms to solve a constrained optimisation problem."
      ],
      "text/plain": [
       "<IPython.core.display.HTML object>"
      ]
     },
     "metadata": {},
     "output_type": "display_data"
    },
    {
     "data": {
      "text/html": [
       "--- Summary #<a href='https://news.ycombinator.com/item?id=35741211'>35741211</a> by lalunamel ---<br>I created a native mac app called FileWatcher to investigate how Xcode's build system works and to provide process information about the events, but it cannot be distributed on the App Store."
      ],
      "text/plain": [
       "<IPython.core.display.HTML object>"
      ]
     },
     "metadata": {},
     "output_type": "display_data"
    },
    {
     "data": {
      "text/html": [
       "--- Summary #<a href='https://news.ycombinator.com/item?id=35741231'>35741231</a> by epiccoleman ---<br>The author has been working on a personal website and blog, as well as a React component, and has also written a line of code which prints out a humorous response when a command is not found."
      ],
      "text/plain": [
       "<IPython.core.display.HTML object>"
      ]
     },
     "metadata": {},
     "output_type": "display_data"
    },
    {
     "data": {
      "text/html": [
       "--- Summary #<a href='https://news.ycombinator.com/item?id=35741272'>35741272</a> by tanng ---<br>The VS Utils extension was created to make it easier to convert base64, timestamps values without leaving the editor, and to make it easier to download and sync across devices."
      ],
      "text/plain": [
       "<IPython.core.display.HTML object>"
      ]
     },
     "metadata": {},
     "output_type": "display_data"
    },
    {
     "data": {
      "text/html": [
       "--- Summary #<a href='https://news.ycombinator.com/item?id=35741326'>35741326</a> by dtertman ---<br>I created a reverse weather index to find the best weather for me, which I found to be in Antofagasta, Chile, but I never used the knowledge."
      ],
      "text/plain": [
       "<IPython.core.display.HTML object>"
      ]
     },
     "metadata": {},
     "output_type": "display_data"
    },
    {
     "data": {
      "text/html": [
       "--- Summary #<a href='https://news.ycombinator.com/item?id=35741340'>35741340</a> by cehrlich ---<br>The web app created by the comment author allows language learners to learn vocab by using a premade list of common words and looking up random words as they come across them, helping them to pass the JLPT N1 with fewer known words."
      ],
      "text/plain": [
       "<IPython.core.display.HTML object>"
      ]
     },
     "metadata": {},
     "output_type": "display_data"
    },
    {
     "data": {
      "text/html": [
       "--- Summary #<a href='https://news.ycombinator.com/item?id=35741352'>35741352</a> by mxstbr ---<br>I created a custom language for Karabiner Elements to create keyboard shortcuts for my Mac."
      ],
      "text/plain": [
       "<IPython.core.display.HTML object>"
      ]
     },
     "metadata": {},
     "output_type": "display_data"
    },
    {
     "data": {
      "text/html": [
       "--- Summary #<a href='https://news.ycombinator.com/item?id=35741375'>35741375</a> by SeanAnderson ---<br>This virtual pet ant farm encourages users to keep track of their mental health by providing a fun and interactive way to do so."
      ],
      "text/plain": [
       "<IPython.core.display.HTML object>"
      ]
     },
     "metadata": {},
     "output_type": "display_data"
    },
    {
     "data": {
      "text/html": [
       "--- Summary #<a href='https://news.ycombinator.com/item?id=35741383'>35741383</a> by jeffwilder ---<br>The author built their own version of iGoogle after it was discontinued, but eventually the RSS feeds stopped working and the project became obsolete."
      ],
      "text/plain": [
       "<IPython.core.display.HTML object>"
      ]
     },
     "metadata": {},
     "output_type": "display_data"
    },
    {
     "data": {
      "text/html": [
       "--- Summary #<a href='https://news.ycombinator.com/item?id=35741387'>35741387</a> by jwr ---<br>I designed and built a wirelessly (Qi) charged battery pack for an HP-25 calculator which has low idle power consumption and lasts for months, but it does not make business sense to produce it on a small-scale."
      ],
      "text/plain": [
       "<IPython.core.display.HTML object>"
      ]
     },
     "metadata": {},
     "output_type": "display_data"
    },
    {
     "data": {
      "text/html": [
       "--- Summary #<a href='https://news.ycombinator.com/item?id=35741415'>35741415</a> by dmitshur ---<br>I created a personal website that aggregates notifications from GitHub and Gerrit, hosts personal Go packages, and is experimenting with compiling to WebAssembly for faster iteration."
      ],
      "text/plain": [
       "<IPython.core.display.HTML object>"
      ]
     },
     "metadata": {},
     "output_type": "display_data"
    },
    {
     "data": {
      "text/html": [
       "--- Summary #<a href='https://news.ycombinator.com/item?id=35741557'>35741557</a> by TheAceOfHearts ---<br>A scraper has been created to convert RoyalRoad series into ebooks."
      ],
      "text/plain": [
       "<IPython.core.display.HTML object>"
      ]
     },
     "metadata": {},
     "output_type": "display_data"
    },
    {
     "data": {
      "text/html": [
       "--- Summary #<a href='https://news.ycombinator.com/item?id=35741561'>35741561</a> by zciwor ---<br>The comment summarises the process of creating a tool to simplify the process of manually tallying up and getting paid back for items purchased at dinner or drinks."
      ],
      "text/plain": [
       "<IPython.core.display.HTML object>"
      ]
     },
     "metadata": {},
     "output_type": "display_data"
    },
    {
     "data": {
      "text/html": [
       "--- Summary #<a href='https://news.ycombinator.com/item?id=35741584'>35741584</a> by generalizations ---<br>I have created a system that allows me to record voice memos on my phone and have them printed out at home."
      ],
      "text/plain": [
       "<IPython.core.display.HTML object>"
      ]
     },
     "metadata": {},
     "output_type": "display_data"
    },
    {
     "data": {
      "text/html": [
       "--- Summary #<a href='https://news.ycombinator.com/item?id=35741593'>35741593</a> by Ambix ---<br>LLama.go is an open-source framework for LLM inference on regular CPUs that was created through a month of hard work."
      ],
      "text/plain": [
       "<IPython.core.display.HTML object>"
      ]
     },
     "metadata": {},
     "output_type": "display_data"
    },
    {
     "data": {
      "text/html": [
       "--- Summary #<a href='https://news.ycombinator.com/item?id=35741597'>35741597</a> by scsteps ---<br>The app I created has become my most used app, and I am now working on a to-do list that stores all information in the browser."
      ],
      "text/plain": [
       "<IPython.core.display.HTML object>"
      ]
     },
     "metadata": {},
     "output_type": "display_data"
    },
    {
     "data": {
      "text/html": [
       "--- Summary #<a href='https://news.ycombinator.com/item?id=35741606'>35741606</a> by cygnion ---<br>The app helps to curate, visualize, extract data, and generate a report with annotations from documents."
      ],
      "text/plain": [
       "<IPython.core.display.HTML object>"
      ]
     },
     "metadata": {},
     "output_type": "display_data"
    },
    {
     "data": {
      "text/html": [
       "--- Summary #<a href='https://news.ycombinator.com/item?id=35741619'>35741619</a> by davidfstr ---<br>The spreadsheet app allows the user to focus on what they want to watch without worrying about how to access it."
      ],
      "text/plain": [
       "<IPython.core.display.HTML object>"
      ]
     },
     "metadata": {},
     "output_type": "display_data"
    },
    {
     "data": {
      "text/html": [
       "--- Summary #<a href='https://news.ycombinator.com/item?id=35741648'>35741648</a> by kaybi ---<br>I built a custom sprinkler system with 14 zones, a web interface, and Raspberry Pi and relays, which is better than a Kickstarter project I backed, and I plan to open source it."
      ],
      "text/plain": [
       "<IPython.core.display.HTML object>"
      ]
     },
     "metadata": {},
     "output_type": "display_data"
    },
    {
     "data": {
      "text/html": [
       "--- Summary #<a href='https://news.ycombinator.com/item?id=35741657'>35741657</a> by benlamm ---<br>The general idea is to use IFTT, a script, and Justcast.com to turn a YouTube channel into a personal podcast feed."
      ],
      "text/plain": [
       "<IPython.core.display.HTML object>"
      ]
     },
     "metadata": {},
     "output_type": "display_data"
    },
    {
     "data": {
      "text/html": [
       "--- Summary #<a href='https://news.ycombinator.com/item?id=35741661'>35741661</a> by plank ---<br>The author built a 'prezi file fixer' to help people fix corrupted prezi files, and later automated the process to create a service for it."
      ],
      "text/plain": [
       "<IPython.core.display.HTML object>"
      ]
     },
     "metadata": {},
     "output_type": "display_data"
    },
    {
     "data": {
      "text/html": [
       "--- Summary #<a href='https://news.ycombinator.com/item?id=35741722'>35741722</a> by semaj123 ---<br>I automated the process of registering for classes to make it easier and more successful."
      ],
      "text/plain": [
       "<IPython.core.display.HTML object>"
      ]
     },
     "metadata": {},
     "output_type": "display_data"
    },
    {
     "data": {
      "text/html": [
       "--- Summary #<a href='https://news.ycombinator.com/item?id=35741752'>35741752</a> by Champagn3Papi ---<br>The speaker created a CRM to automate their business administration, which has since grown into a fully-fledged CRM with many features and has been spread through word of mouth."
      ],
      "text/plain": [
       "<IPython.core.display.HTML object>"
      ]
     },
     "metadata": {},
     "output_type": "display_data"
    },
    {
     "data": {
      "text/html": [
       "--- Summary #<a href='https://news.ycombinator.com/item?id=35741769'>35741769</a> by j3d ---<br>I created three different projects to make life easier, each using different technologies such as React, Firebase, Svelte and Rust."
      ],
      "text/plain": [
       "<IPython.core.display.HTML object>"
      ]
     },
     "metadata": {},
     "output_type": "display_data"
    },
    {
     "data": {
      "text/html": [
       "--- Summary #<a href='https://news.ycombinator.com/item?id=35741784'>35741784</a> by leblancfg ---<br>A simple iPhone app was created with React Native to make tracking progress towards a goal of running 1000km this year easier."
      ],
      "text/plain": [
       "<IPython.core.display.HTML object>"
      ]
     },
     "metadata": {},
     "output_type": "display_data"
    },
    {
     "data": {
      "text/html": [
       "--- Summary #<a href='https://news.ycombinator.com/item?id=35741793'>35741793</a> by ScottWRobinson ---<br>This comment describes a server and app framework that can be used to host scripts to automate various tasks, such as checking for spelling mistakes, monitoring Hacker News and Reddit, syncing calendars, gathering financials and reports, and monitoring servers."
      ],
      "text/plain": [
       "<IPython.core.display.HTML object>"
      ]
     },
     "metadata": {},
     "output_type": "display_data"
    },
    {
     "data": {
      "text/html": [
       "--- Summary #<a href='https://news.ycombinator.com/item?id=35741801'>35741801</a> by _andrei_ ---<br>I have built a custom workflow to manage my knowledge, tasks and time, inspired by Org mode."
      ],
      "text/plain": [
       "<IPython.core.display.HTML object>"
      ]
     },
     "metadata": {},
     "output_type": "display_data"
    },
    {
     "data": {
      "text/html": [
       "--- Summary #<a href='https://news.ycombinator.com/item?id=35741844'>35741844</a> by yboris ---<br>Simplest File Renamer and Video Hub App are two apps created by the author for personal use, but were later shared online for free and Video Hub App was purchased by almost 5,000 people."
      ],
      "text/plain": [
       "<IPython.core.display.HTML object>"
      ]
     },
     "metadata": {},
     "output_type": "display_data"
    },
    {
     "data": {
      "text/html": [
       "--- Summary #<a href='https://news.ycombinator.com/item?id=35741847'>35741847</a> by dpbig ---<br>The speaker created an RSS aggregator to help them find content they enjoy on Reddit."
      ],
      "text/plain": [
       "<IPython.core.display.HTML object>"
      ]
     },
     "metadata": {},
     "output_type": "display_data"
    },
    {
     "data": {
      "text/html": [
       "--- Summary #<a href='https://news.ycombinator.com/item?id=35741848'>35741848</a> by bitcodavid ---<br>The speaker system was improved by building a 12-watt, 4-channel amplifier and adding two backlit analog VU meters for a more aesthetically pleasing look."
      ],
      "text/plain": [
       "<IPython.core.display.HTML object>"
      ]
     },
     "metadata": {},
     "output_type": "display_data"
    },
    {
     "data": {
      "text/html": [
       "--- Summary #<a href='https://news.ycombinator.com/item?id=35741849'>35741849</a> by busyant ---<br>The author built a camera trigger for their Nikon D750 using an Arduino, which allowed them to learn about electronics and take nice pictures of hummingbirds."
      ],
      "text/plain": [
       "<IPython.core.display.HTML object>"
      ]
     },
     "metadata": {},
     "output_type": "display_data"
    },
    {
     "data": {
      "text/html": [
       "--- Summary #<a href='https://news.ycombinator.com/item?id=35741895'>35741895</a> by zbtaylor1 ---<br>I had a great time building a working version of the Christmas lights from Stranger Things for a friend's Halloween party, which was a hit at the party."
      ],
      "text/plain": [
       "<IPython.core.display.HTML object>"
      ]
     },
     "metadata": {},
     "output_type": "display_data"
    },
    {
     "data": {
      "text/html": [
       "--- Summary #<a href='https://news.ycombinator.com/item?id=35741902'>35741902</a> by kilon ---<br>The comment describes a live coding library for Python and C that can reload code while it is executing, and can also delete old objects and their references from memory."
      ],
      "text/plain": [
       "<IPython.core.display.HTML object>"
      ]
     },
     "metadata": {},
     "output_type": "display_data"
    },
    {
     "data": {
      "text/html": [
       "--- Summary #<a href='https://news.ycombinator.com/item?id=35741907'>35741907</a> by cookiengineer ---<br>I decided to build my own web browser two years ago to use the internet more efficiently and it is still an unfinished ambitious project."
      ],
      "text/plain": [
       "<IPython.core.display.HTML object>"
      ]
     },
     "metadata": {},
     "output_type": "display_data"
    },
    {
     "data": {
      "text/html": [
       "--- Summary #<a href='https://news.ycombinator.com/item?id=35741972'>35741972</a> by jaredandrews ---<br>This comment describes a complex alarm system built with a Raspberry Pi, Arduino, HTMX, and other components, which can play music, adjust the brightness of a lamp, and provide a dashboard with weather and birthday information."
      ],
      "text/plain": [
       "<IPython.core.display.HTML object>"
      ]
     },
     "metadata": {},
     "output_type": "display_data"
    },
    {
     "data": {
      "text/html": [
       "--- Summary #<a href='https://news.ycombinator.com/item?id=35742006'>35742006</a> by mablopoule ---<br>I wrote a Web extension to disable auto-refresh in front-end frameworks, which has been successful in allowing me to have multiple tabs of the same page without my 'reference' tab refreshing itself."
      ],
      "text/plain": [
       "<IPython.core.display.HTML object>"
      ]
     },
     "metadata": {},
     "output_type": "display_data"
    },
    {
     "data": {
      "text/html": [
       "--- Summary #<a href='https://news.ycombinator.com/item?id=35742023'>35742023</a> by chankstein38 ---<br>I built a python app to extract relevant information from .APKG files and created a simple front end with HTML and Javascript to allow casual learning of information without feeling like a prisoner to it."
      ],
      "text/plain": [
       "<IPython.core.display.HTML object>"
      ]
     },
     "metadata": {},
     "output_type": "display_data"
    },
    {
     "data": {
      "text/html": [
       "--- Summary #<a href='https://news.ycombinator.com/item?id=35742026'>35742026</a> by codpiece ---<br>Creating a voiceboard for a family member in hospice was a successful way to help them communicate despite a stroke that prevented them from speaking."
      ],
      "text/plain": [
       "<IPython.core.display.HTML object>"
      ]
     },
     "metadata": {},
     "output_type": "display_data"
    },
    {
     "data": {
      "text/html": [
       "--- Summary #<a href='https://news.ycombinator.com/item?id=35742079'>35742079</a> by johnboiles ---<br>John Boiles built hardware, firmware and a Python proxy to connect a 20 year old SeaTalk bus to a newer radio with an AIS receiver, allowing him to access sensor data, GPS and AIS data on his computer and phone."
      ],
      "text/plain": [
       "<IPython.core.display.HTML object>"
      ]
     },
     "metadata": {},
     "output_type": "display_data"
    },
    {
     "data": {
      "text/html": [
       "--- Summary #<a href='https://news.ycombinator.com/item?id=35742083'>35742083</a> by pawptart ---<br>I built an emulator for HUB75 LED matrix panels to enable testing of different sizes without having to purchase the hardware."
      ],
      "text/plain": [
       "<IPython.core.display.HTML object>"
      ]
     },
     "metadata": {},
     "output_type": "display_data"
    },
    {
     "data": {
      "text/html": [
       "--- Summary #<a href='https://news.ycombinator.com/item?id=35742124'>35742124</a> by schemescape ---<br>md2blog creates a blog from Markdown files with features such as links between Markdown files and automatic tagging based on directory structure, and can be quickly rebuilt on an old netbook."
      ],
      "text/plain": [
       "<IPython.core.display.HTML object>"
      ]
     },
     "metadata": {},
     "output_type": "display_data"
    },
    {
     "data": {
      "text/html": [
       "--- Summary #<a href='https://news.ycombinator.com/item?id=35742171'>35742171</a> by steedsofwar ---<br>This transport allowed for XMPP-based communication to be relayed to a phone via SMS or email, allowing for remote availability."
      ],
      "text/plain": [
       "<IPython.core.display.HTML object>"
      ]
     },
     "metadata": {},
     "output_type": "display_data"
    },
    {
     "data": {
      "text/html": [
       "--- Summary #<a href='https://news.ycombinator.com/item?id=35742256'>35742256</a> by adityapurwa ---<br>I created https://playtune.app to provide an enjoyable rhythm game experience for me and my daughter, but I am considering removing the restart feature to prevent her from restarting when she misses a single note."
      ],
      "text/plain": [
       "<IPython.core.display.HTML object>"
      ]
     },
     "metadata": {},
     "output_type": "display_data"
    },
    {
     "data": {
      "text/html": [
       "--- Summary #<a href='https://news.ycombinator.com/item?id=35742319'>35742319</a> by dickfickling ---<br>A MacOS Apple TV remote was created to save time by eliminating the need to reach for a remote or phone when watching content on Apple TV."
      ],
      "text/plain": [
       "<IPython.core.display.HTML object>"
      ]
     },
     "metadata": {},
     "output_type": "display_data"
    },
    {
     "data": {
      "text/html": [
       "--- Summary #<a href='https://news.ycombinator.com/item?id=35742348'>35742348</a> by JohnFen ---<br>I have built a LoRa radio system to enable communication and location tracking between friends while camping in remote areas with mountainous terrain."
      ],
      "text/plain": [
       "<IPython.core.display.HTML object>"
      ]
     },
     "metadata": {},
     "output_type": "display_data"
    },
    {
     "data": {
      "text/html": [
       "--- Summary #<a href='https://news.ycombinator.com/item?id=35742474'>35742474</a> by tojikomorin ---<br>The comment suggests that although the \"icon switcher for chatGPT\" has no value, the user is unable to stop using it."
      ],
      "text/plain": [
       "<IPython.core.display.HTML object>"
      ]
     },
     "metadata": {},
     "output_type": "display_data"
    },
    {
     "data": {
      "text/html": [
       "--- Summary #<a href='https://news.ycombinator.com/item?id=35742516'>35742516</a> by NotYourLawyer ---<br>The Raspberry Pi temperature monitor was worth the effort as it successfully alerted the user when the temperature exceeded the threshold."
      ],
      "text/plain": [
       "<IPython.core.display.HTML object>"
      ]
     },
     "metadata": {},
     "output_type": "display_data"
    },
    {
     "data": {
      "text/html": [
       "--- Summary #<a href='https://news.ycombinator.com/item?id=35742642'>35742642</a> by rhubarbcustard ---<br>Creating a webapp to track habits can help to keep them consistent and make them easier to remember."
      ],
      "text/plain": [
       "<IPython.core.display.HTML object>"
      ]
     },
     "metadata": {},
     "output_type": "display_data"
    },
    {
     "data": {
      "text/html": [
       "--- Summary #<a href='https://news.ycombinator.com/item?id=35742672'>35742672</a> by zitterbewegung ---<br>Langchain can be used to access information through SMS, voice, and pictures, as an alternative to using Google or Wikipedia."
      ],
      "text/plain": [
       "<IPython.core.display.HTML object>"
      ]
     },
     "metadata": {},
     "output_type": "display_data"
    },
    {
     "data": {
      "text/html": [
       "--- Summary #<a href='https://news.ycombinator.com/item?id=35742716'>35742716</a> by TySchultz ---<br>The speaker created their own news digest app which uses embeddings, a relational graph and an LLM to quickly summarise news stories."
      ],
      "text/plain": [
       "<IPython.core.display.HTML object>"
      ]
     },
     "metadata": {},
     "output_type": "display_data"
    },
    {
     "data": {
      "text/html": [
       "--- Summary #<a href='https://news.ycombinator.com/item?id=35742739'>35742739</a> by thisismyuser ---<br>CitiBikeHistory.com provides access to the full station history for people who use CitiBike in NYC."
      ],
      "text/plain": [
       "<IPython.core.display.HTML object>"
      ]
     },
     "metadata": {},
     "output_type": "display_data"
    },
    {
     "data": {
      "text/html": [
       "--- Summary #<a href='https://news.ycombinator.com/item?id=35742826'>35742826</a> by robviren ---<br>I built an app to track my exercises using sensors and the camera, and I had a long-term vision to open it up to others, but I am too distracted to commit to it."
      ],
      "text/plain": [
       "<IPython.core.display.HTML object>"
      ]
     },
     "metadata": {},
     "output_type": "display_data"
    },
    {
     "data": {
      "text/html": [
       "--- Summary #<a href='https://news.ycombinator.com/item?id=35743075'>35743075</a> by raphaelty ---<br>The author has created a personal search engine which uses Github Action to call APIs and store content in an open source database, which they use at least twice a week."
      ],
      "text/plain": [
       "<IPython.core.display.HTML object>"
      ]
     },
     "metadata": {},
     "output_type": "display_data"
    },
    {
     "data": {
      "text/html": [
       "--- Summary #<a href='https://news.ycombinator.com/item?id=35743077'>35743077</a> by anonym29 ---<br>A DIY VIP Reservation system was created using Samsung Routines to automatically make a reservation at Texas Roadhouse, allowing the user to bypass long wait times and receive preferential service."
      ],
      "text/plain": [
       "<IPython.core.display.HTML object>"
      ]
     },
     "metadata": {},
     "output_type": "display_data"
    },
    {
     "data": {
      "text/html": [
       "--- Summary #<a href='https://news.ycombinator.com/item?id=35743091'>35743091</a> by goolz ---<br>The author's favorite piece of technology they created was a hex-mapper for a map builder, but the memory in the calculator was lost."
      ],
      "text/plain": [
       "<IPython.core.display.HTML object>"
      ]
     },
     "metadata": {},
     "output_type": "display_data"
    },
    {
     "data": {
      "text/html": [
       "--- Summary #<a href='https://news.ycombinator.com/item?id=35743133'>35743133</a> by arielweisberg ---<br>This comment describes a slideshow application that is fast, memory efficient, and has a user-friendly interface with gesture support, prefetching, and persistent cache state."
      ],
      "text/plain": [
       "<IPython.core.display.HTML object>"
      ]
     },
     "metadata": {},
     "output_type": "display_data"
    },
    {
     "data": {
      "text/html": [
       "--- Summary #<a href='https://news.ycombinator.com/item?id=35743206'>35743206</a> by NiagaraThistle ---<br>I built a few web apps to help me improve parts of my life and keep myself accountable."
      ],
      "text/plain": [
       "<IPython.core.display.HTML object>"
      ]
     },
     "metadata": {},
     "output_type": "display_data"
    },
    {
     "data": {
      "text/html": [
       "--- Summary #<a href='https://news.ycombinator.com/item?id=35743212'>35743212</a> by drewbeck ---<br>The speaker developed a software package over several years to help their father design circuit boards more quickly."
      ],
      "text/plain": [
       "<IPython.core.display.HTML object>"
      ]
     },
     "metadata": {},
     "output_type": "display_data"
    },
    {
     "data": {
      "text/html": [
       "--- Summary #<a href='https://news.ycombinator.com/item?id=35743289'>35743289</a> by syngrog66 ---<br>The author created a Terminal-like UI widget for Java AWT/Swing apps to combine the \"friendliness\" of a GUI with the power and conciseness of a terminal workflow."
      ],
      "text/plain": [
       "<IPython.core.display.HTML object>"
      ]
     },
     "metadata": {},
     "output_type": "display_data"
    },
    {
     "data": {
      "text/html": [
       "--- Summary #<a href='https://news.ycombinator.com/item?id=35743311'>35743311</a> by amir734jj ---<br>This website allows users to listen and download MP3s from online radio stations using an IceCast stream ripper."
      ],
      "text/plain": [
       "<IPython.core.display.HTML object>"
      ]
     },
     "metadata": {},
     "output_type": "display_data"
    },
    {
     "data": {
      "text/html": [
       "--- Summary #<a href='https://news.ycombinator.com/item?id=35743318'>35743318</a> by evandev ---<br>The todo thermal printer allows the user to write messages and todo items which are printed onto a receipt and stored in a document shelf organizer for long-term tasks."
      ],
      "text/plain": [
       "<IPython.core.display.HTML object>"
      ]
     },
     "metadata": {},
     "output_type": "display_data"
    },
    {
     "data": {
      "text/html": [
       "--- Summary #<a href='https://news.ycombinator.com/item?id=35743321'>35743321</a> by o_nate ---<br>A Raspberry Pi with a Hifi-berry card was used to create a web-controlled MP3 player connected to a stereo, written in Flask and VLC, which works well."
      ],
      "text/plain": [
       "<IPython.core.display.HTML object>"
      ]
     },
     "metadata": {},
     "output_type": "display_data"
    },
    {
     "data": {
      "text/html": [
       "--- Summary #<a href='https://news.ycombinator.com/item?id=35743476'>35743476</a> by bluetwo ---<br>This comment describes a virtual art gallery that uses Stable Diffusion to generate fictitious works from dead artists, and allows users to communicate with each other using WebRTC."
      ],
      "text/plain": [
       "<IPython.core.display.HTML object>"
      ]
     },
     "metadata": {},
     "output_type": "display_data"
    },
    {
     "data": {
      "text/html": [
       "--- Summary #<a href='https://news.ycombinator.com/item?id=35743718'>35743718</a> by servercobra ---<br>The team at the World Largest Trivia Contest has developed a range of coding projects to help them answer questions better."
      ],
      "text/plain": [
       "<IPython.core.display.HTML object>"
      ]
     },
     "metadata": {},
     "output_type": "display_data"
    },
    {
     "data": {
      "text/html": [
       "--- Summary #<a href='https://news.ycombinator.com/item?id=35743754'>35743754</a> by lxe ---<br>I created a program that can receive images from a geostationary satellite."
      ],
      "text/plain": [
       "<IPython.core.display.HTML object>"
      ]
     },
     "metadata": {},
     "output_type": "display_data"
    },
    {
     "data": {
      "text/html": [
       "--- Summary #<a href='https://news.ycombinator.com/item?id=35743815'>35743815</a> by dioxis ---<br>This project has the potential to be improved by adding battery backup and an RTC to ensure that the fish are fed in the event of a power outage."
      ],
      "text/plain": [
       "<IPython.core.display.HTML object>"
      ]
     },
     "metadata": {},
     "output_type": "display_data"
    },
    {
     "data": {
      "text/html": [
       "--- Summary #<a href='https://news.ycombinator.com/item?id=35743855'>35743855</a> by stasmo ---<br>I built a wagon with an electric motor, 1000W brushless DC motor, drive train, ESP32, temperature sensor, relay, Neopixels, LED channels and a milky white diffuser, which taught me a lot about electricity, batteries and the pitfalls of aliexpress."
      ],
      "text/plain": [
       "<IPython.core.display.HTML object>"
      ]
     },
     "metadata": {},
     "output_type": "display_data"
    },
    {
     "data": {
      "text/html": [
       "--- Summary #<a href='https://news.ycombinator.com/item?id=35743945'>35743945</a> by motohagiography ---<br>The author has re-implemented a version of the old Unix command line tools to work across their company's infrastructure, with plans to add more APIs for different systems."
      ],
      "text/plain": [
       "<IPython.core.display.HTML object>"
      ]
     },
     "metadata": {},
     "output_type": "display_data"
    },
    {
     "data": {
      "text/html": [
       "--- Summary #<a href='https://news.ycombinator.com/item?id=35743946'>35743946</a> by creature_x ---<br>The app SpicyChess uses spaced repetition and strict time constraints to improve pattern recognition for tactical motifs, and allows users to bookmark puzzles for review."
      ],
      "text/plain": [
       "<IPython.core.display.HTML object>"
      ]
     },
     "metadata": {},
     "output_type": "display_data"
    },
    {
     "data": {
      "text/html": [
       "--- Summary #<a href='https://news.ycombinator.com/item?id=35743993'>35743993</a> by denvaar ---<br>This shell script helps to quickly identify changes in a PostgreSQL database without needing to look into the code."
      ],
      "text/plain": [
       "<IPython.core.display.HTML object>"
      ]
     },
     "metadata": {},
     "output_type": "display_data"
    },
    {
     "data": {
      "text/html": [
       "--- Summary #<a href='https://news.ycombinator.com/item?id=35744039'>35744039</a> by parentheses ---<br>The speaker has open-sourced several shell scripts and functions that they have created for personal use."
      ],
      "text/plain": [
       "<IPython.core.display.HTML object>"
      ]
     },
     "metadata": {},
     "output_type": "display_data"
    },
    {
     "data": {
      "text/html": [
       "--- Summary #<a href='https://news.ycombinator.com/item?id=35744109'>35744109</a> by absoluteunit1 ---<br>I built a typing web app to improve my touch typing skills and it is one of the first projects I have used."
      ],
      "text/plain": [
       "<IPython.core.display.HTML object>"
      ]
     },
     "metadata": {},
     "output_type": "display_data"
    },
    {
     "data": {
      "text/html": [
       "--- Summary #<a href='https://news.ycombinator.com/item?id=35744110'>35744110</a> by difflens ---<br>DiffLens is a free diff tool that uses abstract syntax trees to make diffs more review-able, and is especially useful for those working with Typescript, Javascript, HTML and/or CSS."
      ],
      "text/plain": [
       "<IPython.core.display.HTML object>"
      ]
     },
     "metadata": {},
     "output_type": "display_data"
    },
    {
     "data": {
      "text/html": [
       "--- Summary #<a href='https://news.ycombinator.com/item?id=35744182'>35744182</a> by _boffin_ ---<br>The speaker is looking into directional speakers to politely ask the homeless person to quiet down without disturbing the neighbours."
      ],
      "text/plain": [
       "<IPython.core.display.HTML object>"
      ]
     },
     "metadata": {},
     "output_type": "display_data"
    },
    {
     "data": {
      "text/html": [
       "--- Summary #<a href='https://news.ycombinator.com/item?id=35744212'>35744212</a> by kubota ---<br>A reed switch and an esp-32 were used to create a \"humane\" catch and release mouse trap that sends an email notification when tripped."
      ],
      "text/plain": [
       "<IPython.core.display.HTML object>"
      ]
     },
     "metadata": {},
     "output_type": "display_data"
    },
    {
     "data": {
      "text/html": [
       "--- Summary #<a href='https://news.ycombinator.com/item?id=35744218'>35744218</a> by aj7 ---<br>The king is an important figure in society."
      ],
      "text/plain": [
       "<IPython.core.display.HTML object>"
      ]
     },
     "metadata": {},
     "output_type": "display_data"
    },
    {
     "data": {
      "text/html": [
       "--- Summary #<a href='https://news.ycombinator.com/item?id=35744222'>35744222</a> by kirubakaran ---<br>I created a website to help me plan my day and have been using it regularly since."
      ],
      "text/plain": [
       "<IPython.core.display.HTML object>"
      ]
     },
     "metadata": {},
     "output_type": "display_data"
    },
    {
     "data": {
      "text/html": [
       "--- Summary #<a href='https://news.ycombinator.com/item?id=35744475'>35744475</a> by nkantar ---<br>I have created scripts to help me with various life events, and have also written a script for work to generate a fair on-call rotation schedule."
      ],
      "text/plain": [
       "<IPython.core.display.HTML object>"
      ]
     },
     "metadata": {},
     "output_type": "display_data"
    },
    {
     "data": {
      "text/html": [
       "--- Summary #<a href='https://news.ycombinator.com/item?id=35744605'>35744605</a> by dserban ---<br>The data streaming application surfaces new data engineering jobs being posted on Applicant Tracking Systems, with most startups posting job descriptions to either Greenhouse or Lever."
      ],
      "text/plain": [
       "<IPython.core.display.HTML object>"
      ]
     },
     "metadata": {},
     "output_type": "display_data"
    },
    {
     "data": {
      "text/html": [
       "--- Summary #<a href='https://news.ycombinator.com/item?id=35744621'>35744621</a> by drcode ---<br>The app scrapes events from multiple sites, uses GPT-3.5 to rate them on 20 parameters, and uses a master formula based on personal interests and driving preferences to show the user the 10 most interesting events for any day."
      ],
      "text/plain": [
       "<IPython.core.display.HTML object>"
      ]
     },
     "metadata": {},
     "output_type": "display_data"
    },
    {
     "data": {
      "text/html": [
       "--- Summary #<a href='https://news.ycombinator.com/item?id=35744676'>35744676</a> by ftfish ---<br>The project allows users to search through dialogue in public domain films to quickly find vocal samples for music production."
      ],
      "text/plain": [
       "<IPython.core.display.HTML object>"
      ]
     },
     "metadata": {},
     "output_type": "display_data"
    },
    {
     "data": {
      "text/html": [
       "--- Summary #<a href='https://news.ycombinator.com/item?id=35744738'>35744738</a> by higgins ---<br>This tool allows users to partially encrypt and decrypt files based on the presence of special HEREDOCs, allowing them to keep a public daily journal while keeping some notes private."
      ],
      "text/plain": [
       "<IPython.core.display.HTML object>"
      ]
     },
     "metadata": {},
     "output_type": "display_data"
    },
    {
     "data": {
      "text/html": [
       "--- Summary #<a href='https://news.ycombinator.com/item?id=35744841'>35744841</a> by squeaky-clean ---<br>The author has created a guitar pedal delay effect with pitch shifting and an envelope follower which allows for infinite repeats when there is no playing."
      ],
      "text/plain": [
       "<IPython.core.display.HTML object>"
      ]
     },
     "metadata": {},
     "output_type": "display_data"
    },
    {
     "data": {
      "text/html": [
       "--- Summary #<a href='https://news.ycombinator.com/item?id=35744860'>35744860</a> by simonw ---<br>I created a personal data warehouse containing my social media data, location data, and genome, and presented it in a talk."
      ],
      "text/plain": [
       "<IPython.core.display.HTML object>"
      ]
     },
     "metadata": {},
     "output_type": "display_data"
    },
    {
     "data": {
      "text/html": [
       "--- Summary #<a href='https://news.ycombinator.com/item?id=35744863'>35744863</a> by Towaway69 ---<br>Node-RED was used to create a tool for creating a global mind map, which is a svg, but is not mobile conform."
      ],
      "text/plain": [
       "<IPython.core.display.HTML object>"
      ]
     },
     "metadata": {},
     "output_type": "display_data"
    },
    {
     "data": {
      "text/html": [
       "--- Summary #<a href='https://news.ycombinator.com/item?id=35744932'>35744932</a> by neverartful ---<br>I created a digital music collection management system in multiple languages to replace iTunes."
      ],
      "text/plain": [
       "<IPython.core.display.HTML object>"
      ]
     },
     "metadata": {},
     "output_type": "display_data"
    },
    {
     "data": {
      "text/html": [
       "--- Summary #<a href='https://news.ycombinator.com/item?id=35745035'>35745035</a> by rehevkor5 ---<br>This Speak & Spell simulator has two expansion modules and is as accurate as the emulated version at https://archive.org/details/hh_snspell."
      ],
      "text/plain": [
       "<IPython.core.display.HTML object>"
      ]
     },
     "metadata": {},
     "output_type": "display_data"
    },
    {
     "data": {
      "text/html": [
       "--- Summary #<a href='https://news.ycombinator.com/item?id=35745061'>35745061</a> by pugworthy ---<br>I made an Arduino-driven device with an OLED display to translate real dimensions into model parts' scale and display the scaled dimension on the OLED."
      ],
      "text/plain": [
       "<IPython.core.display.HTML object>"
      ]
     },
     "metadata": {},
     "output_type": "display_data"
    },
    {
     "data": {
      "text/html": [
       "--- Summary #<a href='https://news.ycombinator.com/item?id=35745109'>35745109</a> by nielsole ---<br>This project created a storage shelf that self-inventorizes based on strain gauges and LED strips to help with weekly shopping and automatically add items to a shopping list."
      ],
      "text/plain": [
       "<IPython.core.display.HTML object>"
      ]
     },
     "metadata": {},
     "output_type": "display_data"
    },
    {
     "data": {
      "text/html": [
       "--- Summary #<a href='https://news.ycombinator.com/item?id=35745123'>35745123</a> by sidwyn ---<br>A Chrome extension was built to save money and has been successful, resulting in thousands of dollars saved, and has been applied to Y Combinator."
      ],
      "text/plain": [
       "<IPython.core.display.HTML object>"
      ]
     },
     "metadata": {},
     "output_type": "display_data"
    },
    {
     "data": {
      "text/html": [
       "--- Summary #<a href='https://news.ycombinator.com/item?id=35745209'>35745209</a> by belthesar ---<br>Using simple tools, the author has improved their life significantly by creating a MIDI controller interface for their mixer, and a python daemon to adjust monitor brightness based on time of day."
      ],
      "text/plain": [
       "<IPython.core.display.HTML object>"
      ]
     },
     "metadata": {},
     "output_type": "display_data"
    },
    {
     "data": {
      "text/html": [
       "--- Summary #<a href='https://news.ycombinator.com/item?id=35745212'>35745212</a> by BonoboIO ---<br>Creating a RSS feed from the new products on Ikea.com made it easier to find new products."
      ],
      "text/plain": [
       "<IPython.core.display.HTML object>"
      ]
     },
     "metadata": {},
     "output_type": "display_data"
    },
    {
     "data": {
      "text/html": [
       "--- Summary #<a href='https://news.ycombinator.com/item?id=35745224'>35745224</a> by typhonic ---<br>A Raspberry Pi is used to control a cheap electric drill motor with an all thread rod, which acts as a worm gear, to open and close a door for a chicken run."
      ],
      "text/plain": [
       "<IPython.core.display.HTML object>"
      ]
     },
     "metadata": {},
     "output_type": "display_data"
    },
    {
     "data": {
      "text/html": [
       "--- Summary #<a href='https://news.ycombinator.com/item?id=35745227'>35745227</a> by madjam002 ---<br>A custom React renderer was built to declaratively control lighting fixtures, strobes, smoke machines, and MIDI controllers, making it intuitive to build user interfaces on a button grid MIDI controller using React design patterns."
      ],
      "text/plain": [
       "<IPython.core.display.HTML object>"
      ]
     },
     "metadata": {},
     "output_type": "display_data"
    },
    {
     "data": {
      "text/html": [
       "--- Summary #<a href='https://news.ycombinator.com/item?id=35745260'>35745260</a> by jojohack ---<br>The irony of the comment is that the downtown area of the hometown was destroyed by a fire two years after the fire insurance maps were taken."
      ],
      "text/plain": [
       "<IPython.core.display.HTML object>"
      ]
     },
     "metadata": {},
     "output_type": "display_data"
    },
    {
     "data": {
      "text/html": [
       "--- Summary #<a href='https://news.ycombinator.com/item?id=35745266'>35745266</a> by prevent6672 ---<br>The author has created an app to help learn how to type telex in Vietnamese, but is looking for feedback to improve it."
      ],
      "text/plain": [
       "<IPython.core.display.HTML object>"
      ]
     },
     "metadata": {},
     "output_type": "display_data"
    },
    {
     "data": {
      "text/html": [
       "--- Summary #<a href='https://news.ycombinator.com/item?id=35745320'>35745320</a> by NotPavlovsDog ---<br>The author has had positive results with Trans-cranial Direct Current Stimulation, but does not recommend it due to the lack of good science and the manufacturers' misquoting of study results for marketing and PR."
      ],
      "text/plain": [
       "<IPython.core.display.HTML object>"
      ]
     },
     "metadata": {},
     "output_type": "display_data"
    },
    {
     "data": {
      "text/html": [
       "--- Summary #<a href='https://news.ycombinator.com/item?id=35745364'>35745364</a> by Myrmornis ---<br>Myrmornis created a LaTeX editing environment in Emacs for their own use, but a few other people have also found it useful."
      ],
      "text/plain": [
       "<IPython.core.display.HTML object>"
      ]
     },
     "metadata": {},
     "output_type": "display_data"
    },
    {
     "data": {
      "text/html": [
       "--- Summary #<a href='https://news.ycombinator.com/item?id=35745382'>35745382</a> by 0xbadcafebee ---<br>This comment describes a custom Perl software that was created to provide an audible user interface, music interface, GPS navigation, wardriving interface and video player for a CarPC."
      ],
      "text/plain": [
       "<IPython.core.display.HTML object>"
      ]
     },
     "metadata": {},
     "output_type": "display_data"
    },
    {
     "data": {
      "text/html": [
       "--- Summary #<a href='https://news.ycombinator.com/item?id=35745443'>35745443</a> by Nicholas_C ---<br>Using Twilio, Google Maps API, and PythonAnywhere, I was able to create a system that sends me a text if my normal route to work would take more than a certain amount of time."
      ],
      "text/plain": [
       "<IPython.core.display.HTML object>"
      ]
     },
     "metadata": {},
     "output_type": "display_data"
    },
    {
     "data": {
      "text/html": [
       "--- Summary #<a href='https://news.ycombinator.com/item?id=35745449'>35745449</a> by darkest_ruby ---<br>The app was designed to meet the specific needs and requirements of the developer."
      ],
      "text/plain": [
       "<IPython.core.display.HTML object>"
      ]
     },
     "metadata": {},
     "output_type": "display_data"
    },
    {
     "data": {
      "text/html": [
       "--- Summary #<a href='https://news.ycombinator.com/item?id=35745476'>35745476</a> by 2fast4you ---<br>The interesting thing about this heads up display is that it uses a platform where every app is a Wayland client and the compositor positions them absolutely on the screen."
      ],
      "text/plain": [
       "<IPython.core.display.HTML object>"
      ]
     },
     "metadata": {},
     "output_type": "display_data"
    },
    {
     "data": {
      "text/html": [
       "--- Summary #<a href='https://news.ycombinator.com/item?id=35745486'>35745486</a> by blensor ---<br>The comment suggests that the speaker has built a hand tracking based VR workout app using GodotEngine which has since become an official app, but they still use it for themselves."
      ],
      "text/plain": [
       "<IPython.core.display.HTML object>"
      ]
     },
     "metadata": {},
     "output_type": "display_data"
    },
    {
     "data": {
      "text/html": [
       "--- Summary #<a href='https://news.ycombinator.com/item?id=35745523'>35745523</a> by qwerty3344 ---<br>This comment describes a script that allows users to control the speed of videos on any website using arrow keys."
      ],
      "text/plain": [
       "<IPython.core.display.HTML object>"
      ]
     },
     "metadata": {},
     "output_type": "display_data"
    },
    {
     "data": {
      "text/html": [
       "--- Summary #<a href='https://news.ycombinator.com/item?id=35745528'>35745528</a> by psadri ---<br>Attaching a semi-rigid aluminum duct to one of the fans improved the kitchen hood vent, allowing it to more effectively suck in cooking smells."
      ],
      "text/plain": [
       "<IPython.core.display.HTML object>"
      ]
     },
     "metadata": {},
     "output_type": "display_data"
    },
    {
     "data": {
      "text/html": [
       "--- Summary #<a href='https://news.ycombinator.com/item?id=35745550'>35745550</a> by bobbylox ---<br>The couple built a Laser Maze in their front yard for children to enjoy on Halloween."
      ],
      "text/plain": [
       "<IPython.core.display.HTML object>"
      ]
     },
     "metadata": {},
     "output_type": "display_data"
    },
    {
     "data": {
      "text/html": [
       "--- Summary #<a href='https://news.ycombinator.com/item?id=35745633'>35745633</a> by BryantD ---<br>Creating an aggregate indie movie theater calendar and RSS feed has vastly improved the author's quality of life."
      ],
      "text/plain": [
       "<IPython.core.display.HTML object>"
      ]
     },
     "metadata": {},
     "output_type": "display_data"
    },
    {
     "data": {
      "text/html": [
       "--- Summary #<a href='https://news.ycombinator.com/item?id=35745702'>35745702</a> by newmac ---<br>Our house has been able to maintain a comfortable temperature with the use of a commercial style HVAC system, BACNet protocol, and other data points."
      ],
      "text/plain": [
       "<IPython.core.display.HTML object>"
      ]
     },
     "metadata": {},
     "output_type": "display_data"
    },
    {
     "data": {
      "text/html": [
       "--- Summary #<a href='https://news.ycombinator.com/item?id=35745730'>35745730</a> by fzeindl ---<br>This comment describes a project that used a servo motor, Raspberry Pi, and geofencing to control a gas heater."
      ],
      "text/plain": [
       "<IPython.core.display.HTML object>"
      ]
     },
     "metadata": {},
     "output_type": "display_data"
    },
    {
     "data": {
      "text/html": [
       "--- Summary #<a href='https://news.ycombinator.com/item?id=35745768'>35745768</a> by timwaagh ---<br>I built an overbed table to hold a TV, but I'm not sure if it counts as a tech project."
      ],
      "text/plain": [
       "<IPython.core.display.HTML object>"
      ]
     },
     "metadata": {},
     "output_type": "display_data"
    },
    {
     "data": {
      "text/html": [
       "--- Summary #<a href='https://news.ycombinator.com/item?id=35746098'>35746098</a> by edbrown23 ---<br>I have been creating a web app that helps me keep track of cocktail recipes and liquor bottles in my home bar, and I have been blogging about it."
      ],
      "text/plain": [
       "<IPython.core.display.HTML object>"
      ]
     },
     "metadata": {},
     "output_type": "display_data"
    },
    {
     "data": {
      "text/html": [
       "--- Summary #<a href='https://news.ycombinator.com/item?id=35746137'>35746137</a> by almog ---<br>A service is being developed to allow orders to be placed using a satellite messenger, with items being shipped to predefined shipping addresses and delivery dates being taken into account."
      ],
      "text/plain": [
       "<IPython.core.display.HTML object>"
      ]
     },
     "metadata": {},
     "output_type": "display_data"
    },
    {
     "data": {
      "text/html": [
       "--- Summary #<a href='https://news.ycombinator.com/item?id=35746141'>35746141</a> by bhouston ---<br>This comment suggests that the WebGL, WebGL2, and WebGPU statistics tracker created by the author is useful."
      ],
      "text/plain": [
       "<IPython.core.display.HTML object>"
      ]
     },
     "metadata": {},
     "output_type": "display_data"
    },
    {
     "data": {
      "text/html": [
       "--- Summary #<a href='https://news.ycombinator.com/item?id=35746344'>35746344</a> by JoelMcCracken ---<br>The author has been working on two projects: a personal workstation automation/configuration project and a custom authoring format."
      ],
      "text/plain": [
       "<IPython.core.display.HTML object>"
      ]
     },
     "metadata": {},
     "output_type": "display_data"
    },
    {
     "data": {
      "text/html": [
       "--- Summary #<a href='https://news.ycombinator.com/item?id=35746363'>35746363</a> by skimdesk ---<br>The websocket server spawns a process for the first client in a room and routes subsequent clients to the same process, allowing for the creation of simple multiplayer backends."
      ],
      "text/plain": [
       "<IPython.core.display.HTML object>"
      ]
     },
     "metadata": {},
     "output_type": "display_data"
    },
    {
     "data": {
      "text/html": [
       "--- Summary #<a href='https://news.ycombinator.com/item?id=35746391'>35746391</a> by mmdtdev ---<br>The website 'MyMood.Today' allows users to observe the moods of people around the world."
      ],
      "text/plain": [
       "<IPython.core.display.HTML object>"
      ]
     },
     "metadata": {},
     "output_type": "display_data"
    },
    {
     "data": {
      "text/html": [
       "--- Summary #<a href='https://news.ycombinator.com/item?id=35746415'>35746415</a> by TheMagicHorsey ---<br>A webcam with a raspberry pi was built to show if a parking spot was available in front of the apartment, allowing friends to check if there was a vacancy before arriving."
      ],
      "text/plain": [
       "<IPython.core.display.HTML object>"
      ]
     },
     "metadata": {},
     "output_type": "display_data"
    },
    {
     "data": {
      "text/html": [
       "--- Summary #<a href='https://news.ycombinator.com/item?id=35746479'>35746479</a> by rsrsrs86 ---<br>In 2009, I created a jazz generator using Markov Chains and NetLogo to control pitch and note duration, which I used to jam with and have fun."
      ],
      "text/plain": [
       "<IPython.core.display.HTML object>"
      ]
     },
     "metadata": {},
     "output_type": "display_data"
    },
    {
     "data": {
      "text/html": [
       "--- Summary #<a href='https://news.ycombinator.com/item?id=35746498'>35746498</a> by nsm ---<br>The hacky combination of Playwright browser automation and Tesseract OCR can be used to split a Verizon group plan among members, but small changes may occur due to people travelling or changing devices."
      ],
      "text/plain": [
       "<IPython.core.display.HTML object>"
      ]
     },
     "metadata": {},
     "output_type": "display_data"
    },
    {
     "data": {
      "text/html": [
       "--- Summary #<a href='https://news.ycombinator.com/item?id=35746522'>35746522</a> by dzink ---<br>The comment highlights the speaker's entrepreneurial spirit and their various projects, which focus on providing privacy-respecting software, creating tools for scheduling, stock trading, recruiting, and a social network."
      ],
      "text/plain": [
       "<IPython.core.display.HTML object>"
      ]
     },
     "metadata": {},
     "output_type": "display_data"
    },
    {
     "data": {
      "text/html": [
       "--- Summary #<a href='https://news.ycombinator.com/item?id=35746585'>35746585</a> by allochthon ---<br>The web app I built keeps track of interesting links, organises them in a DAG, and stores changes to the graph in Git, which I have used daily for years, but I have not figured out how to communicate its value."
      ],
      "text/plain": [
       "<IPython.core.display.HTML object>"
      ]
     },
     "metadata": {},
     "output_type": "display_data"
    },
    {
     "data": {
      "text/html": [
       "--- Summary #<a href='https://news.ycombinator.com/item?id=35746740'>35746740</a> by bouk ---<br>The comment describes a set of functions that make it easier to navigate to and clone projects from Github, as well as running 'ls' every time a directory is changed."
      ],
      "text/plain": [
       "<IPython.core.display.HTML object>"
      ]
     },
     "metadata": {},
     "output_type": "display_data"
    },
    {
     "data": {
      "text/html": [
       "--- Summary #<a href='https://news.ycombinator.com/item?id=35746749'>35746749</a> by gadgetoid ---<br>In 2013, a Raspberry Pi Pinout website was created to collect pinouts for boards being tinkered with, which has since grown into a larger project."
      ],
      "text/plain": [
       "<IPython.core.display.HTML object>"
      ]
     },
     "metadata": {},
     "output_type": "display_data"
    },
    {
     "data": {
      "text/html": [
       "--- Summary #<a href='https://news.ycombinator.com/item?id=35746780'>35746780</a> by 08uhr ---<br>This tool allows users to create 3D tours with 3D models and capture camera poses to create slides for presentations."
      ],
      "text/plain": [
       "<IPython.core.display.HTML object>"
      ]
     },
     "metadata": {},
     "output_type": "display_data"
    },
    {
     "data": {
      "text/html": [
       "--- Summary #<a href='https://news.ycombinator.com/item?id=35746863'>35746863</a> by ifend ---<br>This site allows users to securely visualize their continuous glucose monitor data without the need for a server."
      ],
      "text/plain": [
       "<IPython.core.display.HTML object>"
      ]
     },
     "metadata": {},
     "output_type": "display_data"
    },
    {
     "data": {
      "text/html": [
       "--- Summary #<a href='https://news.ycombinator.com/item?id=35746914'>35746914</a> by hohg ---<br>This comment describes how to implement pagination by adding a scroll event listener to the window object and fetching content from the URL stored in the anchor tag's href attribute when the user has scrolled to the bottom of the page."
      ],
      "text/plain": [
       "<IPython.core.display.HTML object>"
      ]
     },
     "metadata": {},
     "output_type": "display_data"
    },
    {
     "data": {
      "text/html": [
       "--- Summary #<a href='https://news.ycombinator.com/item?id=35747037'>35747037</a> by verdverm ---<br>Declarative code generation with Hofstadter.io allows developers to make changes to multiple files in an application with minimal effort."
      ],
      "text/plain": [
       "<IPython.core.display.HTML object>"
      ]
     },
     "metadata": {},
     "output_type": "display_data"
    },
    {
     "data": {
      "text/html": [
       "--- Summary #<a href='https://news.ycombinator.com/item?id=35747338'>35747338</a> by uppa ---<br>This comment describes how the author used a combination of FM transmitter, cell phone and data-only SIM to track a stolen car and successfully recover it."
      ],
      "text/plain": [
       "<IPython.core.display.HTML object>"
      ]
     },
     "metadata": {},
     "output_type": "display_data"
    },
    {
     "data": {
      "text/html": [
       "--- Summary #<a href='https://news.ycombinator.com/item?id=35747527'>35747527</a> by zzlk ---<br>A website was created to provide a database of classic StarCraft 1 maps for easy searching."
      ],
      "text/plain": [
       "<IPython.core.display.HTML object>"
      ]
     },
     "metadata": {},
     "output_type": "display_data"
    },
    {
     "data": {
      "text/html": [
       "--- Summary #<a href='https://news.ycombinator.com/item?id=35747665'>35747665</a> by mindcrime ---<br>The OP feels imposter syndrome for not having any ideas for building things for themselves in their everyday life, but admits to having built one thing for themselves."
      ],
      "text/plain": [
       "<IPython.core.display.HTML object>"
      ]
     },
     "metadata": {},
     "output_type": "display_data"
    },
    {
     "data": {
      "text/html": [
       "--- Summary #<a href='https://news.ycombinator.com/item?id=35747744'>35747744</a> by tpkahlon ---<br>I have released the code for a website I created to broadcast live TV from around the world as open source on GitHub."
      ],
      "text/plain": [
       "<IPython.core.display.HTML object>"
      ]
     },
     "metadata": {},
     "output_type": "display_data"
    },
    {
     "data": {
      "text/html": [
       "--- Summary #<a href='https://news.ycombinator.com/item?id=35747987'>35747987</a> by martinrue ---<br>The text-only social network for the Gemini network created by Martin Rue has recently surpassed 1,000 users."
      ],
      "text/plain": [
       "<IPython.core.display.HTML object>"
      ]
     },
     "metadata": {},
     "output_type": "display_data"
    },
    {
     "data": {
      "text/html": [
       "--- Summary #<a href='https://news.ycombinator.com/item?id=35748181'>35748181</a> by gossterrible ---<br>The browser extension allows users to download Substack videos and view them in MP4 format instead of HSL streams."
      ],
      "text/plain": [
       "<IPython.core.display.HTML object>"
      ]
     },
     "metadata": {},
     "output_type": "display_data"
    },
    {
     "data": {
      "text/html": [
       "--- Summary #<a href='https://news.ycombinator.com/item?id=35748192'>35748192</a> by __tyler__ ---<br>A portfolio rebalancing tool was created to automate investment purchases."
      ],
      "text/plain": [
       "<IPython.core.display.HTML object>"
      ]
     },
     "metadata": {},
     "output_type": "display_data"
    },
    {
     "data": {
      "text/html": [
       "--- Summary #<a href='https://news.ycombinator.com/item?id=35748200'>35748200</a> by mltony ---<br>A blind developer has written various tools to make tasks more accessible, such as an add-on to read HN comments in a structured way, an add-on to make Jupyter edit boxes work with a screenreader, and an iOS app to help with navigation."
      ],
      "text/plain": [
       "<IPython.core.display.HTML object>"
      ]
     },
     "metadata": {},
     "output_type": "display_data"
    },
    {
     "data": {
      "text/html": [
       "--- Summary #<a href='https://news.ycombinator.com/item?id=35748266'>35748266</a> by spacec0wb0y ---<br>LoopTube.xyz provides a way for musicians who learn by ear to quickly loop a phrase of music, slow it down, speed it up, and move on to the next phase."
      ],
      "text/plain": [
       "<IPython.core.display.HTML object>"
      ]
     },
     "metadata": {},
     "output_type": "display_data"
    },
    {
     "data": {
      "text/html": [
       "--- Summary #<a href='https://news.ycombinator.com/item?id=35748340'>35748340</a> by ChancyChance ---<br>The author tried many methods to build a home security system, but eventually settled for a basic CCTV box, which took over 3 years to build."
      ],
      "text/plain": [
       "<IPython.core.display.HTML object>"
      ]
     },
     "metadata": {},
     "output_type": "display_data"
    },
    {
     "data": {
      "text/html": [
       "--- Summary #<a href='https://news.ycombinator.com/item?id=35748389'>35748389</a> by ocdtrekkie ---<br>The author created their own home automation controller which monitors a sump pump alarm and logs GPS and speed in a car, but they do not recommend others using it."
      ],
      "text/plain": [
       "<IPython.core.display.HTML object>"
      ]
     },
     "metadata": {},
     "output_type": "display_data"
    },
    {
     "data": {
      "text/html": [
       "--- Summary #<a href='https://news.ycombinator.com/item?id=35748401'>35748401</a> by plantain ---<br>Realtime, full-resolution satellite imagery is available globally through satview.skysight.io."
      ],
      "text/plain": [
       "<IPython.core.display.HTML object>"
      ]
     },
     "metadata": {},
     "output_type": "display_data"
    },
    {
     "data": {
      "text/html": [
       "--- Summary #<a href='https://news.ycombinator.com/item?id=35748464'>35748464</a> by ggm ---<br>This comment describes a design for a repeater node that uses a copper loop antenna and a Raspberry Pi to enable NTP synchronization of a Citizen radio controlled wristwatch outside of Europe and Asia."
      ],
      "text/plain": [
       "<IPython.core.display.HTML object>"
      ]
     },
     "metadata": {},
     "output_type": "display_data"
    },
    {
     "data": {
      "text/html": [
       "--- Summary #<a href='https://news.ycombinator.com/item?id=35748588'>35748588</a> by cardamomo ---<br>The author has created a tool to generate images of ten-frames for early elementary math education and has made it available online."
      ],
      "text/plain": [
       "<IPython.core.display.HTML object>"
      ]
     },
     "metadata": {},
     "output_type": "display_data"
    },
    {
     "data": {
      "text/html": [
       "--- Summary #<a href='https://news.ycombinator.com/item?id=35748616'>35748616</a> by koboll ---<br>I built a simple grid of images for browsing subreddits that are mostly/entirely images, which I enjoy using, but I haven't promoted it."
      ],
      "text/plain": [
       "<IPython.core.display.HTML object>"
      ]
     },
     "metadata": {},
     "output_type": "display_data"
    },
    {
     "data": {
      "text/html": [
       "--- Summary #<a href='https://news.ycombinator.com/item?id=35748647'>35748647</a> by weaksauce ---<br>I built a few web extensions to make my browsing experience more efficient and enjoyable, as well as a fan box to improve air circulation in my room."
      ],
      "text/plain": [
       "<IPython.core.display.HTML object>"
      ]
     },
     "metadata": {},
     "output_type": "display_data"
    },
    {
     "data": {
      "text/html": [
       "--- Summary #<a href='https://news.ycombinator.com/item?id=35748653'>35748653</a> by spaghettifythis ---<br>A web app was created to solve the problem of taking too long to play rounds in a MTG playgroup, which supports several players and has features such as a pause button and KO button."
      ],
      "text/plain": [
       "<IPython.core.display.HTML object>"
      ]
     },
     "metadata": {},
     "output_type": "display_data"
    },
    {
     "data": {
      "text/html": [
       "--- Summary #<a href='https://news.ycombinator.com/item?id=35748760'>35748760</a> by api_or_ipa ---<br>This comment describes a browser-based geolocation tool that uses polygon intersection algorithms to determine which of San Francisco's 117 neighborhoods a user is located in."
      ],
      "text/plain": [
       "<IPython.core.display.HTML object>"
      ]
     },
     "metadata": {},
     "output_type": "display_data"
    },
    {
     "data": {
      "text/html": [
       "--- Summary #<a href='https://news.ycombinator.com/item?id=35748762'>35748762</a> by burtonator ---<br>Emacs allowed the user to quickly and easily customise their environment with code, but the user's code became so extensive that it was like having their own operating system."
      ],
      "text/plain": [
       "<IPython.core.display.HTML object>"
      ]
     },
     "metadata": {},
     "output_type": "display_data"
    },
    {
     "data": {
      "text/html": [
       "--- Summary #<a href='https://news.ycombinator.com/item?id=35748791'>35748791</a> by Teknoman117 ---<br>The backup and update system for the desktop uses btrfs, snapshots, incremental transfers, writable snapshots, dynamic rEFInd configuration, and a dynamic DNS service to provide a secure and reliable environment."
      ],
      "text/plain": [
       "<IPython.core.display.HTML object>"
      ]
     },
     "metadata": {},
     "output_type": "display_data"
    },
    {
     "data": {
      "text/html": [
       "--- Summary #<a href='https://news.ycombinator.com/item?id=35748796'>35748796</a> by michaelhoney ---<br>This comment describes a JavaScript program that creates a timeline visualization from a text file containing start and end dates."
      ],
      "text/plain": [
       "<IPython.core.display.HTML object>"
      ]
     },
     "metadata": {},
     "output_type": "display_data"
    },
    {
     "data": {
      "text/html": [
       "--- Summary #<a href='https://news.ycombinator.com/item?id=35748830'>35748830</a> by eyelidlessness ---<br>After a bike accident, the speaker created a software implementation of a half-QWERTY keyboard as a life hack to keep working."
      ],
      "text/plain": [
       "<IPython.core.display.HTML object>"
      ]
     },
     "metadata": {},
     "output_type": "display_data"
    },
    {
     "data": {
      "text/html": [
       "--- Summary #<a href='https://news.ycombinator.com/item?id=35748832'>35748832</a> by kmano8 ---<br>This website provides a geoip lookup to tell users the golden hour time range for the day, inspired by the creator's photography habit."
      ],
      "text/plain": [
       "<IPython.core.display.HTML object>"
      ]
     },
     "metadata": {},
     "output_type": "display_data"
    },
    {
     "data": {
      "text/html": [
       "--- Summary #<a href='https://news.ycombinator.com/item?id=35748836'>35748836</a> by RockyMcNuts ---<br>I created a Python script to scrape a Reddit thread, use ChatGPT to extract the songs, and upload them to a Spotify playlist, which was an amusing project for a high school student."
      ],
      "text/plain": [
       "<IPython.core.display.HTML object>"
      ]
     },
     "metadata": {},
     "output_type": "display_data"
    },
    {
     "data": {
      "text/html": [
       "--- Summary #<a href='https://news.ycombinator.com/item?id=35748861'>35748861</a> by stanislavb ---<br>I created an RSS/website reader tailored to my own requirements and vision, but open for anyone to use."
      ],
      "text/plain": [
       "<IPython.core.display.HTML object>"
      ]
     },
     "metadata": {},
     "output_type": "display_data"
    },
    {
     "data": {
      "text/html": [
       "--- Summary #<a href='https://news.ycombinator.com/item?id=35748879'>35748879</a> by m3kw9 ---<br>A countdown timer with a calculator UI was built for the Apple Watch, primarily for cooking, but it can also be used for other purposes."
      ],
      "text/plain": [
       "<IPython.core.display.HTML object>"
      ]
     },
     "metadata": {},
     "output_type": "display_data"
    },
    {
     "data": {
      "text/html": [
       "--- Summary #<a href='https://news.ycombinator.com/item?id=35748883'>35748883</a> by mncharity ---<br>I was interested in software development inside a physical XR environment, using diverse input latencies to create complex event processing and backtrackable UI state."
      ],
      "text/plain": [
       "<IPython.core.display.HTML object>"
      ]
     },
     "metadata": {},
     "output_type": "display_data"
    },
    {
     "data": {
      "text/html": [
       "--- Summary #<a href='https://news.ycombinator.com/item?id=35748888'>35748888</a> by raydiatian ---<br>I created a system using acid, a coffee grinder, and an arduino that successfully opened my front door, despite my friends' disbelief."
      ],
      "text/plain": [
       "<IPython.core.display.HTML object>"
      ]
     },
     "metadata": {},
     "output_type": "display_data"
    },
    {
     "data": {
      "text/html": [
       "--- Summary #<a href='https://news.ycombinator.com/item?id=35748917'>35748917</a> by hypertexthero ---<br>The compass rose and back azimuth are useful for navigating in both real and virtual worlds."
      ],
      "text/plain": [
       "<IPython.core.display.HTML object>"
      ]
     },
     "metadata": {},
     "output_type": "display_data"
    },
    {
     "data": {
      "text/html": [
       "--- Summary #<a href='https://news.ycombinator.com/item?id=35748960'>35748960</a> by billylo ---<br>The \"Plane Above Me\" app allows users to identify aircrafts flying above them by listening to airplane sound and providing flight info and aircraft data."
      ],
      "text/plain": [
       "<IPython.core.display.HTML object>"
      ]
     },
     "metadata": {},
     "output_type": "display_data"
    },
    {
     "data": {
      "text/html": [
       "--- Summary #<a href='https://news.ycombinator.com/item?id=35748966'>35748966</a> by orsenthil ---<br>The author created a browser extension to help them focus and stay positive after being fired from Twitter in 2015."
      ],
      "text/plain": [
       "<IPython.core.display.HTML object>"
      ]
     },
     "metadata": {},
     "output_type": "display_data"
    },
    {
     "data": {
      "text/html": [
       "--- Summary #<a href='https://news.ycombinator.com/item?id=35749068'>35749068</a> by totalhack ---<br>Zillion is a Python data modeling and analytics library that was built for one person, but is available for everyone to use."
      ],
      "text/plain": [
       "<IPython.core.display.HTML object>"
      ]
     },
     "metadata": {},
     "output_type": "display_data"
    },
    {
     "data": {
      "text/html": [
       "--- Summary #<a href='https://news.ycombinator.com/item?id=35749111'>35749111</a> by atlgator ---<br>This Chrome extension informs users if listings from Redfin, Zillow, and Loopnet are located in a HUBZone."
      ],
      "text/plain": [
       "<IPython.core.display.HTML object>"
      ]
     },
     "metadata": {},
     "output_type": "display_data"
    },
    {
     "data": {
      "text/html": [
       "--- Summary #<a href='https://news.ycombinator.com/item?id=35749131'>35749131</a> by khalidx ---<br>I built a tool called Jarvis.tel to use AI on the go and to show off AI to people who are unfamiliar with it."
      ],
      "text/plain": [
       "<IPython.core.display.HTML object>"
      ]
     },
     "metadata": {},
     "output_type": "display_data"
    },
    {
     "data": {
      "text/html": [
       "--- Summary #<a href='https://news.ycombinator.com/item?id=35749554'>35749554</a> by fnordpiglet ---<br>This device uses a copper block, TECs, and a CO2 canister to make dry ice without adiabatic cooling, with a 3D printed insulated enclosure and a mechanical pump to move the water cooling."
      ],
      "text/plain": [
       "<IPython.core.display.HTML object>"
      ]
     },
     "metadata": {},
     "output_type": "display_data"
    },
    {
     "data": {
      "text/html": [
       "--- Summary #<a href='https://news.ycombinator.com/item?id=35749579'>35749579</a> by pigcat ---<br>My family has developed a system to manage my grandmother's frequent calls due to her dementia, which involves rotating relatives to answer her calls and providing a voicemail if no one is available."
      ],
      "text/plain": [
       "<IPython.core.display.HTML object>"
      ]
     },
     "metadata": {},
     "output_type": "display_data"
    },
    {
     "data": {
      "text/html": [
       "--- Summary #<a href='https://news.ycombinator.com/item?id=35749728'>35749728</a> by mvkel ---<br>Yaycorn.com is an example of how SMS can be used as a customer service tool."
      ],
      "text/plain": [
       "<IPython.core.display.HTML object>"
      ]
     },
     "metadata": {},
     "output_type": "display_data"
    },
    {
     "data": {
      "text/html": [
       "--- Summary #<a href='https://news.ycombinator.com/item?id=35749735'>35749735</a> by istjohn ---<br>GPT-3.5 and GPT-4 were used to create an annotated version of Into the Wild with Spanish pronunciation and definitions for less common English words, as well as summaries in Spanish, to help the author's son, an English language learner, understand the text."
      ],
      "text/plain": [
       "<IPython.core.display.HTML object>"
      ]
     },
     "metadata": {},
     "output_type": "display_data"
    },
    {
     "data": {
      "text/html": [
       "--- Summary #<a href='https://news.ycombinator.com/item?id=35749756'>35749756</a> by drbojingle ---<br>Using Treesitter and Ultisnips in Neovim allows for context-sensitive snippets in an editor."
      ],
      "text/plain": [
       "<IPython.core.display.HTML object>"
      ]
     },
     "metadata": {},
     "output_type": "display_data"
    },
    {
     "data": {
      "text/html": [
       "--- Summary #<a href='https://news.ycombinator.com/item?id=35749790'>35749790</a> by dividefuel ---<br>I built my own music player using Web technologies to cater to my preferences and needs, and have learned a lot in the process."
      ],
      "text/plain": [
       "<IPython.core.display.HTML object>"
      ]
     },
     "metadata": {},
     "output_type": "display_data"
    },
    {
     "data": {
      "text/html": [
       "--- Summary #<a href='https://news.ycombinator.com/item?id=35749864'>35749864</a> by rootw0rm ---<br>The author created a typing program to help with communication with their wife, which was better than anything they could find at the time."
      ],
      "text/plain": [
       "<IPython.core.display.HTML object>"
      ]
     },
     "metadata": {},
     "output_type": "display_data"
    },
    {
     "data": {
      "text/html": [
       "--- Summary #<a href='https://news.ycombinator.com/item?id=35749917'>35749917</a> by Aperocky ---<br>Using the terminal CLI 'hnterminal', you can browse and comment on HN."
      ],
      "text/plain": [
       "<IPython.core.display.HTML object>"
      ]
     },
     "metadata": {},
     "output_type": "display_data"
    },
    {
     "data": {
      "text/html": [
       "--- Summary #<a href='https://news.ycombinator.com/item?id=35749991'>35749991</a> by aloukissas ---<br>A thing was built that reads the DynamoDB kinesis stream and broadcasts the changes over Phoenix pubsub via a websocket connection to the client, similar to supabase realtime or firebase."
      ],
      "text/plain": [
       "<IPython.core.display.HTML object>"
      ]
     },
     "metadata": {},
     "output_type": "display_data"
    },
    {
     "data": {
      "text/html": [
       "--- Summary #<a href='https://news.ycombinator.com/item?id=35750006'>35750006</a> by feifan ---<br>The app I am working on allows users to browse a codebase as a list of constructs, such as classes and methods, and emphasises the named entities rather than the implementation, which is different to text editors."
      ],
      "text/plain": [
       "<IPython.core.display.HTML object>"
      ]
     },
     "metadata": {},
     "output_type": "display_data"
    },
    {
     "data": {
      "text/html": [
       "--- Summary #<a href='https://news.ycombinator.com/item?id=35750108'>35750108</a> by noisycarlos ---<br>Making a vertical mouse with macro buttons can help reduce wrist pain."
      ],
      "text/plain": [
       "<IPython.core.display.HTML object>"
      ]
     },
     "metadata": {},
     "output_type": "display_data"
    },
    {
     "data": {
      "text/html": [
       "--- Summary #<a href='https://news.ycombinator.com/item?id=35750145'>35750145</a> by westoque ---<br>A script was created to alert the user when a Tesla with the desired configuration became available in their area, allowing them to purchase it quickly."
      ],
      "text/plain": [
       "<IPython.core.display.HTML object>"
      ]
     },
     "metadata": {},
     "output_type": "display_data"
    },
    {
     "data": {
      "text/html": [
       "--- Summary #<a href='https://news.ycombinator.com/item?id=35750195'>35750195</a> by BWStearns ---<br>A 3D printed mount was designed and printed to fit the railing and solar panel for the solar powered string lights on the balcony."
      ],
      "text/plain": [
       "<IPython.core.display.HTML object>"
      ]
     },
     "metadata": {},
     "output_type": "display_data"
    },
    {
     "data": {
      "text/html": [
       "--- Summary #<a href='https://news.ycombinator.com/item?id=35750200'>35750200</a> by unixhero ---<br>Proxmox is an impressive hypervisor installation, and Hewlett Packard Z840 machines are great nodes to use with it."
      ],
      "text/plain": [
       "<IPython.core.display.HTML object>"
      ]
     },
     "metadata": {},
     "output_type": "display_data"
    },
    {
     "data": {
      "text/html": [
       "--- Summary #<a href='https://news.ycombinator.com/item?id=35750370'>35750370</a> by sir-g ---<br>This bookmark allows the user to quickly navigate to the next top-level comment on HN by finding all comments with indent==\"0\" and following a link with a unique id."
      ],
      "text/plain": [
       "<IPython.core.display.HTML object>"
      ]
     },
     "metadata": {},
     "output_type": "display_data"
    },
    {
     "data": {
      "text/html": [
       "--- Summary #<a href='https://news.ycombinator.com/item?id=35750380'>35750380</a> by bruckie ---<br>I built an interlock system that uses Hall effect sensors, neodymium magnets, a MOSFET, an optocoupler, a push button switch, an electromagnetic lock, an Arduino nano, CAT5, JST XH connectors, XT30U connectors, custom PCBs, 3D-printed enclosures, a temperature sensor, and a laser-printed label to detect when the ovens or drawer are open and prevent the kitchen door from being opened."
      ],
      "text/plain": [
       "<IPython.core.display.HTML object>"
      ]
     },
     "metadata": {},
     "output_type": "display_data"
    },
    {
     "data": {
      "text/html": [
       "--- Summary #<a href='https://news.ycombinator.com/item?id=35750406'>35750406</a> by shri_krishna ---<br>A couple in a long distance relationship used Zoom to stay connected, but when it started restricting time limits, they created their own WebRTC app to maintain the connection."
      ],
      "text/plain": [
       "<IPython.core.display.HTML object>"
      ]
     },
     "metadata": {},
     "output_type": "display_data"
    },
    {
     "data": {
      "text/html": [
       "--- Summary #<a href='https://news.ycombinator.com/item?id=35750431'>35750431</a> by roeles ---<br>Using a script to analyse my commutes and produce a graph of traffic peaks enabled me to avoid traffic jams."
      ],
      "text/plain": [
       "<IPython.core.display.HTML object>"
      ]
     },
     "metadata": {},
     "output_type": "display_data"
    },
    {
     "data": {
      "text/html": [
       "--- Summary #<a href='https://news.ycombinator.com/item?id=35750444'>35750444</a> by votick ---<br>The comment is about attempting to create an internet connection using the TCP/IP protocol and a radio transceiver."
      ],
      "text/plain": [
       "<IPython.core.display.HTML object>"
      ]
     },
     "metadata": {},
     "output_type": "display_data"
    },
    {
     "data": {
      "text/html": [
       "--- Summary #<a href='https://news.ycombinator.com/item?id=35750510'>35750510</a> by gcanyon ---<br>I created an automated system to keep my desktop, downloads and documents folders organised by archiving old items into a folder named for the date and time."
      ],
      "text/plain": [
       "<IPython.core.display.HTML object>"
      ]
     },
     "metadata": {},
     "output_type": "display_data"
    },
    {
     "data": {
      "text/html": [
       "--- Summary #<a href='https://news.ycombinator.com/item?id=35750531'>35750531</a> by cutler ---<br>The Python script saves time by automatically checking and comparing the versions of programming languages and JDKs on the user's Mac with the latest versions available."
      ],
      "text/plain": [
       "<IPython.core.display.HTML object>"
      ]
     },
     "metadata": {},
     "output_type": "display_data"
    },
    {
     "data": {
      "text/html": [
       "--- Summary #<a href='https://news.ycombinator.com/item?id=35750900'>35750900</a> by chaitanyapramod ---<br>The chrome extension I created has been helping new developers on their journey, which I am glad for as I enjoyed my time with it."
      ],
      "text/plain": [
       "<IPython.core.display.HTML object>"
      ]
     },
     "metadata": {},
     "output_type": "display_data"
    },
    {
     "data": {
      "text/html": [
       "--- Summary #<a href='https://news.ycombinator.com/item?id=35751182'>35751182</a> by sslnx ---<br>The author created a Linux tunnel program to join multiple internet connections into one, in order to access the internet more affordably."
      ],
      "text/plain": [
       "<IPython.core.display.HTML object>"
      ]
     },
     "metadata": {},
     "output_type": "display_data"
    },
    {
     "data": {
      "text/html": [
       "--- Summary #<a href='https://news.ycombinator.com/item?id=35751511'>35751511</a> by unsupp0rted ---<br>I have created a white noise generator to help me block out the loud noise from the mosque speaker that wakes me up early in the morning."
      ],
      "text/plain": [
       "<IPython.core.display.HTML object>"
      ]
     },
     "metadata": {},
     "output_type": "display_data"
    },
    {
     "data": {
      "text/html": [
       "--- Summary #<a href='https://news.ycombinator.com/item?id=35751519'>35751519</a> by aabbcc1241 ---<br>I created a template to help freelancers easily set up a Typescript RPC API with JWT integration, typed client SDKs, and upcoming runtime type checking."
      ],
      "text/plain": [
       "<IPython.core.display.HTML object>"
      ]
     },
     "metadata": {},
     "output_type": "display_data"
    },
    {
     "data": {
      "text/html": [
       "--- Summary #<a href='https://news.ycombinator.com/item?id=35751535'>35751535</a> by nmrtn ---<br>The author has created a platform to track the activities of a group of people on Twitter, but only a few people are using it and the author is the most active user."
      ],
      "text/plain": [
       "<IPython.core.display.HTML object>"
      ]
     },
     "metadata": {},
     "output_type": "display_data"
    },
    {
     "data": {
      "text/html": [
       "--- Summary #<a href='https://news.ycombinator.com/item?id=35751748'>35751748</a> by altered_state ---<br>A quick fix solution was created to reduce the number of times the air source heat pump switches on and off per day, increasing its lifespan and reducing energy bills."
      ],
      "text/plain": [
       "<IPython.core.display.HTML object>"
      ]
     },
     "metadata": {},
     "output_type": "display_data"
    },
    {
     "data": {
      "text/html": [
       "--- Summary #<a href='https://news.ycombinator.com/item?id=35751879'>35751879</a> by coreymaass ---<br>The comment outlines the technologies used for various projects, such as WordPress for a recipe site, React and PHP for tag-based time tracking, and vanilla JavaScript and HTML for a configurable image cropper."
      ],
      "text/plain": [
       "<IPython.core.display.HTML object>"
      ]
     },
     "metadata": {},
     "output_type": "display_data"
    },
    {
     "data": {
      "text/html": [
       "--- Summary #<a href='https://news.ycombinator.com/item?id=35751939'>35751939</a> by gabboman ---<br>I created a small social network that is connected to Mastodon and has 400 registered users, with 20 of them posting in the last month."
      ],
      "text/plain": [
       "<IPython.core.display.HTML object>"
      ]
     },
     "metadata": {},
     "output_type": "display_data"
    },
    {
     "data": {
      "text/html": [
       "--- Summary #<a href='https://news.ycombinator.com/item?id=35752135'>35752135</a> by wslh ---<br>A friend and I modified a Commodore 64 and Amiga to share one display and two keyboards, demonstrating the multitasking capabilities of the Amiga and requiring knowledge of electronics and 68k assembly programming."
      ],
      "text/plain": [
       "<IPython.core.display.HTML object>"
      ]
     },
     "metadata": {},
     "output_type": "display_data"
    },
    {
     "data": {
      "text/html": [
       "--- Summary #<a href='https://news.ycombinator.com/item?id=35752138'>35752138</a> by cies ---<br>The scripts allow for the cue-points, comments, scores, and BPMs of the FLOSS DJ Software Mixxx to be stored in the audio file, eliminating the need to reset them."
      ],
      "text/plain": [
       "<IPython.core.display.HTML object>"
      ]
     },
     "metadata": {},
     "output_type": "display_data"
    },
    {
     "data": {
      "text/html": [
       "--- Summary #<a href='https://news.ycombinator.com/item?id=35752564'>35752564</a> by megalomanu ---<br>This person created a crawler to send a weekly digest of movies that have been out for more than a year at art house cinemas in Paris."
      ],
      "text/plain": [
       "<IPython.core.display.HTML object>"
      ]
     },
     "metadata": {},
     "output_type": "display_data"
    },
    {
     "data": {
      "text/html": [
       "--- Summary #<a href='https://news.ycombinator.com/item?id=35752703'>35752703</a> by devd00d ---<br>Using Lynx is an easier way to scrape data than using CURL when APIs are not available."
      ],
      "text/plain": [
       "<IPython.core.display.HTML object>"
      ]
     },
     "metadata": {},
     "output_type": "display_data"
    },
    {
     "data": {
      "text/html": [
       "--- Summary #<a href='https://news.ycombinator.com/item?id=35752733'>35752733</a> by blatant303 ---<br>The comment discusses the development of an automatic turret to guard a pond against herons using a Raspberry Pi 4, YOLO computer vision, a coffee machine pump, a 3D printed polycarbonate pressure tank, and sg90 servos."
      ],
      "text/plain": [
       "<IPython.core.display.HTML object>"
      ]
     },
     "metadata": {},
     "output_type": "display_data"
    },
    {
     "data": {
      "text/html": [
       "--- Summary #<a href='https://news.ycombinator.com/item?id=35752765'>35752765</a> by bruno_rzn ---<br>The author has created a MIDI controller with knobs and a full HD display, and is looking for a name for the product."
      ],
      "text/plain": [
       "<IPython.core.display.HTML object>"
      ]
     },
     "metadata": {},
     "output_type": "display_data"
    },
    {
     "data": {
      "text/html": [
       "--- Summary #<a href='https://news.ycombinator.com/item?id=35752822'>35752822</a> by florencehinder ---<br>I created a tool to convert ePubs to audio using Microsoft's txt to speech model and plan to make it general purpose."
      ],
      "text/plain": [
       "<IPython.core.display.HTML object>"
      ]
     },
     "metadata": {},
     "output_type": "display_data"
    },
    {
     "data": {
      "text/html": [
       "--- Summary #<a href='https://news.ycombinator.com/item?id=35752993'>35752993</a> by ultim8k ---<br>The app helps people to spell out their long names over the phone using the phonetic alphabet."
      ],
      "text/plain": [
       "<IPython.core.display.HTML object>"
      ]
     },
     "metadata": {},
     "output_type": "display_data"
    },
    {
     "data": {
      "text/html": [
       "--- Summary #<a href='https://news.ycombinator.com/item?id=35752998'>35752998</a> by reshland ---<br>A webserver with a UI and an ESP32 board with Wifi and a relay was created to replace the need for an upgrade to an older Bezzerra coffee grinder with a grind timer."
      ],
      "text/plain": [
       "<IPython.core.display.HTML object>"
      ]
     },
     "metadata": {},
     "output_type": "display_data"
    },
    {
     "data": {
      "text/html": [
       "--- Summary #<a href='https://news.ycombinator.com/item?id=35753059'>35753059</a> by iainctduncan ---<br>Scheme for Max is an extension to the Max/MSP visual music programming environment that allows users to script Max and Ableton Live with Scheme, enabling interactive coding, algorithmic music, live coding, macros, and more."
      ],
      "text/plain": [
       "<IPython.core.display.HTML object>"
      ]
     },
     "metadata": {},
     "output_type": "display_data"
    },
    {
     "data": {
      "text/html": [
       "--- Summary #<a href='https://news.ycombinator.com/item?id=35753113'>35753113</a> by potomak ---<br>This project involved integrating with multiple APIs and deploying a static website with AWS Lambda functions and DynamoDB for storage."
      ],
      "text/plain": [
       "<IPython.core.display.HTML object>"
      ]
     },
     "metadata": {},
     "output_type": "display_data"
    },
    {
     "data": {
      "text/html": [
       "--- Summary #<a href='https://news.ycombinator.com/item?id=35753283'>35753283</a> by knaik94 ---<br>Exploring light therapy and novel techniques has enabled me to create a smart light app that adjusts the lamp color based on sunrise and sunset hours, as well as a wifi enabled timer and a raspberry pi monitoring my washing machine."
      ],
      "text/plain": [
       "<IPython.core.display.HTML object>"
      ]
     },
     "metadata": {},
     "output_type": "display_data"
    },
    {
     "data": {
      "text/html": [
       "--- Summary #<a href='https://news.ycombinator.com/item?id=35753544'>35753544</a> by l2dy ---<br>The Discord bot is more powerful and easier to maintain than calendar and reminder apps for recurring tasks with complex timing."
      ],
      "text/plain": [
       "<IPython.core.display.HTML object>"
      ]
     },
     "metadata": {},
     "output_type": "display_data"
    },
    {
     "data": {
      "text/html": [
       "--- Summary #<a href='https://news.ycombinator.com/item?id=35753566'>35753566</a> by aryeshalev ---<br>A developer has created a chat web app with features such as notifications, link sharing, end-to-end encryption, and support for large files, which can be accessed from any device."
      ],
      "text/plain": [
       "<IPython.core.display.HTML object>"
      ]
     },
     "metadata": {},
     "output_type": "display_data"
    },
    {
     "data": {
      "text/html": [
       "--- Summary #<a href='https://news.ycombinator.com/item?id=35753635'>35753635</a> by Syzygies ---<br>Analog circuit code golfing can be used to create complex circuits with few components, even with limited electronics knowledge."
      ],
      "text/plain": [
       "<IPython.core.display.HTML object>"
      ]
     },
     "metadata": {},
     "output_type": "display_data"
    },
    {
     "data": {
      "text/html": [
       "--- Summary #<a href='https://news.ycombinator.com/item?id=35753978'>35753978</a> by kevinwang ---<br>The goal of this project is to create a collection of tools to pull in personal data from various sources to create a \"quantified self\"."
      ],
      "text/plain": [
       "<IPython.core.display.HTML object>"
      ]
     },
     "metadata": {},
     "output_type": "display_data"
    },
    {
     "data": {
      "text/html": [
       "--- Summary #<a href='https://news.ycombinator.com/item?id=35754055'>35754055</a> by rounakdatta ---<br>The Telegram bot is a solution to a personal pain point of discovering and being reminded of the content found on Reddit."
      ],
      "text/plain": [
       "<IPython.core.display.HTML object>"
      ]
     },
     "metadata": {},
     "output_type": "display_data"
    },
    {
     "data": {
      "text/html": [
       "--- Summary #<a href='https://news.ycombinator.com/item?id=35754117'>35754117</a> by papaysailor ---<br>The comment is about a sailing simulator built in an OpenGL engine, which can be seen in videos at the given link."
      ],
      "text/plain": [
       "<IPython.core.display.HTML object>"
      ]
     },
     "metadata": {},
     "output_type": "display_data"
    },
    {
     "data": {
      "text/html": [
       "--- Summary #<a href='https://news.ycombinator.com/item?id=35754208'>35754208</a> by coreymaass ---<br>This comment discusses four different projects, each of which uses different technologies such as React, PHP, and WordPress."
      ],
      "text/plain": [
       "<IPython.core.display.HTML object>"
      ]
     },
     "metadata": {},
     "output_type": "display_data"
    },
    {
     "data": {
      "text/html": [
       "--- Summary #<a href='https://news.ycombinator.com/item?id=35754234'>35754234</a> by papaysailor ---<br>The comment is about building a sailing simulator using an OpenGL engine."
      ],
      "text/plain": [
       "<IPython.core.display.HTML object>"
      ]
     },
     "metadata": {},
     "output_type": "display_data"
    },
    {
     "data": {
      "text/html": [
       "--- Summary #<a href='https://news.ycombinator.com/item?id=35754633'>35754633</a> by edem ---<br>I have been working on two projects: a text gui library called Zircon and a toolkit called Cobalt which includes a scheduler, an event bus and a state machine library."
      ],
      "text/plain": [
       "<IPython.core.display.HTML object>"
      ]
     },
     "metadata": {},
     "output_type": "display_data"
    },
    {
     "data": {
      "text/html": [
       "--- Summary #<a href='https://news.ycombinator.com/item?id=35754844'>35754844</a> by blmayer ---<br>The app created during the COVID-19 pandemic helps people cook with ingredients they have at home to reduce the need to go to the supermarket, especially for those who are at higher risk."
      ],
      "text/plain": [
       "<IPython.core.display.HTML object>"
      ]
     },
     "metadata": {},
     "output_type": "display_data"
    },
    {
     "data": {
      "text/html": [
       "--- Summary #<a href='https://news.ycombinator.com/item?id=35754946'>35754946</a> by maebert ---<br>I created a system that allowed my parents to remotely turn on their sauna before they arrived home, so it would be warm when they arrived."
      ],
      "text/plain": [
       "<IPython.core.display.HTML object>"
      ]
     },
     "metadata": {},
     "output_type": "display_data"
    },
    {
     "data": {
      "text/html": [
       "--- Summary #<a href='https://news.ycombinator.com/item?id=35755120'>35755120</a> by manceraio ---<br>My flatmate's loud TV was solved by using a Raspberry Pi with an IR led to control the volume remotely from my phone."
      ],
      "text/plain": [
       "<IPython.core.display.HTML object>"
      ]
     },
     "metadata": {},
     "output_type": "display_data"
    },
    {
     "data": {
      "text/html": [
       "--- Summary #<a href='https://news.ycombinator.com/item?id=35755161'>35755161</a> by yarrak ---<br>The admin panel for the startup is free for all users."
      ],
      "text/plain": [
       "<IPython.core.display.HTML object>"
      ]
     },
     "metadata": {},
     "output_type": "display_data"
    },
    {
     "data": {
      "text/html": [
       "--- Summary #<a href='https://news.ycombinator.com/item?id=35755583'>35755583</a> by maddynator ---<br>This mac app provides a range of development tools, including a to-do list, notes, formatter, converter, timer, and more, all of which are 100% local and offline."
      ],
      "text/plain": [
       "<IPython.core.display.HTML object>"
      ]
     },
     "metadata": {},
     "output_type": "display_data"
    },
    {
     "data": {
      "text/html": [
       "--- Summary #<a href='https://news.ycombinator.com/item?id=35755714'>35755714</a> by collaborative ---<br>6groups.com provides a range of collaborative tools for personal and family use, including a group calendar, organigram maker and family tree maker."
      ],
      "text/plain": [
       "<IPython.core.display.HTML object>"
      ]
     },
     "metadata": {},
     "output_type": "display_data"
    },
    {
     "data": {
      "text/html": [
       "--- Summary #<a href='https://news.ycombinator.com/item?id=35756008'>35756008</a> by vermaden ---<br>Vermaden documents their interesting work on FreeBSD in detail on their blog."
      ],
      "text/plain": [
       "<IPython.core.display.HTML object>"
      ]
     },
     "metadata": {},
     "output_type": "display_data"
    },
    {
     "data": {
      "text/html": [
       "--- Summary #<a href='https://news.ycombinator.com/item?id=35756074'>35756074</a> by gravitate ---<br>The owner has 100 custom virtual machines for various purposes."
      ],
      "text/plain": [
       "<IPython.core.display.HTML object>"
      ]
     },
     "metadata": {},
     "output_type": "display_data"
    },
    {
     "data": {
      "text/html": [
       "--- Summary #<a href='https://news.ycombinator.com/item?id=35756139'>35756139</a> by psnehanshu ---<br>I built my own file manager called HostBrowser which had a lot of functionality and a UI inspired by phpLiteAdmin."
      ],
      "text/plain": [
       "<IPython.core.display.HTML object>"
      ]
     },
     "metadata": {},
     "output_type": "display_data"
    },
    {
     "data": {
      "text/html": [
       "--- Summary #<a href='https://news.ycombinator.com/item?id=35756256'>35756256</a> by melenaos ---<br>The library is easy to create components with, but cannot be shared with others."
      ],
      "text/plain": [
       "<IPython.core.display.HTML object>"
      ]
     },
     "metadata": {},
     "output_type": "display_data"
    },
    {
     "data": {
      "text/html": [
       "--- Summary #<a href='https://news.ycombinator.com/item?id=35756280'>35756280</a> by tikimcfee ---<br>The author has built a 3D text viewing app for Mac and iOS with an AR mode, and is working on personal dictionary building and visualizing to further improve the app."
      ],
      "text/plain": [
       "<IPython.core.display.HTML object>"
      ]
     },
     "metadata": {},
     "output_type": "display_data"
    },
    {
     "data": {
      "text/html": [
       "--- Summary #<a href='https://news.ycombinator.com/item?id=35756406'>35756406</a> by cmcconomy ---<br>I created a filter service using Python to make an IPTV service with many channels more manageable, but I have since stopped subscribing to IPTV and the project is abandoned."
      ],
      "text/plain": [
       "<IPython.core.display.HTML object>"
      ]
     },
     "metadata": {},
     "output_type": "display_data"
    },
    {
     "data": {
      "text/html": [
       "--- Summary #<a href='https://news.ycombinator.com/item?id=35756777'>35756777</a> by AIBeats ---<br>An AI was created using python and stable baselines to beat the first and second bosses in the game Dark Souls 3 by using cheat engine to read the game state and keypresses with sleeps in between each step."
      ],
      "text/plain": [
       "<IPython.core.display.HTML object>"
      ]
     },
     "metadata": {},
     "output_type": "display_data"
    },
    {
     "data": {
      "text/html": [
       "--- Summary #<a href='https://news.ycombinator.com/item?id=35756902'>35756902</a> by sporadicallyjoe ---<br>This service provides conversation starters based on a topic or observation, which can be accessed by texting 1 (434) 404 6822."
      ],
      "text/plain": [
       "<IPython.core.display.HTML object>"
      ]
     },
     "metadata": {},
     "output_type": "display_data"
    },
    {
     "data": {
      "text/html": [
       "--- Summary #<a href='https://news.ycombinator.com/item?id=35756953'>35756953</a> by s-xyz ---<br>Umbrellas are difficult to carry and can be easily lost or broken, making it difficult to find the right balance between size, cost, and protection."
      ],
      "text/plain": [
       "<IPython.core.display.HTML object>"
      ]
     },
     "metadata": {},
     "output_type": "display_data"
    },
    {
     "data": {
      "text/html": [
       "--- Summary #<a href='https://news.ycombinator.com/item?id=35757035'>35757035</a> by evanreichard ---<br>A service and web app has been built to listen to Frigate car events via MQTT, analyse video and image to determine the make and model, OCR the plate, and use fuzzy matching logic to match it to a historical vehicle, which has been running successfully for a few months and can be used to search vehicles by make or model."
      ],
      "text/plain": [
       "<IPython.core.display.HTML object>"
      ]
     },
     "metadata": {},
     "output_type": "display_data"
    },
    {
     "data": {
      "text/html": [
       "--- Summary #<a href='https://news.ycombinator.com/item?id=35757241'>35757241</a> by crawsome ---<br>Using GameMaker 2, it is possible to create an Xbox gamepad that can be used as an instrument and also serves as a controller tester."
      ],
      "text/plain": [
       "<IPython.core.display.HTML object>"
      ]
     },
     "metadata": {},
     "output_type": "display_data"
    },
    {
     "data": {
      "text/html": [
       "--- Summary #<a href='https://news.ycombinator.com/item?id=35757307'>35757307</a> by tejaskumthekar ---<br>This Chrome extension provided a single view to control YouTube and Jenkins, making it easier to find and manage them."
      ],
      "text/plain": [
       "<IPython.core.display.HTML object>"
      ]
     },
     "metadata": {},
     "output_type": "display_data"
    },
    {
     "data": {
      "text/html": [
       "--- Summary #<a href='https://news.ycombinator.com/item?id=35757585'>35757585</a> by akeck ---<br>A pipeline was created to convert a novel file into a Kindle Book and PDFs with scene breaks."
      ],
      "text/plain": [
       "<IPython.core.display.HTML object>"
      ]
     },
     "metadata": {},
     "output_type": "display_data"
    },
    {
     "data": {
      "text/html": [
       "--- Summary #<a href='https://news.ycombinator.com/item?id=35757728'>35757728</a> by mammothpizza ---<br>This app is the first Android app that predicts landing locations for kit rockets."
      ],
      "text/plain": [
       "<IPython.core.display.HTML object>"
      ]
     },
     "metadata": {},
     "output_type": "display_data"
    },
    {
     "data": {
      "text/html": [
       "--- Summary #<a href='https://news.ycombinator.com/item?id=35757976'>35757976</a> by rchrdchn ---<br>The chrome extension 'TinyTags' allows users to quickly add custom tags to URLs with one click."
      ],
      "text/plain": [
       "<IPython.core.display.HTML object>"
      ]
     },
     "metadata": {},
     "output_type": "display_data"
    },
    {
     "data": {
      "text/html": [
       "--- Summary #<a href='https://news.ycombinator.com/item?id=35758140'>35758140</a> by DitheringIdiot ---<br>I created a todo list extension to help with procrastination, but it is no longer being developed due to features being built into OS and Google not liking it."
      ],
      "text/plain": [
       "<IPython.core.display.HTML object>"
      ]
     },
     "metadata": {},
     "output_type": "display_data"
    },
    {
     "data": {
      "text/html": [
       "--- Summary #<a href='https://news.ycombinator.com/item?id=35758194'>35758194</a> by WorldPeas ---<br>This automated DVCAM riprig simplifies the process of manually encoding, deinterlacing, normalizing and encoding to x265, logging and sending to an editor friend."
      ],
      "text/plain": [
       "<IPython.core.display.HTML object>"
      ]
     },
     "metadata": {},
     "output_type": "display_data"
    },
    {
     "data": {
      "text/html": [
       "--- Summary #<a href='https://news.ycombinator.com/item?id=35758214'>35758214</a> by KomoD ---<br>The comment discusses two projects: an app that tracks products in grocery stores and a desktop app for toggling ANC on bluetooth headphones."
      ],
      "text/plain": [
       "<IPython.core.display.HTML object>"
      ]
     },
     "metadata": {},
     "output_type": "display_data"
    },
    {
     "data": {
      "text/html": [
       "--- Summary #<a href='https://news.ycombinator.com/item?id=35758487'>35758487</a> by montag ---<br>I enjoy solving puzzles to create music, such as converting Nintendo 64 to MIDI+soundfonts and enabling support for Farbrausch V2."
      ],
      "text/plain": [
       "<IPython.core.display.HTML object>"
      ]
     },
     "metadata": {},
     "output_type": "display_data"
    },
    {
     "data": {
      "text/html": [
       "--- Summary #<a href='https://news.ycombinator.com/item?id=35758659'>35758659</a> by js2 ---<br>I built an EAP proxy to bypass AT&T's router requirements, which has been running successfully for years."
      ],
      "text/plain": [
       "<IPython.core.display.HTML object>"
      ]
     },
     "metadata": {},
     "output_type": "display_data"
    },
    {
     "data": {
      "text/html": [
       "--- Summary #<a href='https://news.ycombinator.com/item?id=35758805'>35758805</a> by winsbe01 ---<br>The family has created a webapp to store and manage genealogy information, including photos, and a feature to calculate relationships between two people in the database."
      ],
      "text/plain": [
       "<IPython.core.display.HTML object>"
      ]
     },
     "metadata": {},
     "output_type": "display_data"
    },
    {
     "data": {
      "text/html": [
       "--- Summary #<a href='https://news.ycombinator.com/item?id=35759407'>35759407</a> by patrickwiseman ---<br>This proxy number allows her to protect herself from her ex-husband's harassment while providing evidence to the court."
      ],
      "text/plain": [
       "<IPython.core.display.HTML object>"
      ]
     },
     "metadata": {},
     "output_type": "display_data"
    },
    {
     "data": {
      "text/html": [
       "--- Summary #<a href='https://news.ycombinator.com/item?id=35759572'>35759572</a> by askiiart ---<br>An Arduino was used to control the fan speed of a Tesla K80 GPU to make it quieter when idle."
      ],
      "text/plain": [
       "<IPython.core.display.HTML object>"
      ]
     },
     "metadata": {},
     "output_type": "display_data"
    },
    {
     "data": {
      "text/html": [
       "--- Summary #<a href='https://news.ycombinator.com/item?id=35759736'>35759736</a> by mikewarot ---<br>I had fun using an SDR dongle and my laptop to receive and decode VOR broadcasts and use it to point towards the local station."
      ],
      "text/plain": [
       "<IPython.core.display.HTML object>"
      ]
     },
     "metadata": {},
     "output_type": "display_data"
    },
    {
     "data": {
      "text/html": [
       "--- Summary #<a href='https://news.ycombinator.com/item?id=35759743'>35759743</a> by nier ---<br>The colorimeter made by the color-blind person allows them to quickly identify colors on screen and copy the color value to the clipboard."
      ],
      "text/plain": [
       "<IPython.core.display.HTML object>"
      ]
     },
     "metadata": {},
     "output_type": "display_data"
    },
    {
     "data": {
      "text/html": [
       "--- Summary #<a href='https://news.ycombinator.com/item?id=35759955'>35759955</a> by qnleigh ---<br>Using a custom e-reader with a flashcard system and in-line translations helped the speaker to learn more vocabulary and read at a higher level."
      ],
      "text/plain": [
       "<IPython.core.display.HTML object>"
      ]
     },
     "metadata": {},
     "output_type": "display_data"
    },
    {
     "data": {
      "text/html": [
       "--- Summary #<a href='https://news.ycombinator.com/item?id=35759982'>35759982</a> by bilater ---<br>This comment suggests creating an AI-only Twitter where AIs interact with each other based on real news, which could be a fascinating game of life simulation."
      ],
      "text/plain": [
       "<IPython.core.display.HTML object>"
      ]
     },
     "metadata": {},
     "output_type": "display_data"
    },
    {
     "data": {
      "text/html": [
       "--- Summary #<a href='https://news.ycombinator.com/item?id=35760531'>35760531</a> by dharisd ---<br>Dharis set up Yolo with Deepsort to track vehicles passing by his place and created a dashboard to show stats and graphs to monitor the road traffic."
      ],
      "text/plain": [
       "<IPython.core.display.HTML object>"
      ]
     },
     "metadata": {},
     "output_type": "display_data"
    },
    {
     "data": {
      "text/html": [
       "--- Summary #<a href='https://news.ycombinator.com/item?id=35760545'>35760545</a> by camelCaser ---<br>I am working on ways to manage a Telegram bot that allows users to subscribe to Hacker News posts based on keywords, so that people who want to use it do not have to host their own instance."
      ],
      "text/plain": [
       "<IPython.core.display.HTML object>"
      ]
     },
     "metadata": {},
     "output_type": "display_data"
    },
    {
     "data": {
      "text/html": [
       "--- Summary #<a href='https://news.ycombinator.com/item?id=35760582'>35760582</a> by rmdes ---<br>The website https://osintukraine.com has been sending out 2TB of videos every month since last year, although it is unclear who is using it."
      ],
      "text/plain": [
       "<IPython.core.display.HTML object>"
      ]
     },
     "metadata": {},
     "output_type": "display_data"
    },
    {
     "data": {
      "text/html": [
       "--- Summary #<a href='https://news.ycombinator.com/item?id=35760720'>35760720</a> by lewiscarson ---<br>A webapp was created to help with memorising large amounts of information by creating flashcard sets from text."
      ],
      "text/plain": [
       "<IPython.core.display.HTML object>"
      ]
     },
     "metadata": {},
     "output_type": "display_data"
    },
    {
     "data": {
      "text/html": [
       "--- Summary #<a href='https://news.ycombinator.com/item?id=35760973'>35760973</a> by speleding ---<br>I built a \"Harry Potter clock\" to display family member locations, but had to switch from Apple's \"Find My\" to Google Maps due to web access closure, and am now looking to use Home Assistant app and API for a better experience."
      ],
      "text/plain": [
       "<IPython.core.display.HTML object>"
      ]
     },
     "metadata": {},
     "output_type": "display_data"
    },
    {
     "data": {
      "text/html": [
       "--- Summary #<a href='https://news.ycombinator.com/item?id=35761235'>35761235</a> by rolisz ---<br>This tool has enabled the speaker to consume more audio content, but the queue continues to grow."
      ],
      "text/plain": [
       "<IPython.core.display.HTML object>"
      ]
     },
     "metadata": {},
     "output_type": "display_data"
    },
    {
     "data": {
      "text/html": [
       "--- Summary #<a href='https://news.ycombinator.com/item?id=35761536'>35761536</a> by anshumankmr ---<br>The author has created a blog using Angular and Strapi, and is planning to port it to Gatsby, and has also written a Telegram bot to notify them of stock price changes."
      ],
      "text/plain": [
       "<IPython.core.display.HTML object>"
      ]
     },
     "metadata": {},
     "output_type": "display_data"
    },
    {
     "data": {
      "text/html": [
       "--- Summary #<a href='https://news.ycombinator.com/item?id=35761555'>35761555</a> by austin-cheney ---<br>The node/browser OS serves as a peer-to-peer command and control and file system agent."
      ],
      "text/plain": [
       "<IPython.core.display.HTML object>"
      ]
     },
     "metadata": {},
     "output_type": "display_data"
    },
    {
     "data": {
      "text/html": [
       "--- Summary #<a href='https://news.ycombinator.com/item?id=35761633'>35761633</a> by teddyX ---<br>3D printers have revolutionised the process of tinkering."
      ],
      "text/plain": [
       "<IPython.core.display.HTML object>"
      ]
     },
     "metadata": {},
     "output_type": "display_data"
    },
    {
     "data": {
      "text/html": [
       "--- Summary #<a href='https://news.ycombinator.com/item?id=35761678'>35761678</a> by afiodorov ---<br>The comment suggests that it is difficult to read all the ideas presented."
      ],
      "text/plain": [
       "<IPython.core.display.HTML object>"
      ]
     },
     "metadata": {},
     "output_type": "display_data"
    },
    {
     "data": {
      "text/html": [
       "--- Summary #<a href='https://news.ycombinator.com/item?id=35761923'>35761923</a> by tonnoz ---<br>I built a smart smoke detector for a fraction of the cost of the cheapest option available online."
      ],
      "text/plain": [
       "<IPython.core.display.HTML object>"
      ]
     },
     "metadata": {},
     "output_type": "display_data"
    },
    {
     "data": {
      "text/html": [
       "--- Summary #<a href='https://news.ycombinator.com/item?id=35761977'>35761977</a> by andreasscherman ---<br>A calculator has been created to help people living in the Nordics calculate when they can absorb Vitamin D from the sun."
      ],
      "text/plain": [
       "<IPython.core.display.HTML object>"
      ]
     },
     "metadata": {},
     "output_type": "display_data"
    },
    {
     "data": {
      "text/html": [
       "--- Summary #<a href='https://news.ycombinator.com/item?id=35762006'>35762006</a> by Nekorosu ---<br>The author created a system using a Behringer X32 Rack mixer board, Launch Control XL, OSC, Pure Data and a Raspberry PI to create a near-consumer-level product that could be quickly powered up and used."
      ],
      "text/plain": [
       "<IPython.core.display.HTML object>"
      ]
     },
     "metadata": {},
     "output_type": "display_data"
    },
    {
     "data": {
      "text/html": [
       "--- Summary #<a href='https://news.ycombinator.com/item?id=35762149'>35762149</a> by yamoriyamori ---<br>A website was built to help plan round-trip commutes into Boston using the MBTA API and Leaflet.js, which has been helpful for the author's weekly plans."
      ],
      "text/plain": [
       "<IPython.core.display.HTML object>"
      ]
     },
     "metadata": {},
     "output_type": "display_data"
    },
    {
     "data": {
      "text/html": [
       "--- Summary #<a href='https://news.ycombinator.com/item?id=35762867'>35762867</a> by thomashabets2 ---<br>The satisfaction of doing open source work comes from the surprise of others using it."
      ],
      "text/plain": [
       "<IPython.core.display.HTML object>"
      ]
     },
     "metadata": {},
     "output_type": "display_data"
    },
    {
     "data": {
      "text/html": [
       "--- Summary #<a href='https://news.ycombinator.com/item?id=35762987'>35762987</a> by ulrischa ---<br>A local HTML and JavaScript-based notebook can be used to synchronise data across multiple computers."
      ],
      "text/plain": [
       "<IPython.core.display.HTML object>"
      ]
     },
     "metadata": {},
     "output_type": "display_data"
    },
    {
     "data": {
      "text/html": [
       "--- Summary #<a href='https://news.ycombinator.com/item?id=35763383'>35763383</a> by therealonedrive ---<br>The mobile app allows the user to quickly create games from their phone, so they don't need to be at a computer to code."
      ],
      "text/plain": [
       "<IPython.core.display.HTML object>"
      ]
     },
     "metadata": {},
     "output_type": "display_data"
    },
    {
     "data": {
      "text/html": [
       "--- Summary #<a href='https://news.ycombinator.com/item?id=35763437'>35763437</a> by inssein ---<br>Utiliti.dev provides a set of utilities, including private notes with end-to-end encryption, for personal use."
      ],
      "text/plain": [
       "<IPython.core.display.HTML object>"
      ]
     },
     "metadata": {},
     "output_type": "display_data"
    },
    {
     "data": {
      "text/html": [
       "--- Summary #<a href='https://news.ycombinator.com/item?id=35764287'>35764287</a> by ThomasMidgley ---<br>An Arduino-based automatic chicken flap was built to open horizontally, and it had the advantage of opening at 8am and closing at sunset (+30 minutes)."
      ],
      "text/plain": [
       "<IPython.core.display.HTML object>"
      ]
     },
     "metadata": {},
     "output_type": "display_data"
    },
    {
     "data": {
      "text/html": [
       "--- Summary #<a href='https://news.ycombinator.com/item?id=35764654'>35764654</a> by jacobkranz ---<br>The Go library handles all caching and cache invalidation automatically, and updates the cache keys after an insert or update to keep the cache hot."
      ],
      "text/plain": [
       "<IPython.core.display.HTML object>"
      ]
     },
     "metadata": {},
     "output_type": "display_data"
    },
    {
     "data": {
      "text/html": [
       "--- Summary #<a href='https://news.ycombinator.com/item?id=35764754'>35764754</a> by alexpotato ---<br>My wife was impressed when I trained our puppy to be quiet using a web based interface and the Linux utility espeak."
      ],
      "text/plain": [
       "<IPython.core.display.HTML object>"
      ]
     },
     "metadata": {},
     "output_type": "display_data"
    },
    {
     "data": {
      "text/html": [
       "--- Summary #<a href='https://news.ycombinator.com/item?id=35764771'>35764771</a> by arionhardison ---<br>AI health coaches can help people with Crohn's Disease to manage their condition."
      ],
      "text/plain": [
       "<IPython.core.display.HTML object>"
      ]
     },
     "metadata": {},
     "output_type": "display_data"
    },
    {
     "data": {
      "text/html": [
       "--- Summary #<a href='https://news.ycombinator.com/item?id=35765812'>35765812</a> by AlexVN ---<br>A system was built to estimate the assymptotic complexity of custom algorithms based on np.einsum, which also supports chains of einsum expressions and uses opt_einsum to optimise the asymptotics."
      ],
      "text/plain": [
       "<IPython.core.display.HTML object>"
      ]
     },
     "metadata": {},
     "output_type": "display_data"
    },
    {
     "data": {
      "text/html": [
       "--- Summary #<a href='https://news.ycombinator.com/item?id=35766347'>35766347</a> by thedcninja ---<br>The website \"IsItMuddy.com\" uses weather APIs to provide information about the mud level in a given location, so users can determine if it is safe to take their dog to play fetch in a field."
      ],
      "text/plain": [
       "<IPython.core.display.HTML object>"
      ]
     },
     "metadata": {},
     "output_type": "display_data"
    },
    {
     "data": {
      "text/html": [
       "--- Summary #<a href='https://news.ycombinator.com/item?id=35768884'>35768884</a> by natewaddoups ---<br>The comment discusses the development of a 3D world editor and simulator GUI for ODE, which was created with a visual programming language and had multilevel undo/redo capabilities, but is now available on GitHub."
      ],
      "text/plain": [
       "<IPython.core.display.HTML object>"
      ]
     },
     "metadata": {},
     "output_type": "display_data"
    }
   ],
   "source": [
    "for c in data:\n",
    "    link = f\"<a href='https://news.ycombinator.com/item?id={c['c']['id_']}'>{c['c']['id_']}</a>\"\n",
    "    title = f\"--- Summary #{link} by {c['c']['author']} ---\"\n",
    "    display(HTML(f\"{title}<br>{c['summary']}\"))"
   ]
  },
  {
   "cell_type": "code",
   "execution_count": null,
   "id": "4a53a20e",
   "metadata": {},
   "outputs": [],
   "source": []
  }
 ],
 "metadata": {
  "kernelspec": {
   "display_name": "Python 3 (ipykernel)",
   "language": "python",
   "name": "python3"
  },
  "language_info": {
   "codemirror_mode": {
    "name": "ipython",
    "version": 3
   },
   "file_extension": ".py",
   "mimetype": "text/x-python",
   "name": "python",
   "nbconvert_exporter": "python",
   "pygments_lexer": "ipython3",
   "version": "3.11.2"
  }
 },
 "nbformat": 4,
 "nbformat_minor": 5
}
